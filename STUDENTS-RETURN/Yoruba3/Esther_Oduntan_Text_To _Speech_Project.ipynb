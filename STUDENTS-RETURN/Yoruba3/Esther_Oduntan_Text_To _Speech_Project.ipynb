{
  "nbformat": 4,
  "nbformat_minor": 0,
  "metadata": {
    "accelerator": "GPU",
    "colab": {
      "name": "Esther_Oduntan_Project_CTC.ipynb",
      "provenance": [],
      "collapsed_sections": [],
      "toc_visible": true
    },
    "kernelspec": {
      "display_name": "Python 3",
      "language": "python",
      "name": "python3"
    },
    "language_info": {
      "codemirror_mode": {
        "name": "ipython",
        "version": 3
      },
      "file_extension": ".py",
      "mimetype": "text/x-python",
      "name": "python",
      "nbconvert_exporter": "python",
      "pygments_lexer": "ipython3",
      "version": "3.7.3"
    }
  },
  "cells": [
    {
      "cell_type": "code",
      "metadata": {
        "colab_type": "code",
        "id": "jzzuGAMna4NG",
        "colab": {}
      },
      "source": [
        "from pydrive.auth import GoogleAuth\n",
        "from pydrive.drive import GoogleDrive\n",
        "from google.colab import auth\n",
        "from oauth2client.client import GoogleCredentials\n",
        "auth.authenticate_user()\n",
        "gauth = GoogleAuth()\n",
        "gauth.credentials = GoogleCredentials.get_application_default()\n",
        "drive = GoogleDrive(gauth)"
      ],
      "execution_count": null,
      "outputs": []
    },
    {
      "cell_type": "code",
      "metadata": {
        "id": "hDfnV-3GMtXW",
        "colab_type": "code",
        "colab": {
          "base_uri": "https://localhost:8080/",
          "height": 546
        },
        "outputId": "c8ed5199-f186-4aba-c981-4a3d183d0180"
      },
      "source": [
        "!pip install torchaudio\n",
        "!pip install PyDrive\n",
        "!pip install soundfile"
      ],
      "execution_count": null,
      "outputs": [
        {
          "output_type": "stream",
          "text": [
            "Collecting torchaudio\n",
            "\u001b[?25l  Downloading https://files.pythonhosted.org/packages/e9/0a/40e53c686c2af65b2a4e818d11d9b76fa79178440caf99f3ceb2a32c3b04/torchaudio-0.5.1-cp36-cp36m-manylinux1_x86_64.whl (3.2MB)\n",
            "\u001b[K     |████████████████████████████████| 3.2MB 6.7MB/s \n",
            "\u001b[?25hRequirement already satisfied: torch==1.5.1 in /usr/local/lib/python3.6/dist-packages (from torchaudio) (1.5.1+cu101)\n",
            "Requirement already satisfied: future in /usr/local/lib/python3.6/dist-packages (from torch==1.5.1->torchaudio) (0.16.0)\n",
            "Requirement already satisfied: numpy in /usr/local/lib/python3.6/dist-packages (from torch==1.5.1->torchaudio) (1.18.5)\n",
            "Installing collected packages: torchaudio\n",
            "Successfully installed torchaudio-0.5.1\n",
            "Requirement already satisfied: PyDrive in /usr/local/lib/python3.6/dist-packages (1.3.1)\n",
            "Requirement already satisfied: PyYAML>=3.0 in /usr/local/lib/python3.6/dist-packages (from PyDrive) (3.13)\n",
            "Requirement already satisfied: oauth2client>=4.0.0 in /usr/local/lib/python3.6/dist-packages (from PyDrive) (4.1.3)\n",
            "Requirement already satisfied: google-api-python-client>=1.2 in /usr/local/lib/python3.6/dist-packages (from PyDrive) (1.7.12)\n",
            "Requirement already satisfied: rsa>=3.1.4 in /usr/local/lib/python3.6/dist-packages (from oauth2client>=4.0.0->PyDrive) (4.6)\n",
            "Requirement already satisfied: six>=1.6.1 in /usr/local/lib/python3.6/dist-packages (from oauth2client>=4.0.0->PyDrive) (1.12.0)\n",
            "Requirement already satisfied: pyasn1-modules>=0.0.5 in /usr/local/lib/python3.6/dist-packages (from oauth2client>=4.0.0->PyDrive) (0.2.8)\n",
            "Requirement already satisfied: pyasn1>=0.1.7 in /usr/local/lib/python3.6/dist-packages (from oauth2client>=4.0.0->PyDrive) (0.4.8)\n",
            "Requirement already satisfied: httplib2>=0.9.1 in /usr/local/lib/python3.6/dist-packages (from oauth2client>=4.0.0->PyDrive) (0.17.4)\n",
            "Requirement already satisfied: google-auth>=1.4.1 in /usr/local/lib/python3.6/dist-packages (from google-api-python-client>=1.2->PyDrive) (1.17.2)\n",
            "Requirement already satisfied: uritemplate<4dev,>=3.0.0 in /usr/local/lib/python3.6/dist-packages (from google-api-python-client>=1.2->PyDrive) (3.0.1)\n",
            "Requirement already satisfied: google-auth-httplib2>=0.0.3 in /usr/local/lib/python3.6/dist-packages (from google-api-python-client>=1.2->PyDrive) (0.0.3)\n",
            "Requirement already satisfied: cachetools<5.0,>=2.0.0 in /usr/local/lib/python3.6/dist-packages (from google-auth>=1.4.1->google-api-python-client>=1.2->PyDrive) (4.1.0)\n",
            "Requirement already satisfied: setuptools>=40.3.0 in /usr/local/lib/python3.6/dist-packages (from google-auth>=1.4.1->google-api-python-client>=1.2->PyDrive) (47.3.1)\n",
            "Collecting soundfile\n",
            "  Downloading https://files.pythonhosted.org/packages/eb/f2/3cbbbf3b96fb9fa91582c438b574cff3f45b29c772f94c400e2c99ef5db9/SoundFile-0.10.3.post1-py2.py3-none-any.whl\n",
            "Requirement already satisfied: cffi>=1.0 in /usr/local/lib/python3.6/dist-packages (from soundfile) (1.14.0)\n",
            "Requirement already satisfied: pycparser in /usr/local/lib/python3.6/dist-packages (from cffi>=1.0->soundfile) (2.20)\n",
            "Installing collected packages: soundfile\n",
            "Successfully installed soundfile-0.10.3.post1\n"
          ],
          "name": "stdout"
        }
      ]
    },
    {
      "cell_type": "code",
      "metadata": {
        "colab_type": "code",
        "id": "ppRP3ZqP8vZP",
        "colab": {}
      },
      "source": [
        "import torch\n",
        "import torchaudio"
      ],
      "execution_count": null,
      "outputs": []
    },
    {
      "cell_type": "code",
      "metadata": {
        "id": "_Mox7PgiRLqz",
        "colab_type": "code",
        "colab": {
          "base_uri": "https://localhost:8080/",
          "height": 126
        },
        "outputId": "a15151a5-856d-4296-d6cf-2bd6e5be7d8b"
      },
      "source": [
        "!git clone https://github.com/facebookresearch/CPC_audio.git"
      ],
      "execution_count": null,
      "outputs": [
        {
          "output_type": "stream",
          "text": [
            "Cloning into 'CPC_audio'...\n",
            "remote: Enumerating objects: 84, done.\u001b[K\n",
            "remote: Counting objects:   1% (1/84)\u001b[K\rremote: Counting objects:   2% (2/84)\u001b[K\rremote: Counting objects:   3% (3/84)\u001b[K\rremote: Counting objects:   4% (4/84)\u001b[K\rremote: Counting objects:   5% (5/84)\u001b[K\rremote: Counting objects:   7% (6/84)\u001b[K\rremote: Counting objects:   8% (7/84)\u001b[K\rremote: Counting objects:   9% (8/84)\u001b[K\rremote: Counting objects:  10% (9/84)\u001b[K\rremote: Counting objects:  11% (10/84)\u001b[K\rremote: Counting objects:  13% (11/84)\u001b[K\rremote: Counting objects:  14% (12/84)\u001b[K\rremote: Counting objects:  15% (13/84)\u001b[K\rremote: Counting objects:  16% (14/84)\u001b[K\rremote: Counting objects:  17% (15/84)\u001b[K\rremote: Counting objects:  19% (16/84)\u001b[K\rremote: Counting objects:  20% (17/84)\u001b[K\rremote: Counting objects:  21% (18/84)\u001b[K\rremote: Counting objects:  22% (19/84)\u001b[K\rremote: Counting objects:  23% (20/84)\u001b[K\rremote: Counting objects:  25% (21/84)\u001b[K\rremote: Counting objects:  26% (22/84)\u001b[K\rremote: Counting objects:  27% (23/84)\u001b[K\rremote: Counting objects:  28% (24/84)\u001b[K\rremote: Counting objects:  29% (25/84)\u001b[K\rremote: Counting objects:  30% (26/84)\u001b[K\rremote: Counting objects:  32% (27/84)\u001b[K\rremote: Counting objects:  33% (28/84)\u001b[K\rremote: Counting objects:  34% (29/84)\u001b[K\rremote: Counting objects:  35% (30/84)\u001b[K\rremote: Counting objects:  36% (31/84)\u001b[K\rremote: Counting objects:  38% (32/84)\u001b[K\rremote: Counting objects:  39% (33/84)\u001b[K\rremote: Counting objects:  40% (34/84)\u001b[K\rremote: Counting objects:  41% (35/84)\u001b[K\rremote: Counting objects:  42% (36/84)\u001b[K\rremote: Counting objects:  44% (37/84)\u001b[K\rremote: Counting objects:  45% (38/84)\u001b[K\rremote: Counting objects:  46% (39/84)\u001b[K\rremote: Counting objects:  47% (40/84)\u001b[K\rremote: Counting objects:  48% (41/84)\u001b[K\rremote: Counting objects:  50% (42/84)\u001b[K\rremote: Counting objects:  51% (43/84)\u001b[K\rremote: Counting objects:  52% (44/84)\u001b[K\rremote: Counting objects:  53% (45/84)\u001b[K\rremote: Counting objects:  54% (46/84)\u001b[K\rremote: Counting objects:  55% (47/84)\u001b[K\rremote: Counting objects:  57% (48/84)\u001b[K\rremote: Counting objects:  58% (49/84)\u001b[K\rremote: Counting objects:  59% (50/84)\u001b[K\rremote: Counting objects:  60% (51/84)\u001b[K\rremote: Counting objects:  61% (52/84)\u001b[K\rremote: Counting objects:  63% (53/84)\u001b[K\rremote: Counting objects:  64% (54/84)\u001b[K\rremote: Counting objects:  65% (55/84)\u001b[K\rremote: Counting objects:  66% (56/84)\u001b[K\rremote: Counting objects:  67% (57/84)\u001b[K\rremote: Counting objects:  69% (58/84)\u001b[K\rremote: Counting objects:  70% (59/84)\u001b[K\rremote: Counting objects:  71% (60/84)\u001b[K\rremote: Counting objects:  72% (61/84)\u001b[K\rremote: Counting objects:  73% (62/84)\u001b[K\rremote: Counting objects:  75% (63/84)\u001b[K\rremote: Counting objects:  76% (64/84)\u001b[K\rremote: Counting objects:  77% (65/84)\u001b[K\rremote: Counting objects:  78% (66/84)\u001b[K\rremote: Counting objects:  79% (67/84)\u001b[K\rremote: Counting objects:  80% (68/84)\u001b[K\rremote: Counting objects:  82% (69/84)\u001b[K\rremote: Counting objects:  83% (70/84)\u001b[K\rremote: Counting objects:  84% (71/84)\u001b[K\rremote: Counting objects:  85% (72/84)\u001b[K\rremote: Counting objects:  86% (73/84)\u001b[K\rremote: Counting objects:  88% (74/84)\u001b[K\rremote: Counting objects:  89% (75/84)\u001b[K\rremote: Counting objects:  90% (76/84)\u001b[K\rremote: Counting objects:  91% (77/84)\u001b[K\rremote: Counting objects:  92% (78/84)\u001b[K\rremote: Counting objects:  94% (79/84)\u001b[K\rremote: Counting objects:  95% (80/84)\u001b[K\rremote: Counting objects:  96% (81/84)\u001b[K\rremote: Counting objects:  97% (82/84)\u001b[K\rremote: Counting objects:  98% (83/84)\u001b[K\rremote: Counting objects: 100% (84/84)\u001b[K\rremote: Counting objects: 100% (84/84), done.\u001b[K\n",
            "remote: Compressing objects: 100% (65/65), done.\u001b[K\n",
            "remote: Total 84 (delta 13), reused 75 (delta 6), pack-reused 0\u001b[K\n",
            "Unpacking objects: 100% (84/84), done.\n"
          ],
          "name": "stdout"
        }
      ]
    },
    {
      "cell_type": "code",
      "metadata": {
        "id": "Pe4sHjb2RLRt",
        "colab_type": "code",
        "colab": {
          "base_uri": "https://localhost:8080/",
          "height": 728
        },
        "outputId": "f62f2ee8-16a8-4416-9cd4-ebaa7308dd80"
      },
      "source": [
        "%cd /content/CPC_audio\n",
        "!python setup.py develop"
      ],
      "execution_count": null,
      "outputs": [
        {
          "output_type": "stream",
          "text": [
            "/content/CPC_audio\n",
            "Compiling cpc/eval/ABX/dtw.pyx because it changed.\n",
            "[1/1] Cythonizing cpc/eval/ABX/dtw.pyx\n",
            "running develop\n",
            "running egg_info\n",
            "creating CPC_audio.egg-info\n",
            "writing CPC_audio.egg-info/PKG-INFO\n",
            "writing dependency_links to CPC_audio.egg-info/dependency_links.txt\n",
            "writing top-level names to CPC_audio.egg-info/top_level.txt\n",
            "writing manifest file 'CPC_audio.egg-info/SOURCES.txt'\n",
            "writing manifest file 'CPC_audio.egg-info/SOURCES.txt'\n",
            "running build_ext\n",
            "building 'cpc.eval.ABX.dtw' extension\n",
            "creating build\n",
            "creating build/temp.linux-x86_64-3.6\n",
            "creating build/temp.linux-x86_64-3.6/cpc\n",
            "creating build/temp.linux-x86_64-3.6/cpc/eval\n",
            "creating build/temp.linux-x86_64-3.6/cpc/eval/ABX\n",
            "x86_64-linux-gnu-gcc -pthread -DNDEBUG -g -fwrapv -O2 -Wall -g -fstack-protector-strong -Wformat -Werror=format-security -Wdate-time -D_FORTIFY_SOURCE=2 -fPIC -I/usr/local/lib/python3.6/dist-packages/numpy/core/include -I/usr/include/python3.6m -c cpc/eval/ABX/dtw.c -o build/temp.linux-x86_64-3.6/cpc/eval/ABX/dtw.o\n",
            "In file included from \u001b[01m\u001b[K/usr/local/lib/python3.6/dist-packages/numpy/core/include/numpy/ndarraytypes.h:1832:0\u001b[m\u001b[K,\n",
            "                 from \u001b[01m\u001b[K/usr/local/lib/python3.6/dist-packages/numpy/core/include/numpy/ndarrayobject.h:12\u001b[m\u001b[K,\n",
            "                 from \u001b[01m\u001b[K/usr/local/lib/python3.6/dist-packages/numpy/core/include/numpy/arrayobject.h:4\u001b[m\u001b[K,\n",
            "                 from \u001b[01m\u001b[Kcpc/eval/ABX/dtw.c:625\u001b[m\u001b[K:\n",
            "\u001b[01m\u001b[K/usr/local/lib/python3.6/dist-packages/numpy/core/include/numpy/npy_1_7_deprecated_api.h:17:2:\u001b[m\u001b[K \u001b[01;35m\u001b[Kwarning: \u001b[m\u001b[K#warning \"Using deprecated NumPy API, disable it with \" \"#define NPY_NO_DEPRECATED_API NPY_1_7_API_VERSION\" [\u001b[01;35m\u001b[K-Wcpp\u001b[m\u001b[K]\n",
            " #\u001b[01;35m\u001b[Kwarning\u001b[m\u001b[K \"Using deprecated NumPy API, disable it with \" \\\n",
            "  \u001b[01;35m\u001b[K^~~~~~~\u001b[m\u001b[K\n",
            "creating build/lib.linux-x86_64-3.6\n",
            "creating build/lib.linux-x86_64-3.6/cpc\n",
            "creating build/lib.linux-x86_64-3.6/cpc/eval\n",
            "creating build/lib.linux-x86_64-3.6/cpc/eval/ABX\n",
            "x86_64-linux-gnu-gcc -pthread -shared -Wl,-O1 -Wl,-Bsymbolic-functions -Wl,-Bsymbolic-functions -Wl,-z,relro -Wl,-Bsymbolic-functions -Wl,-z,relro -g -fstack-protector-strong -Wformat -Werror=format-security -Wdate-time -D_FORTIFY_SOURCE=2 build/temp.linux-x86_64-3.6/cpc/eval/ABX/dtw.o -o build/lib.linux-x86_64-3.6/cpc/eval/ABX/dtw.cpython-36m-x86_64-linux-gnu.so\n",
            "copying build/lib.linux-x86_64-3.6/cpc/eval/ABX/dtw.cpython-36m-x86_64-linux-gnu.so -> cpc/eval/ABX\n",
            "Creating /usr/local/lib/python3.6/dist-packages/CPC-audio.egg-link (link to .)\n",
            "Adding CPC-audio 1.0 to easy-install.pth file\n",
            "\n",
            "Installed /content/CPC_audio\n",
            "Processing dependencies for CPC-audio==1.0\n",
            "Finished processing dependencies for CPC-audio==1.0\n"
          ],
          "name": "stdout"
        }
      ]
    },
    {
      "cell_type": "markdown",
      "metadata": {
        "colab_type": "text",
        "id": "YZ1Wywx3BNGS"
      },
      "source": [
        "# Part 1 : contrastive predictive coding\n",
        "\n",
        "Contrastive Predictive Coding (CPC) is a method of unsupervised training for speech models. The idea behind it is pretty simple:\n",
        "\n",
        "\n",
        "1.   The raw audio wave is passed through a convolutional network: the ```encoder```\n",
        "2.   Then, the encoder's output is given to a recurrent network the ```context```\n",
        "3. A third party network, the ```prediction_network``` will try to predict the  future embeddings of the encoder using the output of the context network.\n",
        "\n",
        "In order to avoid a collapse to trivial solutions, the prediction_network doesn't try to reconstruct the future features. Instead, using the context output $c_t$ at time $t$ it is trained to discriminate the real  encoder representatioin $g_{t+k}$ at time $t+k$ from several other features $(g_n)_n$ taken elsewhere in the batch. Thus the loss becomes:\n",
        "\n",
        "\\\\[ \\mathcal{L}_c = - \\frac{1}{K} \\sum_{k=1}^K \\text{Cross_entropy}(\\phi_k(c_t), g_{t+k}) \\\\]\n",
        "\n",
        "Or:\n",
        "\n",
        "\\\\[ \\mathcal{L}_c = - \\frac{1}{K} \\sum_{k=1}^K \\log \\frac{ \\exp\\left(\\phi_k(c_t)^\\top g_{t+k}\\right) }{  \\sum_{\\mathbf{n}\\in\\mathcal{N}_t} \\exp\\left(\\phi_k(c_t)^\\top g_n\\right)} \\\\]\n",
        "\n",
        "Where:\n",
        "\n",
        "\n",
        "*   $\\phi_k$ is the prediction network for the kth timestep\n",
        "*   $\\mathcal{N}_t$ is the set of all negative examples sampled for timestep $t$\n",
        "\n",
        "\n"
      ]
    },
    {
      "cell_type": "markdown",
      "metadata": {
        "colab_type": "text",
        "id": "frPFYXuPfNPs"
      },
      "source": [
        "## Exercice 1 : Building the model\n",
        "\n",
        "In this exercise, we will build and train a small CPC model using the repository CPC_audio.\n",
        "\n",
        "The code below loads a context and an encoder newtorks."
      ]
    },
    {
      "cell_type": "code",
      "metadata": {
        "colab_type": "code",
        "id": "8g-xPSdLRdui",
        "colab": {
          "base_uri": "https://localhost:8080/",
          "height": 35
        },
        "outputId": "e67a44fd-e69a-4373-f4c8-67ca746d09a2"
      },
      "source": [
        "%cd /content/CPC_audio\n",
        "from cpc.model import CPCEncoder, CPCAR\n",
        "device = torch.device(\"cuda:0\" if torch.cuda.is_available() else \"cpu\")\n",
        "\n",
        "DIM_ENCODER=256\n",
        "DIM_CONTEXT=256\n",
        "KEEP_HIDDEN_VECTOR=False\n",
        "N_LEVELS_CONTEXT=1\n",
        "CONTEXT_RNN=\"LSTM\"\n",
        "N_PREDICTIONS=12\n",
        "LEARNING_RATE=2e-4\n",
        "N_NEGATIVE_SAMPLE =128"
      ],
      "execution_count": null,
      "outputs": [
        {
          "output_type": "stream",
          "text": [
            "/content/CPC_audio\n"
          ],
          "name": "stdout"
        }
      ]
    },
    {
      "cell_type": "code",
      "metadata": {
        "colab_type": "code",
        "id": "7Wx8WkrQk9bQ",
        "colab": {}
      },
      "source": [
        "encoder = CPCEncoder(DIM_ENCODER).to(device)\n",
        "context = CPCAR(DIM_ENCODER, DIM_CONTEXT, KEEP_HIDDEN_VECTOR, 1, mode=CONTEXT_RNN).to(device)"
      ],
      "execution_count": null,
      "outputs": []
    },
    {
      "cell_type": "code",
      "metadata": {
        "colab_type": "code",
        "id": "f9BrweAIla4J",
        "colab": {}
      },
      "source": [
        "# Several functions that will be necessary to load the data later\n",
        "from cpc.dataset import findAllSeqs, AudioBatchData, parseSeqLabels\n",
        "SIZE_WINDOW = 20480\n",
        "BATCH_SIZE=8\n",
        "def load_dataset(path_dataset, file_extension='.wav', phone_label_dict=None):\n",
        "  data_list, speakers = findAllSeqs(path_dataset, extension=file_extension)\n",
        "  dataset = AudioBatchData(path_dataset, SIZE_WINDOW, data_list, phone_label_dict, len(speakers))\n",
        "  return dataset"
      ],
      "execution_count": null,
      "outputs": []
    },
    {
      "cell_type": "markdown",
      "metadata": {
        "colab_type": "text",
        "id": "58pQ7ysXk9ZO"
      },
      "source": [
        "Now build a new class, ```CPCModel``` which will"
      ]
    },
    {
      "cell_type": "code",
      "metadata": {
        "colab_type": "code",
        "id": "rR5IYRTpRF8T",
        "colab": {}
      },
      "source": [
        "class CPCModel(torch.nn.Module):\n",
        "\n",
        "    def __init__(self,\n",
        "                 encoder,\n",
        "                 AR):\n",
        "\n",
        "        super(CPCModel, self).__init__()\n",
        "        self.gEncoder = encoder\n",
        "        self.gAR = AR\n",
        "\n",
        "    def forward(self, batch_data):\n",
        "        \n",
        "\n",
        "        encoder_output = self.gEncoder(batch_data)\n",
        "        #print(encoder_output.shape)\n",
        "        # The output of the encoder data does not have the good format \n",
        "        # indeed it is Batch_size x Hidden_size x temp size\n",
        "        # while the context requires Batch_size  x temp size x Hidden_size\n",
        "        # thus you need to permute\n",
        "        context_input = encoder_output.permute(0, 2, 1)\n",
        "\n",
        "        context_output = self.gAR(context_input)\n",
        "        #print(context_output.shape)\n",
        "        return context_output, encoder_output"
      ],
      "execution_count": null,
      "outputs": []
    },
    {
      "cell_type": "markdown",
      "metadata": {
        "colab_type": "text",
        "id": "XUJgm6Rl4vS4"
      },
      "source": [
        "Let's test your code !\n"
      ]
    },
    {
      "cell_type": "code",
      "metadata": {
        "colab_type": "code",
        "id": "D1x1n4mv4y03",
        "colab": {}
      },
      "source": [
        "audio = torchaudio.load(\"/content/drive/My Drive/DATA/train/recording1/200625-153409_yor_af2_elicit_0.wav\")[0]\n",
        "audio = audio.view(1, 1, -1)\n",
        "cpc_model = CPCModel(encoder, context).to(device)\n",
        "context_output, encoder_output = cpc_model(audio.to(device))"
      ],
      "execution_count": null,
      "outputs": []
    },
    {
      "cell_type": "markdown",
      "metadata": {
        "colab_type": "text",
        "id": "X27ce8Hy3C2p"
      },
      "source": [
        "## Exercise 2 : CPC loss\n",
        "\n",
        "We will define a class ```CPCCriterion``` which will hold the prediction networks $\\phi_k$ defined above and perform the classification loss $\\mathcal{L}_c$.\n",
        "\n",
        "a) In this exercise, the $\\phi_k$ will be a linear transform, ie:\n",
        "\n",
        "\\\\[ \\phi_k(c_t) = \\mathbf{A}_k c_t\\\\]\n",
        "\n",
        "Using the class [torch.nn.Linear](https://pytorch.org/docs/stable/nn.html#torch.nn.Linear), define the transformations $\\phi_k$ in the code below and complete the function ```get_prediction_k``` which computes $\\phi_k(c_t)$ for a given batch of vectors $c_t$.\n",
        "\n",
        "b) Using both ```get_prediction_k```  and ```sample_negatives``` defined below, write the forward function which will take as input two batches of features $c_t$ and $g_t$ and outputs the classification loss $\\mathcal{L}_c$ and the average acuracy for all predictions. "
      ]
    },
    {
      "cell_type": "code",
      "metadata": {
        "colab_type": "code",
        "id": "UlAs-z1fBc3W",
        "colab": {}
      },
      "source": [
        "# Exercice 2: write the CPC loss\n",
        "# a) Write the negative sampling (with some help)\n",
        "# ERRATUM: it's really hard, the sampling will be provided\n",
        "\n",
        "class CPCCriterion(torch.nn.Module):\n",
        "\n",
        "  def __init__(self,\n",
        "               K,\n",
        "               dim_context,\n",
        "               dim_encoder,\n",
        "               n_negative):\n",
        "    super(CPCCriterion, self).__init__()\n",
        "    self.K_ = K\n",
        "    self.dim_context = dim_context\n",
        "    self.dim_encoder = dim_encoder\n",
        "    self.n_negative = n_negative\n",
        "\n",
        "    self.predictors = torch.nn.ModuleList() \n",
        "    for k in range(self.K_):\n",
        "      # TO COMPLETE !\n",
        "      \n",
        "      # A affine transformation in pytorch is equivalent to a nn.Linear layer\n",
        "      # To get a linear transformation you must set bias=False\n",
        "      # input dimension of the layer = dimension of the encoder\n",
        "      # output dimension of the layer = dimension of the context\n",
        "      self.predictors.append(torch.nn.Linear(dim_context, dim_encoder, bias=False))\n",
        "\n",
        "  def get_prediction_k(self, context_data):\n",
        "\n",
        "    #TO COMPLETE !\n",
        "    output = [] \n",
        "    # For each time step k\n",
        "    for k in range(self.K_):\n",
        "\n",
        "      # We need to compute phi_k = A_k * c_t\n",
        "      phi_k = self.predictors[k](context_data)\n",
        "      output.append(phi_k)\n",
        "\n",
        "    return output\n",
        "\n",
        "\n",
        "  def sample_negatives(self, encoded_data):\n",
        "    r\"\"\"\n",
        "    Sample some negative examples in the given encoded data.\n",
        "    Input:\n",
        "    - encoded_data size: B x T x H\n",
        "    Returns\n",
        "    - outputs of size B x (n_negative + 1) x (T - K_) x H\n",
        "      outputs[:, 0, :, :] contains the positive example\n",
        "      outputs[:, 1:, :, :] contains negative example sampled in the batch\n",
        "    - labels, long tensor of size B x (T - K_)\n",
        "      Since the positive example is always at coordinates 0 for all sequences \n",
        "      in the batch and all timestep in the sequence, labels is just a tensor\n",
        "      full of zeros !\n",
        "    \"\"\"\n",
        "    batch_size, time_size, dim_encoded = encoded_data.size()\n",
        "    window_size = time_size - self.K_\n",
        "    outputs = []\n",
        "\n",
        "    neg_ext = encoded_data.contiguous().view(-1, dim_encoded)\n",
        "    n_elem_sampled = self.n_negative * window_size * batch_size\n",
        "    # Draw nNegativeExt * batchSize negative samples anywhere in the batch\n",
        "    batch_idx = torch.randint(low=0, high=batch_size,\n",
        "                              size=(n_elem_sampled, ),\n",
        "                              device=encoded_data.device)\n",
        "\n",
        "    seq_idx = torch.randint(low=1, high=time_size,\n",
        "                            size=(n_elem_sampled, ),\n",
        "                            device=encoded_data.device)\n",
        "\n",
        "    base_idx = torch.arange(0, window_size, device=encoded_data.device)\n",
        "    base_idx = base_idx.view(1, 1, window_size)\n",
        "    base_idx = base_idx.expand(1, self.n_negative, window_size)\n",
        "    base_idx = base_idx.expand(batch_size, self.n_negative, window_size)\n",
        "    seq_idx += base_idx.contiguous().view(-1)\n",
        "    seq_idx = torch.remainder(seq_idx, time_size)\n",
        "\n",
        "    ext_idx = seq_idx + batch_idx * time_size\n",
        "    neg_ext = neg_ext[ext_idx].view(batch_size, self.n_negative,\n",
        "                                    window_size, dim_encoded)\n",
        "    label_loss = torch.zeros((batch_size, window_size),\n",
        "                              dtype=torch.long,\n",
        "                              device=encoded_data.device)\n",
        "\n",
        "    for k in range(1, self.K_ + 1):\n",
        "\n",
        "      # Positive samples\n",
        "      if k < self.K_:\n",
        "          pos_seq = encoded_data[:, k:-(self.K_-k)]\n",
        "      else:\n",
        "          pos_seq = encoded_data[:, k:]\n",
        "\n",
        "      pos_seq = pos_seq.view(batch_size, 1, pos_seq.size(1), dim_encoded)\n",
        "      full_seq = torch.cat((pos_seq, neg_ext), dim=1)\n",
        "      outputs.append(full_seq)\n",
        "\n",
        "    return outputs, label_loss\n",
        "\n",
        "  def forward(self, encoded_data, context_data):\n",
        "\n",
        "    # TO COMPLETE:\n",
        "    # Perform the full cpc criterion\n",
        "    # Returns 2 values:\n",
        "    # - the average classification loss avg_loss\n",
        "    # - the average classification acuracy avg_acc\n",
        "\n",
        "    # Reminder : The permuation !\n",
        "    encoded_data = encoded_data.permute(0, 2, 1)\n",
        "\n",
        "    # First we need to sample the negative examples\n",
        "    negative_samples, labels = self.sample_negatives(encoded_data)\n",
        "\n",
        "    # Then we must compute phi_k\n",
        "    phi_k = self.get_prediction_k(context_data)\n",
        "\n",
        "    # Finally we must get the dot product between phi_k and negative_samples \n",
        "    # for each k\n",
        "\n",
        "    #The total loss is the average of all losses\n",
        "    avg_loss = 0\n",
        "\n",
        "    # Average acuracy\n",
        "    avg_acc = 0\n",
        "\n",
        "    for k in range(self.K_):\n",
        "      B, N_sampled, S_small, H = negative_samples[k].size() \n",
        "      B, S, H = phi_k[k].size()\n",
        "\n",
        "      # As told before S = S_small + K. For segments too far in the sequence\n",
        "      # there are no positive exmples anyway, so we must shorten phi_k\n",
        "      phi = phi_k[k][:, :S_small]\n",
        "\n",
        "      # Now the dot product\n",
        "      # You have several ways to do that, let's do the simple but non optimal \n",
        "      # one\n",
        "      # pytorch has a matrix product function https://pytorch.org/docs/stable/torch.html#torch.bmm\n",
        "      # But it takes only 3D tensors of the same batch size !\n",
        "      # To begin negative_samples is a 4D tensor ! \n",
        "      # We want to compute the dot product for each features, of each sequence\n",
        "      # of the batch. Thus we are trying to compute a dot product for all\n",
        "      # B* N_sampled * S_small 1D vector of negative_samples[k]\n",
        "      # Or, a 1D tensor of size H is also a matrix of size 1 x H\n",
        "      # Then, we must view it as a 3D tensor of size (B* N_sampled * S_small, 1, H)\n",
        "      negative_sample_k  =  negative_samples[k].view(B* N_sampled* S_small, 1, H)\n",
        "\n",
        "      # But now phi and negative_sample_k no longer have the same batch size !\n",
        "      # No worries, we can expand phi so that each sequence of the batch\n",
        "      # is repeated N_sampled times\n",
        "      phi = phi.view(B, 1,S_small, H).expand(B, N_sampled, S_small, H)\n",
        "\n",
        "      # And now we can view it as a 3D tensor \n",
        "      phi  = phi.contiguous().view(B * N_sampled * S_small, H, 1)\n",
        "\n",
        "      # We can finally get the dot product !\n",
        "      scores = torch.bmm(negative_sample_k, phi)\n",
        "\n",
        "      # Dot_product has a size (B * N_sampled * S_small , 1, 1)\n",
        "      # Let's reorder it a bit\n",
        "      scores = scores.reshape(B, N_sampled, S_small)\n",
        "\n",
        "      # For each elements of the sequence, and each elements sampled, it gives \n",
        "      # a floating score stating the likelihood of this element being the \n",
        "      # true one.\n",
        "      # Now the classification loss, we need to use the Cross Entropy loss\n",
        "      # https://pytorch.org/docs/master/generated/torch.nn.CrossEntropyLoss.html\n",
        "\n",
        "      # For each time-step of each sequence of the batch \n",
        "      # we have N_sampled possible predictions. \n",
        "      # Looking at the documentation of torch.nn.CrossEntropyLoss\n",
        "      # we can see that this loss expect a tensor of size M x C where \n",
        "      # - M is the number of elements with a classification score\n",
        "      # - C is the number of possible classes\n",
        "      # There are N_sampled candidates for each predictions so\n",
        "      # C = N_sampled \n",
        "      # Each timestep of each sequence of the batch has a prediction so\n",
        "      # M = B * S_small\n",
        "      # Thus we need an input vector of size B * S_small, N_sampled\n",
        "      # To begin, we need to permute the axis\n",
        "      scores = scores.permute(0, 2, 1) # Now it has size B , S_small, N_sampled\n",
        "\n",
        "      # Then we can cast it into a 2D tensor\n",
        "      scores = scores.reshape(B * S_small, N_sampled)\n",
        "\n",
        "      # Same thing for the labels \n",
        "      labels = labels.reshape(B * S_small)\n",
        "\n",
        "      # Finally we can get the classification loss\n",
        "      loss_criterion = torch.nn.CrossEntropyLoss()\n",
        "      loss_k = loss_criterion(scores, labels)\n",
        "      avg_loss+= loss_k\n",
        "\n",
        "      # And for the acuracy\n",
        "      # The prediction for each elements is the sample with the highest score\n",
        "      # Thus the tensors of all predictions is the tensors of the index of the \n",
        "      # maximal score for each time-step of each sequence of the batch\n",
        "      predictions = torch.argmax(scores, 1)\n",
        "      acc_k  = (labels == predictions).sum() / (B * S_small)\n",
        "      avg_acc += acc_k\n",
        "\n",
        "    # Normalization\n",
        "    avg_loss = avg_loss / self.K_\n",
        "    avg_acc = avg_acc / self.K_\n",
        "      \n",
        "    return avg_loss , avg_acc"
      ],
      "execution_count": null,
      "outputs": []
    },
    {
      "cell_type": "markdown",
      "metadata": {
        "colab_type": "text",
        "id": "0cqGXhLf-_O1"
      },
      "source": [
        "Don't forget to test !"
      ]
    },
    {
      "cell_type": "code",
      "metadata": {
        "colab_type": "code",
        "id": "sYJSMh5I_QCf",
        "colab": {
          "base_uri": "https://localhost:8080/",
          "height": 55
        },
        "outputId": "d41a2edb-bdf1-4333-c723-3075734e4e7b"
      },
      "source": [
        "audio = torchaudio.load(\"/content/drive/My Drive/DATA/train/recording1/200625-153409_yor_af2_elicit_1.wav\")[0]\n",
        "audio = audio.view(1, 1, -1)\n",
        "cpc_criterion = CPCCriterion(N_PREDICTIONS, DIM_CONTEXT, \n",
        "                             DIM_ENCODER, N_NEGATIVE_SAMPLE).to(device)\n",
        "context_output, encoder_output = cpc_model(audio.to(device))\n",
        "loss, avg = cpc_criterion(encoder_output,context_output)"
      ],
      "execution_count": null,
      "outputs": [
        {
          "output_type": "stream",
          "text": [
            "/pytorch/aten/src/ATen/native/BinaryOps.cpp:81: UserWarning: Integer division of tensors using div or / is deprecated, and in a future release div will perform true division as in Python 3. Use true_divide or floor_divide (// in Python) instead.\n"
          ],
          "name": "stderr"
        }
      ]
    },
    {
      "cell_type": "markdown",
      "metadata": {
        "colab_type": "text",
        "id": "zLv7GoE0_4C3"
      },
      "source": [
        "## Exercise 3: Full training loop !\n",
        "\n",
        "You have the model, you have the criterion. All you need now are a data loader and an optimizer to run your training loop.\n",
        "\n",
        "We will use an Adam optimizer:"
      ]
    },
    {
      "cell_type": "code",
      "metadata": {
        "colab_type": "code",
        "id": "zcg29tqPAIR1",
        "colab": {}
      },
      "source": [
        "parameters = list(cpc_criterion.parameters()) + list(cpc_model.parameters())\n",
        "optimizer = torch.optim.Adam(parameters, lr=LEARNING_RATE)"
      ],
      "execution_count": null,
      "outputs": []
    },
    {
      "cell_type": "markdown",
      "metadata": {
        "colab_type": "text",
        "id": "hETDwSfTAuF4"
      },
      "source": [
        "And as far as the data loader is concerned, we will rely on the data loader provided by the CPC_audio library."
      ]
    },
    {
      "cell_type": "code",
      "metadata": {
        "id": "KHs9nFENUk6K",
        "colab_type": "code",
        "colab": {}
      },
      "source": [
        ""
      ],
      "execution_count": null,
      "outputs": []
    },
    {
      "cell_type": "code",
      "metadata": {
        "colab_type": "code",
        "id": "O6KES4RXA0tU",
        "colab": {
          "base_uri": "https://localhost:8080/",
          "height": 345
        },
        "outputId": "8b0de4b5-dbbf-4088-cb05-2561479d13b5"
      },
      "source": [
        "dataset_train = load_dataset('/content/drive/My Drive/DATA/train')\n",
        "dataset_val = load_dataset('/content/drive/My Drive/DATA/validation')\n",
        "data_loader_train = dataset_train.getDataLoader(BATCH_SIZE, \"speaker\", True)\n",
        "data_loader_val = dataset_train.getDataLoader(BATCH_SIZE, \"sequence\", False)"
      ],
      "execution_count": null,
      "outputs": [
        {
          "output_type": "stream",
          "text": [
            "6it [00:00, 607.87it/s]"
          ],
          "name": "stderr"
        },
        {
          "output_type": "stream",
          "text": [
            "Saved cache file at /content/drive/My Drive/DATA/train/_seqs_cache.txt\n"
          ],
          "name": "stdout"
        },
        {
          "output_type": "stream",
          "text": [
            "\n"
          ],
          "name": "stderr"
        },
        {
          "output_type": "stream",
          "text": [
            "Checking length...\n"
          ],
          "name": "stdout"
        },
        {
          "output_type": "stream",
          "text": [
            "224it [00:00, 325319.98it/s]\n"
          ],
          "name": "stderr"
        },
        {
          "output_type": "stream",
          "text": [
            "Done, elapsed: 0.294 seconds\n",
            "Scanned 224 sequences in 0.29 seconds\n",
            "1 chunks computed\n",
            "Joining pool\n"
          ],
          "name": "stdout"
        },
        {
          "output_type": "stream",
          "text": [
            "3it [00:00, 145.21it/s]"
          ],
          "name": "stderr"
        },
        {
          "output_type": "stream",
          "text": [
            "Joined process, elapsed=1.777 secs\n",
            "Saved cache file at /content/drive/My Drive/DATA/validation/_seqs_cache.txt\n"
          ],
          "name": "stdout"
        },
        {
          "output_type": "stream",
          "text": [
            "\n",
            "99it [00:00, 30778.75it/s]"
          ],
          "name": "stderr"
        },
        {
          "output_type": "stream",
          "text": [
            "Checking length...\n",
            "Done, elapsed: 0.109 seconds\n",
            "Scanned 99 sequences in 0.11 seconds\n",
            "1 chunks computed\n",
            "Joining pool\n"
          ],
          "name": "stdout"
        },
        {
          "output_type": "stream",
          "text": [
            "\n"
          ],
          "name": "stderr"
        },
        {
          "output_type": "stream",
          "text": [
            "Joined process, elapsed=0.587 secs\n"
          ],
          "name": "stdout"
        }
      ]
    },
    {
      "cell_type": "markdown",
      "metadata": {
        "colab_type": "text",
        "id": "uCoMCPL0A8VI"
      },
      "source": [
        "Now that everything is ready, complete and test the ```train_step``` function below which trains the model for one epoch."
      ]
    },
    {
      "cell_type": "code",
      "metadata": {
        "id": "lQcFKCi84cGQ",
        "colab_type": "code",
        "colab": {
          "base_uri": "https://localhost:8080/",
          "height": 128
        },
        "outputId": "44f7f0ab-eec6-4420-9755-df6d25deb9ec"
      },
      "source": [
        "from google.colab import drive\n",
        "drive.mount('/content/drive')"
      ],
      "execution_count": null,
      "outputs": [
        {
          "output_type": "stream",
          "text": [
            "Go to this URL in a browser: https://accounts.google.com/o/oauth2/auth?client_id=947318989803-6bn6qk8qdgf4n4g3pfee6491hc0brc4i.apps.googleusercontent.com&redirect_uri=urn%3aietf%3awg%3aoauth%3a2.0%3aoob&response_type=code&scope=email%20https%3a%2f%2fwww.googleapis.com%2fauth%2fdocs.test%20https%3a%2f%2fwww.googleapis.com%2fauth%2fdrive%20https%3a%2f%2fwww.googleapis.com%2fauth%2fdrive.photos.readonly%20https%3a%2f%2fwww.googleapis.com%2fauth%2fpeopleapi.readonly\n",
            "\n",
            "Enter your authorization code:\n",
            "··········\n",
            "Mounted at /content/drive\n"
          ],
          "name": "stdout"
        }
      ]
    },
    {
      "cell_type": "code",
      "metadata": {
        "colab_type": "code",
        "id": "U-hIH3p8BsZr",
        "colab": {}
      },
      "source": [
        "def train_step(data_loader,\n",
        "               cpc_model,\n",
        "               cpc_criterion,\n",
        "               optimizer):\n",
        "  \n",
        "  avg_loss = 0\n",
        "  avg_acc = 0\n",
        "  n_items = 0\n",
        "\n",
        "  for step, data in enumerate(data_loader):\n",
        "    x,y = data\n",
        "    bs = len(x)\n",
        "    optimizer.zero_grad()\n",
        "    context_output, encoder_output = cpc_model(x.to(device))\n",
        "    loss , acc = cpc_criterion(encoder_output, context_output)\n",
        "    loss.backward()\n",
        "    n_items+=bs\n",
        "    avg_loss+=loss.item()*bs\n",
        "    avg_acc +=acc.item()*bs\n",
        "  \n",
        "  avg_loss/=n_items\n",
        "  avg_acc/=n_items\n",
        "  return avg_loss, avg_acc"
      ],
      "execution_count": null,
      "outputs": []
    },
    {
      "cell_type": "markdown",
      "metadata": {
        "colab_type": "text",
        "id": "rIj06giJE_bZ"
      },
      "source": [
        "## Exercise 4 : Validation loop\n",
        "\n",
        "Now complete the validation loop."
      ]
    },
    {
      "cell_type": "code",
      "metadata": {
        "colab_type": "code",
        "id": "Q7Qwi6jDByyt",
        "colab": {}
      },
      "source": [
        "def validation_step(data_loader,\n",
        "                    cpc_model,\n",
        "                    cpc_criterion):\n",
        "  \n",
        "  avg_loss = 0\n",
        "  avg_acc = 0\n",
        "  n_items = 0\n",
        "\n",
        "  for step, data in enumerate(data_loader):\n",
        "    x,y = data\n",
        "    bs = len(x)\n",
        "    context_output, encoder_output = cpc_model(x.to(device))\n",
        "    loss , acc = cpc_criterion(encoder_output, context_output)\n",
        "    n_items+=bs\n",
        "    avg_loss+=loss.item()*bs\n",
        "    avg_acc+=acc.item()*bs\n",
        "  \n",
        "  avg_loss/=n_items\n",
        "  avg_acc/=n_items\n",
        "  return avg_loss, avg_acc"
      ],
      "execution_count": null,
      "outputs": []
    },
    {
      "cell_type": "markdown",
      "metadata": {
        "colab_type": "text",
        "id": "OBVUPKKs2_0U"
      },
      "source": [
        "## Exercise 5: Run everything"
      ]
    },
    {
      "cell_type": "code",
      "metadata": {
        "colab_type": "code",
        "id": "ZbXsZIRiB1tm",
        "colab": {}
      },
      "source": [
        "def run(train_loader,\n",
        "        val_loader,\n",
        "        cpc_model,\n",
        "        cpc_criterion,\n",
        "        optimizer,\n",
        "        n_epochs):\n",
        "  \n",
        "  for epoch in range(n_epochs):\n",
        "\n",
        "    \n",
        "    print(f\"Running epoch {epoch+1} / {n_epochs}\")\n",
        "    avg_loss_train, avg_acc_train = train_step(train_loader, cpc_model, cpc_criterion, optimizer)\n",
        "    print(\"----------------------\")\n",
        "    print(f\"Training dataset\")\n",
        "    print(f\"- average loss : {avg_loss_train}\")\n",
        "    print(f\"- average acuracy : {avg_acc_train}\")\n",
        "    print(\"----------------------\")\n",
        "    with torch.no_grad():\n",
        "      cpc_model.eval()\n",
        "      cpc_criterion.eval()\n",
        "      avg_loss_val, avg_acc_val = validation_step(val_loader, cpc_model, cpc_criterion)\n",
        "      print(f\"Validation dataset\")\n",
        "      print(f\"- average loss : {avg_loss_val}\")\n",
        "      print(f\"- average acuracy : {avg_acc_val}\")\n",
        "      print(\"----------------------\")\n",
        "      print()\n",
        "      cpc_model.train()\n",
        "      cpc_criterion.train()"
      ],
      "execution_count": null,
      "outputs": []
    },
    {
      "cell_type": "code",
      "metadata": {
        "colab_type": "code",
        "id": "5xx8vN2wpECC",
        "colab": {
          "base_uri": "https://localhost:8080/",
          "height": 217
        },
        "outputId": "5c00fdb8-bcc5-4a64-ee67-72e158fcbd30"
      },
      "source": [
        "# validation_loss, validation accuracy, train_loss and train_accuracy for one_epoch\n",
        "run(data_loader_train, data_loader_val, cpc_model,cpc_criterion,optimizer,1)"
      ],
      "execution_count": null,
      "outputs": [
        {
          "output_type": "stream",
          "text": [
            "Running epoch 1 / 1\n",
            "----------------------\n",
            "Training dataset\n",
            "- average loss : 4.871809946581922\n",
            "- average acuracy : 0.0\n",
            "----------------------\n",
            "Validation dataset\n",
            "- average loss : 4.871761469563027\n",
            "- average acuracy : 0.0\n",
            "----------------------\n",
            "\n"
          ],
          "name": "stdout"
        }
      ]
    },
    {
      "cell_type": "markdown",
      "metadata": {
        "colab_type": "text",
        "id": "5hoT3_3W6HYY"
      },
      "source": [
        "Once everything is donw, clear the memory."
      ]
    },
    {
      "cell_type": "code",
      "metadata": {
        "colab_type": "code",
        "id": "fU5mDOY46KSG",
        "colab": {}
      },
      "source": [
        "del dataset_train\n",
        "del dataset_val\n",
        "del cpc_model\n",
        "del context\n",
        "del encoder"
      ],
      "execution_count": null,
      "outputs": []
    },
    {
      "cell_type": "markdown",
      "metadata": {
        "colab_type": "text",
        "id": "srPM5r_LB9v-"
      },
      "source": [
        "# Part 2 : Fine tuning"
      ]
    },
    {
      "cell_type": "markdown",
      "metadata": {
        "colab_type": "text",
        "id": "0Nb_-0IQiJk9"
      },
      "source": [
        "## Exercice 1 : Phone separability with aligned phonemes.\n",
        "\n",
        "One option to evaluate the quality of the features trained with CPC can be to check if they can be used to recognize phonemes. \n",
        "To do so, we can fine-tune a pre-trained model using a limited amount of labelled speech data.\n",
        "We are going to start with a simple evaluation setting where we have the phone labels for each timestep corresponding to a CPC feature.\n",
        "\n",
        "We will work with a model already pre-trained on English data. As far as the fine-tuning dataset is concerned, we will use a 1h subset of [librispeech-100](http://www.openslr.org/12/). "
      ]
    },
    {
      "cell_type": "code",
      "metadata": {
        "colab_type": "code",
        "id": "N-scDMAasXxc",
        "colab": {
          "base_uri": "https://localhost:8080/",
          "height": 692
        },
        "outputId": "b897424e-d5f4-4c67-8a4a-ebc4cc81aeb3"
      },
      "source": [
        "!mkdir checkpoint_data\n",
        "!wget https://dl.fbaipublicfiles.com/librilight/CPC_checkpoints/not_hub/2levels_6k_top_ctc/checkpoint_30.pt -P checkpoint_data\n",
        "!wget https://dl.fbaipublicfiles.com/librilight/CPC_checkpoints/not_hub/2levels_6k_top_ctc/checkpoint_logs.json -P checkpoint_data\n",
        "!wget https://dl.fbaipublicfiles.com/librilight/CPC_checkpoints/not_hub/2levels_6k_top_ctc/checkpoint_args.json -P checkpoint_data\n",
        "!ls checkpoint_data"
      ],
      "execution_count": null,
      "outputs": [
        {
          "output_type": "stream",
          "text": [
            "mkdir: cannot create directory ‘checkpoint_data’: File exists\n",
            "--2020-07-06 22:07:08--  https://dl.fbaipublicfiles.com/librilight/CPC_checkpoints/not_hub/2levels_6k_top_ctc/checkpoint_30.pt\n",
            "Resolving dl.fbaipublicfiles.com (dl.fbaipublicfiles.com)... 172.67.9.4, 104.22.75.142, 104.22.74.142, ...\n",
            "Connecting to dl.fbaipublicfiles.com (dl.fbaipublicfiles.com)|172.67.9.4|:443... connected.\n",
            "HTTP request sent, awaiting response... 200 OK\n",
            "Length: 113599715 (108M) [application/octet-stream]\n",
            "Saving to: ‘checkpoint_data/checkpoint_30.pt.1’\n",
            "\n",
            "checkpoint_30.pt.1  100%[===================>] 108.34M  3.78MB/s    in 30s     \n",
            "\n",
            "2020-07-06 22:07:39 (3.59 MB/s) - ‘checkpoint_data/checkpoint_30.pt.1’ saved [113599715/113599715]\n",
            "\n",
            "--2020-07-06 22:07:41--  https://dl.fbaipublicfiles.com/librilight/CPC_checkpoints/not_hub/2levels_6k_top_ctc/checkpoint_logs.json\n",
            "Resolving dl.fbaipublicfiles.com (dl.fbaipublicfiles.com)... 172.67.9.4, 104.22.74.142, 104.22.75.142, ...\n",
            "Connecting to dl.fbaipublicfiles.com (dl.fbaipublicfiles.com)|172.67.9.4|:443... connected.\n",
            "HTTP request sent, awaiting response... 200 OK\n",
            "Length: 20786 (20K) [text/plain]\n",
            "Saving to: ‘checkpoint_data/checkpoint_logs.json.1’\n",
            "\n",
            "checkpoint_logs.jso 100%[===================>]  20.30K   121KB/s    in 0.2s    \n",
            "\n",
            "2020-07-06 22:07:42 (121 KB/s) - ‘checkpoint_data/checkpoint_logs.json.1’ saved [20786/20786]\n",
            "\n",
            "--2020-07-06 22:07:46--  https://dl.fbaipublicfiles.com/librilight/CPC_checkpoints/not_hub/2levels_6k_top_ctc/checkpoint_args.json\n",
            "Resolving dl.fbaipublicfiles.com (dl.fbaipublicfiles.com)... 172.67.9.4, 104.22.74.142, 104.22.75.142, ...\n",
            "Connecting to dl.fbaipublicfiles.com (dl.fbaipublicfiles.com)|172.67.9.4|:443... connected.\n",
            "HTTP request sent, awaiting response... 200 OK\n",
            "Length: 2063 (2.0K) [text/plain]\n",
            "Saving to: ‘checkpoint_data/checkpoint_args.json.1’\n",
            "\n",
            "checkpoint_args.jso 100%[===================>]   2.01K  --.-KB/s    in 0s      \n",
            "\n",
            "2020-07-06 22:07:47 (13.4 MB/s) - ‘checkpoint_data/checkpoint_args.json.1’ saved [2063/2063]\n",
            "\n",
            "checkpoint_30.pt    checkpoint_args.json    checkpoint_logs.json\n",
            "checkpoint_30.pt.1  checkpoint_args.json.1  checkpoint_logs.json.1\n"
          ],
          "name": "stdout"
        }
      ]
    },
    {
      "cell_type": "code",
      "metadata": {
        "colab_type": "code",
        "id": "SSSaiYo82_oY",
        "colab": {
          "base_uri": "https://localhost:8080/",
          "height": 399
        },
        "outputId": "a31272d1-9fe1-4820-9b08-c1c23f679613"
      },
      "source": [
        "%cd /content/CPC_audio\n",
        "from cpc.dataset import parseSeqLabels\n",
        "from cpc.feature_loader import loadModel\n",
        "\n",
        "checkpoint_path = 'checkpoint_data/checkpoint_30.pt'\n",
        "cpc_model, HIDDEN_CONTEXT_MODEL, HIDDEN_ENCODER_MODEL = loadModel([checkpoint_path])\n",
        "cpc_model = cpc_model.cuda()\n",
        "label_dict, N_PHONES = parseSeqLabels('/content/drive/My Drive/DATA/all_sessions.txt')\n",
        "dataset_train = load_dataset('/content/drive/My Drive/DATA/train', file_extension='.wav', phone_label_dict=label_dict)\n",
        "dataset_val = load_dataset('/content/drive/My Drive/DATA/validation', file_extension='.wav', phone_label_dict=label_dict)\n",
        "data_loader_train = dataset_train.getDataLoader(BATCH_SIZE, \"speaker\", True)\n",
        "data_loader_val = dataset_val.getDataLoader(BATCH_SIZE, \"sequence\", False)"
      ],
      "execution_count": null,
      "outputs": [
        {
          "output_type": "stream",
          "text": [
            "6it [00:00, 476.99it/s]"
          ],
          "name": "stderr"
        },
        {
          "output_type": "stream",
          "text": [
            "/content/CPC_audio\n",
            "Loading checkpoint checkpoint_data/checkpoint_30.pt\n",
            "Loading the state dict at checkpoint_data/checkpoint_30.pt\n",
            "Saved cache file at /content/drive/My Drive/DATA/train/_seqs_cache.txt\n"
          ],
          "name": "stdout"
        },
        {
          "output_type": "stream",
          "text": [
            "\n"
          ],
          "name": "stderr"
        },
        {
          "output_type": "stream",
          "text": [
            "Checking length...\n"
          ],
          "name": "stdout"
        },
        {
          "output_type": "stream",
          "text": [
            "224it [00:00, 326110.41it/s]\n"
          ],
          "name": "stderr"
        },
        {
          "output_type": "stream",
          "text": [
            "Done, elapsed: 0.292 seconds\n",
            "Scanned 224 sequences in 0.29 seconds\n",
            "1 chunks computed\n",
            "Joining pool\n"
          ],
          "name": "stdout"
        },
        {
          "output_type": "stream",
          "text": [
            "3it [00:00, 74.77it/s]"
          ],
          "name": "stderr"
        },
        {
          "output_type": "stream",
          "text": [
            "Joined process, elapsed=0.965 secs\n",
            "Saved cache file at /content/drive/My Drive/DATA/validation/_seqs_cache.txt\n"
          ],
          "name": "stdout"
        },
        {
          "output_type": "stream",
          "text": [
            "\n",
            "99it [00:00, 19012.64it/s]"
          ],
          "name": "stderr"
        },
        {
          "output_type": "stream",
          "text": [
            "Checking length...\n",
            "Done, elapsed: 0.139 seconds\n",
            "Scanned 99 sequences in 0.14 seconds\n",
            "1 chunks computed\n",
            "Joining pool\n"
          ],
          "name": "stdout"
        },
        {
          "output_type": "stream",
          "text": [
            "\n"
          ],
          "name": "stderr"
        },
        {
          "output_type": "stream",
          "text": [
            "Joined process, elapsed=0.738 secs\n"
          ],
          "name": "stdout"
        }
      ]
    },
    {
      "cell_type": "code",
      "metadata": {
        "colab_type": "code",
        "id": "3ulgYV3nHcoa",
        "colab": {
          "base_uri": "https://localhost:8080/",
          "height": 326
        },
        "outputId": "afd2c152-6a12-44fb-e4ad-5b55b8b8c0f3"
      },
      "source": [
        "cpc_model"
      ],
      "execution_count": null,
      "outputs": [
        {
          "output_type": "execute_result",
          "data": {
            "text/plain": [
              "CPCModel(\n",
              "  (gEncoder): CPCEncoder(\n",
              "    (conv0): Conv1d(1, 256, kernel_size=(10,), stride=(5,), padding=(3,))\n",
              "    (batchNorm0): ChannelNorm()\n",
              "    (conv1): Conv1d(256, 256, kernel_size=(8,), stride=(4,), padding=(2,))\n",
              "    (batchNorm1): ChannelNorm()\n",
              "    (conv2): Conv1d(256, 256, kernel_size=(4,), stride=(2,), padding=(1,))\n",
              "    (batchNorm2): ChannelNorm()\n",
              "    (conv3): Conv1d(256, 256, kernel_size=(4,), stride=(2,), padding=(1,))\n",
              "    (batchNorm3): ChannelNorm()\n",
              "    (conv4): Conv1d(256, 256, kernel_size=(4,), stride=(2,), padding=(1,))\n",
              "    (batchNorm4): ChannelNorm()\n",
              "  )\n",
              "  (gAR): CPCAR(\n",
              "    (baseNet): LSTM(256, 250, num_layers=2, batch_first=True)\n",
              "  )\n",
              ")"
            ]
          },
          "metadata": {
            "tags": []
          },
          "execution_count": 71
        }
      ]
    },
    {
      "cell_type": "markdown",
      "metadata": {
        "colab_type": "text",
        "id": "xkKi-qfosng2"
      },
      "source": [
        "Then we will use a simple linear classifier to recognize the phonemes from the features produced by ```cpc_model```. \n",
        "\n",
        "### a) Build the phone classifier \n",
        "\n",
        "Design a class of linear classifiers, ```PhoneClassifier``` that will take as input a batch of sequences of CPC features and output a score vector for each phoneme"
      ]
    },
    {
      "cell_type": "code",
      "metadata": {
        "colab_type": "code",
        "id": "4RpAbz-0CXJJ",
        "colab": {}
      },
      "source": [
        "class PhoneClassifier(torch.nn.Module):\n",
        "\n",
        "  def __init__(self,\n",
        "               input_dim : int,\n",
        "               n_phones : int):\n",
        "    super(PhoneClassifier, self).__init__()\n",
        "    self.linear = torch.nn.Linear(input_dim, n_phones)\n",
        "    \n",
        "\n",
        "  def forward(self, x):\n",
        "    return self.linear(x)"
      ],
      "execution_count": null,
      "outputs": []
    },
    {
      "cell_type": "markdown",
      "metadata": {
        "colab_type": "text",
        "id": "Zt5oa_nqtH-d"
      },
      "source": [
        "Our phone classifier will then be:"
      ]
    },
    {
      "cell_type": "code",
      "metadata": {
        "colab_type": "code",
        "id": "NRBf_83IuLv5",
        "colab": {}
      },
      "source": [
        "phone_classifier = PhoneClassifier(HIDDEN_CONTEXT_MODEL, N_PHONES).to(device)"
      ],
      "execution_count": null,
      "outputs": []
    },
    {
      "cell_type": "markdown",
      "metadata": {
        "colab_type": "text",
        "id": "z_Vf5AbUhqm4"
      },
      "source": [
        "### b - What would be the correct loss criterion for this task ?\n",
        "\n"
      ]
    },
    {
      "cell_type": "code",
      "metadata": {
        "colab_type": "code",
        "id": "uhyPM-cgjrtw",
        "colab": {}
      },
      "source": [
        "loss_criterion = torch.nn.CrossEntropyLoss()"
      ],
      "execution_count": null,
      "outputs": []
    },
    {
      "cell_type": "markdown",
      "metadata": {
        "colab_type": "text",
        "id": "Nv4cSxbaplrz"
      },
      "source": [
        "To perform the fine-tuning, we will also need an optimization function.\n",
        "\n",
        "We will use an [Adam optimizer ](https://pytorch.org/docs/stable/optim.html#torch.optim.Adam)."
      ]
    },
    {
      "cell_type": "code",
      "metadata": {
        "colab_type": "code",
        "id": "W5CgYyAlqKxu",
        "colab": {}
      },
      "source": [
        "parameters = list(phone_classifier.parameters()) + list(cpc_model.parameters())\n",
        "LEARNING_RATE = 2e-4\n",
        "optimizer = torch.optim.Adam(parameters, lr=LEARNING_RATE)"
      ],
      "execution_count": null,
      "outputs": []
    },
    {
      "cell_type": "markdown",
      "metadata": {
        "colab_type": "text",
        "id": "qQB9HS9PvAXc"
      },
      "source": [
        "You might also want to perform this training while freezing the weights of the ```cpc_model```. Indeed, if the pre-training was good enough, then ```cpc_model``` phonemes representation should be linearly separable. In this case the optimizer should be defined like this:"
      ]
    },
    {
      "cell_type": "code",
      "metadata": {
        "colab_type": "code",
        "id": "nRy0gn6awGUQ",
        "colab": {}
      },
      "source": [
        "optimizer_frozen = torch.optim.Adam(list(phone_classifier.parameters()), lr=LEARNING_RATE)"
      ],
      "execution_count": null,
      "outputs": []
    },
    {
      "cell_type": "markdown",
      "metadata": {
        "colab_type": "text",
        "id": "cO93ngIfj4JW"
      },
      "source": [
        "### c- Now let's build a training loop. \n",
        "Complete the function ```train_one_epoch``` below.\n",
        "\n"
      ]
    },
    {
      "cell_type": "code",
      "metadata": {
        "colab_type": "code",
        "id": "fabqj3wvLwgU",
        "colab": {}
      },
      "source": [
        "def train_one_epoch(cpc_model, \n",
        "                    phone_classifier, \n",
        "                    loss_criterion, \n",
        "                    data_loader, \n",
        "                    optimizer):\n",
        "  \n",
        "  cpc_model.train()\n",
        "  loss_criterion.train()\n",
        "\n",
        "  avg_loss = 0\n",
        "  avg_accuracy = 0\n",
        "  n_items = 0\n",
        "  for step, full_data in enumerate(data_loader):\n",
        "    # Each batch is represented by a Tuple of vectors:\n",
        "    # sequence of size : N x 1 x T\n",
        "    # label of size : N x T\n",
        "    # \n",
        "    # With :\n",
        "    # - N number of sequence in the batch\n",
        "    # - T size of each sequence\n",
        "    sequence, label = full_data\n",
        "    \n",
        "    \n",
        "\n",
        "    bs = len(sequence)\n",
        "    seq_len = label.size(1)\n",
        "    optimizer.zero_grad()\n",
        "    context_out, enc_out, _ = cpc_model(sequence.to(device),label.to(device))\n",
        "\n",
        "    scores = phone_classifier(context_out)\n",
        "\n",
        "    scores = scores.permute(0,2,1)\n",
        "    loss = loss_criterion(scores,label.to(device))\n",
        "    loss.backward()\n",
        "    optimizer.step()\n",
        "    avg_loss+=loss.item()*bs\n",
        "    n_items+=bs\n",
        "    correct_labels = scores.argmax(1)\n",
        "    avg_accuracy += ((label==correct_labels.cpu()).float()).mean(1).sum().item()\n",
        "  avg_loss/=n_items\n",
        "  avg_accuracy/=n_items\n",
        "  return avg_loss, avg_accuracy\n",
        "    "
      ],
      "execution_count": null,
      "outputs": []
    },
    {
      "cell_type": "markdown",
      "metadata": {
        "colab_type": "text",
        "id": "quYtjx_TxIPK"
      },
      "source": [
        "Don't forget to test it !"
      ]
    },
    {
      "cell_type": "code",
      "metadata": {
        "colab_type": "code",
        "id": "50MwxbKhxMKp",
        "colab": {}
      },
      "source": [
        "avg_loss_train, avg_accuracy_train = train_one_epoch(cpc_model, phone_classifier, loss_criterion, data_loader_train, optimizer_frozen)"
      ],
      "execution_count": null,
      "outputs": []
    },
    {
      "cell_type": "code",
      "metadata": {
        "colab_type": "code",
        "id": "_o6yk8XKWnYe",
        "colab": {
          "base_uri": "https://localhost:8080/",
          "height": 35
        },
        "outputId": "963b8f22-cc49-4966-f9c1-0712797283fc"
      },
      "source": [
        "avg_loss_train, avg_accuracy_train"
      ],
      "execution_count": null,
      "outputs": [
        {
          "output_type": "execute_result",
          "data": {
            "text/plain": [
              "(3.834875063462691, 0.025656960227272728)"
            ]
          },
          "metadata": {
            "tags": []
          },
          "execution_count": 40
        }
      ]
    },
    {
      "cell_type": "markdown",
      "metadata": {
        "colab_type": "text",
        "id": "EmUkuJ2bwu4Z"
      },
      "source": [
        "### d- Build the validation loop"
      ]
    },
    {
      "cell_type": "code",
      "metadata": {
        "colab_type": "code",
        "id": "kZJMxj6cwzd3",
        "colab": {}
      },
      "source": [
        "def validation_step(cpc_model, \n",
        "                    phone_classifier, \n",
        "                    loss_criterion, \n",
        "                    data_loader):\n",
        "  \n",
        "  cpc_model.eval()\n",
        "  phone_classifier.eval()\n",
        "\n",
        "  avg_loss = 0\n",
        "  avg_accuracy = 0\n",
        "  n_items = 0\n",
        "  with torch.no_grad():\n",
        "    for step, full_data in enumerate(data_loader):\n",
        "      # Each batch is represented by a Tuple of vectors:\n",
        "      # sequence of size : N x 1 x T\n",
        "      # label of size : N x T\n",
        "      # \n",
        "      # With :\n",
        "      # - N number of sequence in the batch\n",
        "      # - T size of each sequence\n",
        "      sequence, label = full_data\n",
        "      bs = len(sequence)\n",
        "      seq_len = label.size(1)\n",
        "      context_out, enc_out, _ = cpc_model(sequence.to(device),label.to(device))\n",
        "      scores = phone_classifier(context_out)\n",
        "      scores = scores.permute(0,2,1)\n",
        "      loss = loss_criterion(scores,label.to(device))\n",
        "      avg_loss+=loss.item()*bs\n",
        "      n_items+=bs\n",
        "      correct_labels = scores.argmax(1)\n",
        "      avg_accuracy += ((label==correct_labels.cpu()).float()).mean(1).sum().item()\n",
        "  avg_loss/=n_items\n",
        "  avg_accuracy/=n_items\n",
        "  return avg_loss, avg_accuracy"
      ],
      "execution_count": null,
      "outputs": []
    },
    {
      "cell_type": "code",
      "metadata": {
        "id": "p5qhmP-dpDCE",
        "colab_type": "code",
        "colab": {
          "base_uri": "https://localhost:8080/",
          "height": 35
        },
        "outputId": "7dd287ed-bd85-4504-c25f-20fec8a2c61d"
      },
      "source": [
        "avg_loss_val, avg_accuracy_val = train_one_epoch(cpc_model, phone_classifier, loss_criterion, data_loader_val, optimizer_frozen)\n",
        "avg_loss_val, avg_accuracy_val"
      ],
      "execution_count": null,
      "outputs": [
        {
          "output_type": "execute_result",
          "data": {
            "text/plain": [
              "(3.8037957615322537, 0.037543402777777776)"
            ]
          },
          "metadata": {
            "tags": []
          },
          "execution_count": 42
        }
      ]
    },
    {
      "cell_type": "markdown",
      "metadata": {
        "colab_type": "text",
        "id": "vownVCt7xbVh"
      },
      "source": [
        "### e- Run everything\n",
        "\n",
        "Test this functiion with both ```optimizer``` and ```optimizer_frozen```."
      ]
    },
    {
      "cell_type": "code",
      "metadata": {
        "colab_type": "code",
        "id": "xvO_4nKUxfQx",
        "colab": {}
      },
      "source": [
        "def run(cpc_model, \n",
        "        phone_classifier, \n",
        "        loss_criterion, \n",
        "        data_loader_train, \n",
        "        data_loader_val, \n",
        "        optimizer,\n",
        "        n_epoch):\n",
        "    \n",
        "    train_losses = []\n",
        "    val_losses = []\n",
        "    train_accuracy =[]\n",
        "    val_accuracy = []\n",
        "\n",
        "    for epoch in range(n_epoch):\n",
        "\n",
        "        print(f\"Running epoch {epoch + 1} / {n_epoch}\")\n",
        "        loss_train, acc_train = train_one_epoch(cpc_model, phone_classifier, loss_criterion, data_loader_train, optimizer)\n",
        "        print(\"-------------------\")\n",
        "        print(f\"Training dataset :\")\n",
        "        print(f\"Average loss : {loss_train}. Average accuracy {acc_train}\")\n",
        "        train_losses.append(loss_train)\n",
        "        train_accuracy.append(acc_train)\n",
        "\n",
        "        print(\"-------------------\")\n",
        "        print(\"Validation dataset\")\n",
        "        loss_val, acc_val = validation_step(cpc_model, phone_classifier, loss_criterion, data_loader_val)\n",
        "        print(f\"Average loss : {loss_val}. Average accuracy {acc_val}\")\n",
        "        print(\"-------------------\")\n",
        "        print()\n",
        "        val_losses.append(loss_val)\n",
        "        val_accuracy.append(acc_val)\n",
        "\n",
        "    plt.plot(train_losses)\n",
        "    plt.plot(val_losses)\n",
        "    plt.title('Model Loss')\n",
        "    plt.ylabel('loss')\n",
        "    plt.xlabel('epoch')\n",
        "    plt.legend(['train', 'Validation'], loc='upper left')\n",
        "    plt.show()\n",
        "    plt.plot(train_accuracy)\n",
        "    plt.plot(val_accuracy )\n",
        "    plt.title('Model Accuracy')\n",
        "    plt.ylabel('Accuracy')\n",
        "    plt.xlabel('epoch')\n",
        "    plt.legend(['train', 'Validation'], loc='upper left')\n",
        "    plt.show()"
      ],
      "execution_count": null,
      "outputs": []
    },
    {
      "cell_type": "code",
      "metadata": {
        "id": "iinqtl4trIyx",
        "colab_type": "code",
        "colab": {}
      },
      "source": [
        "#import matplotlib.pyplot as plt\n"
      ],
      "execution_count": null,
      "outputs": []
    },
    {
      "cell_type": "code",
      "metadata": {
        "colab_type": "code",
        "id": "ceCEO2h2bxAn",
        "colab": {
          "base_uri": "https://localhost:8080/",
          "height": 1000
        },
        "outputId": "eb33c194-719b-409f-af06-63f5ae6c5f9c"
      },
      "source": [
        "run(cpc_model,phone_classifier,loss_criterion,data_loader_train,data_loader_val,optimizer_frozen,n_epoch=70)"
      ],
      "execution_count": null,
      "outputs": [
        {
          "output_type": "stream",
          "text": [
            "Running epoch 1 / 70\n",
            "-------------------\n",
            "Training dataset :\n",
            "Average loss : 3.2988525087183174. Average accuracy 0.10458096590909091\n",
            "-------------------\n",
            "Validation dataset\n",
            "Average loss : 3.4401525921291776. Average accuracy 0.0859375\n",
            "-------------------\n",
            "\n",
            "Running epoch 2 / 70\n",
            "-------------------\n",
            "Training dataset :\n",
            "Average loss : 3.2846440835432573. Average accuracy 0.11550071022727272\n",
            "-------------------\n",
            "Validation dataset\n",
            "Average loss : 3.443709479437934. Average accuracy 0.08637152777777778\n",
            "-------------------\n",
            "\n",
            "Running epoch 3 / 70\n",
            "-------------------\n",
            "Training dataset :\n",
            "Average loss : 3.28521483594721. Average accuracy 0.1142578125\n",
            "-------------------\n",
            "Validation dataset\n",
            "Average loss : 3.442446655697293. Average accuracy 0.08648003472222222\n",
            "-------------------\n",
            "\n",
            "Running epoch 4 / 70\n",
            "-------------------\n",
            "Training dataset :\n",
            "Average loss : 3.2890716899525034. Average accuracy 0.11310369318181818\n",
            "-------------------\n",
            "Validation dataset\n",
            "Average loss : 3.4414238135019937. Average accuracy 0.08648003472222222\n",
            "-------------------\n",
            "\n",
            "Running epoch 5 / 70\n",
            "-------------------\n",
            "Training dataset :\n",
            "Average loss : 3.2845771962946113. Average accuracy 0.1142578125\n",
            "-------------------\n",
            "Validation dataset\n",
            "Average loss : 3.44165481461419. Average accuracy 0.0866970486111111\n",
            "-------------------\n",
            "\n",
            "Running epoch 6 / 70\n",
            "-------------------\n",
            "Training dataset :\n",
            "Average loss : 3.292054523121227. Average accuracy 0.10768821022727272\n",
            "-------------------\n",
            "Validation dataset\n",
            "Average loss : 3.44148506058587. Average accuracy 0.08648003472222222\n",
            "-------------------\n",
            "\n",
            "Running epoch 7 / 70\n",
            "-------------------\n",
            "Training dataset :\n",
            "Average loss : 3.2845874482935127. Average accuracy 0.11514559659090909\n",
            "-------------------\n",
            "Validation dataset\n",
            "Average loss : 3.4421290821499295. Average accuracy 0.08637152777777778\n",
            "-------------------\n",
            "\n",
            "Running epoch 8 / 70\n",
            "-------------------\n",
            "Training dataset :\n",
            "Average loss : 3.283396850932728. Average accuracy 0.11479048295454546\n",
            "-------------------\n",
            "Validation dataset\n",
            "Average loss : 3.4404617150624595. Average accuracy 0.0871310763888889\n",
            "-------------------\n",
            "\n",
            "Running epoch 9 / 70\n",
            "-------------------\n",
            "Training dataset :\n",
            "Average loss : 3.2998366355895996. Average accuracy 0.10493607954545454\n",
            "-------------------\n",
            "Validation dataset\n",
            "Average loss : 3.4394830067952475. Average accuracy 0.08680555555555555\n",
            "-------------------\n",
            "\n",
            "Running epoch 10 / 70\n",
            "-------------------\n",
            "Training dataset :\n",
            "Average loss : 3.283324956893921. Average accuracy 0.11408025568181818\n",
            "-------------------\n",
            "Validation dataset\n",
            "Average loss : 3.442252106136746. Average accuracy 0.08658854166666667\n",
            "-------------------\n",
            "\n",
            "Running epoch 11 / 70\n",
            "-------------------\n",
            "Training dataset :\n",
            "Average loss : 3.284166314385154. Average accuracy 0.1142578125\n",
            "-------------------\n",
            "Validation dataset\n",
            "Average loss : 3.4415952364603677. Average accuracy 0.08723958333333333\n",
            "-------------------\n",
            "\n",
            "Running epoch 12 / 70\n",
            "-------------------\n",
            "Training dataset :\n",
            "Average loss : 3.2816299958662554. Average accuracy 0.1142578125\n",
            "-------------------\n",
            "Validation dataset\n",
            "Average loss : 3.438862747616238. Average accuracy 0.0871310763888889\n",
            "-------------------\n",
            "\n",
            "Running epoch 13 / 70\n",
            "-------------------\n",
            "Training dataset :\n",
            "Average loss : 3.281156214800748. Average accuracy 0.1162109375\n",
            "-------------------\n",
            "Validation dataset\n",
            "Average loss : 3.4421257177988687. Average accuracy 0.0866970486111111\n",
            "-------------------\n",
            "\n",
            "Running epoch 14 / 70\n",
            "-------------------\n",
            "Training dataset :\n",
            "Average loss : 3.287189093503085. Average accuracy 0.11186079545454546\n",
            "-------------------\n",
            "Validation dataset\n",
            "Average loss : 3.440730783674452. Average accuracy 0.08723958333333333\n",
            "-------------------\n",
            "\n",
            "Running epoch 15 / 70\n",
            "-------------------\n",
            "Training dataset :\n",
            "Average loss : 3.2816229950297964. Average accuracy 0.11647727272727272\n",
            "-------------------\n",
            "Validation dataset\n",
            "Average loss : 3.442605415980021. Average accuracy 0.08658854166666667\n",
            "-------------------\n",
            "\n",
            "Running epoch 16 / 70\n",
            "-------------------\n",
            "Training dataset :\n",
            "Average loss : 3.294764930551702. Average accuracy 0.10573508522727272\n",
            "-------------------\n",
            "Validation dataset\n",
            "Average loss : 3.4422132439083524. Average accuracy 0.08637152777777778\n",
            "-------------------\n",
            "\n",
            "Running epoch 17 / 70\n",
            "-------------------\n",
            "Training dataset :\n",
            "Average loss : 3.2952683622186836. Average accuracy 0.10502485795454546\n",
            "-------------------\n",
            "Validation dataset\n",
            "Average loss : 3.4424899419148765. Average accuracy 0.0871310763888889\n",
            "-------------------\n",
            "\n",
            "Running epoch 18 / 70\n",
            "-------------------\n",
            "Training dataset :\n",
            "Average loss : 3.282168821855025. Average accuracy 0.11470170454545454\n",
            "-------------------\n",
            "Validation dataset\n",
            "Average loss : 3.4434932602776422. Average accuracy 0.08637152777777778\n",
            "-------------------\n",
            "\n",
            "Running epoch 19 / 70\n",
            "-------------------\n",
            "Training dataset :\n",
            "Average loss : 3.2887266115708784. Average accuracy 0.10955255681818182\n",
            "-------------------\n",
            "Validation dataset\n",
            "Average loss : 3.4425222078959146. Average accuracy 0.08658854166666667\n",
            "-------------------\n",
            "\n",
            "Running epoch 20 / 70\n",
            "-------------------\n",
            "Training dataset :\n",
            "Average loss : 3.29355187849565. Average accuracy 0.109375\n",
            "-------------------\n",
            "Validation dataset\n",
            "Average loss : 3.4439525604248047. Average accuracy 0.08658854166666667\n",
            "-------------------\n",
            "\n",
            "Running epoch 21 / 70\n",
            "-------------------\n",
            "Training dataset :\n",
            "Average loss : 3.2957438338886607. Average accuracy 0.10546875\n",
            "-------------------\n",
            "Validation dataset\n",
            "Average loss : 3.4426875379350452. Average accuracy 0.08723958333333333\n",
            "-------------------\n",
            "\n",
            "Running epoch 22 / 70\n",
            "-------------------\n",
            "Training dataset :\n",
            "Average loss : 3.2958164648576216. Average accuracy 0.10582386363636363\n",
            "-------------------\n",
            "Validation dataset\n",
            "Average loss : 3.4443281491597495. Average accuracy 0.0861545138888889\n",
            "-------------------\n",
            "\n",
            "Running epoch 23 / 70\n",
            "-------------------\n",
            "Training dataset :\n",
            "Average loss : 3.2800583189184014. Average accuracy 0.11443536931818182\n",
            "-------------------\n",
            "Validation dataset\n",
            "Average loss : 3.443740553326077. Average accuracy 0.08680555555555555\n",
            "-------------------\n",
            "\n",
            "Running epoch 24 / 70\n",
            "-------------------\n",
            "Training dataset :\n",
            "Average loss : 3.2806938995014536. Average accuracy 0.11505681818181818\n",
            "-------------------\n",
            "Validation dataset\n",
            "Average loss : 3.442551294962565. Average accuracy 0.0861545138888889\n",
            "-------------------\n",
            "\n",
            "Running epoch 25 / 70\n",
            "-------------------\n",
            "Training dataset :\n",
            "Average loss : 3.281889416954734. Average accuracy 0.11363636363636363\n",
            "-------------------\n",
            "Validation dataset\n",
            "Average loss : 3.441429773966471. Average accuracy 0.08702256944444445\n",
            "-------------------\n",
            "\n",
            "Running epoch 26 / 70\n",
            "-------------------\n",
            "Training dataset :\n",
            "Average loss : 3.278319575569846. Average accuracy 0.11443536931818182\n",
            "-------------------\n",
            "Validation dataset\n",
            "Average loss : 3.4425111876593695. Average accuracy 0.0866970486111111\n",
            "-------------------\n",
            "\n",
            "Running epoch 27 / 70\n",
            "-------------------\n",
            "Training dataset :\n",
            "Average loss : 3.279698133468628. Average accuracy 0.1142578125\n",
            "-------------------\n",
            "Validation dataset\n",
            "Average loss : 3.4407820436689587. Average accuracy 0.08680555555555555\n",
            "-------------------\n",
            "\n",
            "Running epoch 28 / 70\n",
            "-------------------\n",
            "Training dataset :\n",
            "Average loss : 3.281856666911732. Average accuracy 0.11461292613636363\n",
            "-------------------\n",
            "Validation dataset\n",
            "Average loss : 3.4433636135525174. Average accuracy 0.0866970486111111\n",
            "-------------------\n",
            "\n",
            "Running epoch 29 / 70\n",
            "-------------------\n",
            "Training dataset :\n",
            "Average loss : 3.280260996385054. Average accuracy 0.11399147727272728\n",
            "-------------------\n",
            "Validation dataset\n",
            "Average loss : 3.4431673420800104. Average accuracy 0.08680555555555555\n",
            "-------------------\n",
            "\n",
            "Running epoch 30 / 70\n",
            "-------------------\n",
            "Training dataset :\n",
            "Average loss : 3.2858581326224585. Average accuracy 0.11390269886363637\n",
            "-------------------\n",
            "Validation dataset\n",
            "Average loss : 3.4408437146080866. Average accuracy 0.0871310763888889\n",
            "-------------------\n",
            "\n",
            "Running epoch 31 / 70\n",
            "-------------------\n",
            "Training dataset :\n",
            "Average loss : 3.278981707312844. Average accuracy 0.11434659090909091\n",
            "-------------------\n",
            "Validation dataset\n",
            "Average loss : 3.4447599252065024. Average accuracy 0.0866970486111111\n",
            "-------------------\n",
            "\n",
            "Running epoch 32 / 70\n",
            "-------------------\n",
            "Training dataset :\n",
            "Average loss : 3.295299833471125. Average accuracy 0.10529119318181818\n",
            "-------------------\n",
            "Validation dataset\n",
            "Average loss : 3.443592839770847. Average accuracy 0.0861545138888889\n",
            "-------------------\n",
            "\n",
            "Running epoch 33 / 70\n",
            "-------------------\n",
            "Training dataset :\n",
            "Average loss : 3.28397443077781. Average accuracy 0.11150568181818182\n",
            "-------------------\n",
            "Validation dataset\n",
            "Average loss : 3.4447986284891763. Average accuracy 0.08648003472222222\n",
            "-------------------\n",
            "\n",
            "Running epoch 34 / 70\n",
            "-------------------\n",
            "Training dataset :\n",
            "Average loss : 3.2784773219715464. Average accuracy 0.11541193181818182\n",
            "-------------------\n",
            "Validation dataset\n",
            "Average loss : 3.44346465004815. Average accuracy 0.0861545138888889\n",
            "-------------------\n",
            "\n",
            "Running epoch 35 / 70\n",
            "-------------------\n",
            "Training dataset :\n",
            "Average loss : 3.278635198419744. Average accuracy 0.1123046875\n",
            "-------------------\n",
            "Validation dataset\n",
            "Average loss : 3.444623867670695. Average accuracy 0.0861545138888889\n",
            "-------------------\n",
            "\n",
            "Running epoch 36 / 70\n",
            "-------------------\n",
            "Training dataset :\n",
            "Average loss : 3.286930192600597. Average accuracy 0.10688920454545454\n",
            "-------------------\n",
            "Validation dataset\n",
            "Average loss : 3.4435606002807617. Average accuracy 0.0859375\n",
            "-------------------\n",
            "\n",
            "Running epoch 37 / 70\n",
            "-------------------\n",
            "Training dataset :\n",
            "Average loss : 3.279781796715476. Average accuracy 0.11479048295454546\n",
            "-------------------\n",
            "Validation dataset\n",
            "Average loss : 3.4422479470570884. Average accuracy 0.08702256944444445\n",
            "-------------------\n",
            "\n",
            "Running epoch 38 / 70\n",
            "-------------------\n",
            "Training dataset :\n",
            "Average loss : 3.2816179448908027. Average accuracy 0.11487926136363637\n",
            "-------------------\n",
            "Validation dataset\n",
            "Average loss : 3.4444528685675726. Average accuracy 0.08626302083333333\n",
            "-------------------\n",
            "\n",
            "Running epoch 39 / 70\n",
            "-------------------\n",
            "Training dataset :\n",
            "Average loss : 3.276442614468661. Average accuracy 0.11585582386363637\n",
            "-------------------\n",
            "Validation dataset\n",
            "Average loss : 3.443891445795695. Average accuracy 0.08680555555555555\n",
            "-------------------\n",
            "\n",
            "Running epoch 40 / 70\n",
            "-------------------\n",
            "Training dataset :\n",
            "Average loss : 3.2815299250862817. Average accuracy 0.11257102272727272\n",
            "-------------------\n",
            "Validation dataset\n",
            "Average loss : 3.4458569950527616. Average accuracy 0.08637152777777778\n",
            "-------------------\n",
            "\n",
            "Running epoch 41 / 70\n",
            "-------------------\n",
            "Training dataset :\n",
            "Average loss : 3.2814397595145484. Average accuracy 0.11390269886363637\n",
            "-------------------\n",
            "Validation dataset\n",
            "Average loss : 3.4444095028771295. Average accuracy 0.08658854166666667\n",
            "-------------------\n",
            "\n",
            "Running epoch 42 / 70\n",
            "-------------------\n",
            "Training dataset :\n",
            "Average loss : 3.278123140335083. Average accuracy 0.11505681818181818\n",
            "-------------------\n",
            "Validation dataset\n",
            "Average loss : 3.4445010556115045. Average accuracy 0.0869140625\n",
            "-------------------\n",
            "\n",
            "Running epoch 43 / 70\n",
            "-------------------\n",
            "Training dataset :\n",
            "Average loss : 3.28666936267506. Average accuracy 0.11150568181818182\n",
            "-------------------\n",
            "Validation dataset\n",
            "Average loss : 3.4437787532806396. Average accuracy 0.08637152777777778\n",
            "-------------------\n",
            "\n",
            "Running epoch 44 / 70\n",
            "-------------------\n",
            "Training dataset :\n",
            "Average loss : 3.2775016264481978. Average accuracy 0.11496803977272728\n",
            "-------------------\n",
            "Validation dataset\n",
            "Average loss : 3.4440897040896945. Average accuracy 0.08637152777777778\n",
            "-------------------\n",
            "\n",
            "Running epoch 45 / 70\n",
            "-------------------\n",
            "Training dataset :\n",
            "Average loss : 3.275759220123291. Average accuracy 0.11452414772727272\n",
            "-------------------\n",
            "Validation dataset\n",
            "Average loss : 3.444093624750773. Average accuracy 0.08648003472222222\n",
            "-------------------\n",
            "\n",
            "Running epoch 46 / 70\n",
            "-------------------\n",
            "Training dataset :\n",
            "Average loss : 3.2830317237160425. Average accuracy 0.11239346590909091\n",
            "-------------------\n",
            "Validation dataset\n",
            "Average loss : 3.4423524538675943. Average accuracy 0.0857204861111111\n",
            "-------------------\n",
            "\n",
            "Running epoch 47 / 70\n",
            "-------------------\n",
            "Training dataset :\n",
            "Average loss : 3.2843420072035356. Average accuracy 0.11337002840909091\n",
            "-------------------\n",
            "Validation dataset\n",
            "Average loss : 3.4438331656985812. Average accuracy 0.0861545138888889\n",
            "-------------------\n",
            "\n",
            "Running epoch 48 / 70\n",
            "-------------------\n",
            "Training dataset :\n",
            "Average loss : 3.280041737989946. Average accuracy 0.11328125\n",
            "-------------------\n",
            "Validation dataset\n",
            "Average loss : 3.4441807534959583. Average accuracy 0.08702256944444445\n",
            "-------------------\n",
            "\n",
            "Running epoch 49 / 70\n",
            "-------------------\n",
            "Training dataset :\n",
            "Average loss : 3.291776938871904. Average accuracy 0.10564630681818182\n",
            "-------------------\n",
            "Validation dataset\n",
            "Average loss : 3.4424438741472034. Average accuracy 0.0866970486111111\n",
            "-------------------\n",
            "\n",
            "Running epoch 50 / 70\n",
            "-------------------\n",
            "Training dataset :\n",
            "Average loss : 3.2795548872514204. Average accuracy 0.11479048295454546\n",
            "-------------------\n",
            "Validation dataset\n",
            "Average loss : 3.441983805762397. Average accuracy 0.08734809027777778\n",
            "-------------------\n",
            "\n",
            "Running epoch 51 / 70\n",
            "-------------------\n",
            "Training dataset :\n",
            "Average loss : 3.287409045479514. Average accuracy 0.10662286931818182\n",
            "-------------------\n",
            "Validation dataset\n",
            "Average loss : 3.4451720979478626. Average accuracy 0.08680555555555555\n",
            "-------------------\n",
            "\n",
            "Running epoch 52 / 70\n",
            "-------------------\n",
            "Training dataset :\n",
            "Average loss : 3.278865033929998. Average accuracy 0.11408025568181818\n",
            "-------------------\n",
            "Validation dataset\n",
            "Average loss : 3.446348720126682. Average accuracy 0.08626302083333333\n",
            "-------------------\n",
            "\n",
            "Running epoch 53 / 70\n",
            "-------------------\n",
            "Training dataset :\n",
            "Average loss : 3.2762347134676846. Average accuracy 0.115234375\n",
            "-------------------\n",
            "Validation dataset\n",
            "Average loss : 3.4445762634277344. Average accuracy 0.08658854166666667\n",
            "-------------------\n",
            "\n",
            "Running epoch 54 / 70\n",
            "-------------------\n",
            "Training dataset :\n",
            "Average loss : 3.2785368399186567. Average accuracy 0.11399147727272728\n",
            "-------------------\n",
            "Validation dataset\n",
            "Average loss : 3.4446787569257946. Average accuracy 0.0859375\n",
            "-------------------\n",
            "\n",
            "Running epoch 55 / 70\n",
            "-------------------\n",
            "Training dataset :\n",
            "Average loss : 3.277344898744063. Average accuracy 0.11416903409090909\n",
            "-------------------\n",
            "Validation dataset\n",
            "Average loss : 3.44553640153673. Average accuracy 0.0861545138888889\n",
            "-------------------\n",
            "\n",
            "Running epoch 56 / 70\n",
            "-------------------\n",
            "Training dataset :\n",
            "Average loss : 3.273258100856434. Average accuracy 0.11594460227272728\n",
            "-------------------\n",
            "Validation dataset\n",
            "Average loss : 3.443495750427246. Average accuracy 0.08680555555555555\n",
            "-------------------\n",
            "\n",
            "Running epoch 57 / 70\n",
            "-------------------\n",
            "Training dataset :\n",
            "Average loss : 3.277030511335893. Average accuracy 0.11319247159090909\n",
            "-------------------\n",
            "Validation dataset\n",
            "Average loss : 3.4456198745303683. Average accuracy 0.08604600694444445\n",
            "-------------------\n",
            "\n",
            "Running epoch 58 / 70\n",
            "-------------------\n",
            "Training dataset :\n",
            "Average loss : 3.2782207185571846. Average accuracy 0.11345880681818182\n",
            "-------------------\n",
            "Validation dataset\n",
            "Average loss : 3.4454419083065457. Average accuracy 0.08648003472222222\n",
            "-------------------\n",
            "\n",
            "Running epoch 59 / 70\n",
            "-------------------\n",
            "Training dataset :\n",
            "Average loss : 3.2762946649031206. Average accuracy 0.11594460227272728\n",
            "-------------------\n",
            "Validation dataset\n",
            "Average loss : 3.4443088372548423. Average accuracy 0.08626302083333333\n",
            "-------------------\n",
            "\n",
            "Running epoch 60 / 70\n",
            "-------------------\n",
            "Training dataset :\n",
            "Average loss : 3.2808028784665195. Average accuracy 0.11168323863636363\n",
            "-------------------\n",
            "Validation dataset\n",
            "Average loss : 3.4450301859113903. Average accuracy 0.0861545138888889\n",
            "-------------------\n",
            "\n",
            "Running epoch 61 / 70\n",
            "-------------------\n",
            "Training dataset :\n",
            "Average loss : 3.2749042294242163. Average accuracy 0.11603338068181818\n",
            "-------------------\n",
            "Validation dataset\n",
            "Average loss : 3.4455604553222656. Average accuracy 0.08561197916666667\n",
            "-------------------\n",
            "\n",
            "Running epoch 62 / 70\n",
            "-------------------\n",
            "Training dataset :\n",
            "Average loss : 3.2779922485351562. Average accuracy 0.11292613636363637\n",
            "-------------------\n",
            "Validation dataset\n",
            "Average loss : 3.4456112914615207. Average accuracy 0.0861545138888889\n",
            "-------------------\n",
            "\n",
            "Running epoch 63 / 70\n",
            "-------------------\n",
            "Training dataset :\n",
            "Average loss : 3.2851639444177803. Average accuracy 0.10848721590909091\n",
            "-------------------\n",
            "Validation dataset\n",
            "Average loss : 3.4468360212114124. Average accuracy 0.0859375\n",
            "-------------------\n",
            "\n",
            "Running epoch 64 / 70\n",
            "-------------------\n",
            "Training dataset :\n",
            "Average loss : 3.2717246359044854. Average accuracy 0.11461292613636363\n",
            "-------------------\n",
            "Validation dataset\n",
            "Average loss : 3.446296056111654. Average accuracy 0.08626302083333333\n",
            "-------------------\n",
            "\n",
            "Running epoch 65 / 70\n",
            "-------------------\n",
            "Training dataset :\n",
            "Average loss : 3.2734087813984263. Average accuracy 0.11399147727272728\n",
            "-------------------\n",
            "Validation dataset\n",
            "Average loss : 3.445230801900228. Average accuracy 0.08637152777777778\n",
            "-------------------\n",
            "\n",
            "Running epoch 66 / 70\n",
            "-------------------\n",
            "Training dataset :\n",
            "Average loss : 3.2731976075605913. Average accuracy 0.11541193181818182\n",
            "-------------------\n",
            "Validation dataset\n",
            "Average loss : 3.4443313545650907. Average accuracy 0.08561197916666667\n",
            "-------------------\n",
            "\n",
            "Running epoch 67 / 70\n",
            "-------------------\n",
            "Training dataset :\n",
            "Average loss : 3.27970027923584. Average accuracy 0.11381392045454546\n",
            "-------------------\n",
            "Validation dataset\n",
            "Average loss : 3.444207535849677. Average accuracy 0.08539496527777778\n",
            "-------------------\n",
            "\n",
            "Running epoch 68 / 70\n",
            "-------------------\n",
            "Training dataset :\n",
            "Average loss : 3.2750392610376533. Average accuracy 0.11381392045454546\n",
            "-------------------\n",
            "Validation dataset\n",
            "Average loss : 3.445136626561483. Average accuracy 0.08702256944444445\n",
            "-------------------\n",
            "\n",
            "Running epoch 69 / 70\n",
            "-------------------\n",
            "Training dataset :\n",
            "Average loss : 3.2745993354103784. Average accuracy 0.11496803977272728\n",
            "-------------------\n",
            "Validation dataset\n",
            "Average loss : 3.4441201951768665. Average accuracy 0.08604600694444445\n",
            "-------------------\n",
            "\n",
            "Running epoch 70 / 70\n",
            "-------------------\n",
            "Training dataset :\n",
            "Average loss : 3.270360166376287. Average accuracy 0.11505681818181818\n",
            "-------------------\n",
            "Validation dataset\n",
            "Average loss : 3.4450841744740806. Average accuracy 0.08550347222222222\n",
            "-------------------\n",
            "\n"
          ],
          "name": "stdout"
        },
        {
          "output_type": "display_data",
          "data": {
            "image/png": "[encoded data removed]",
            "text/plain": [
              "<Figure size 432x288 with 1 Axes>"
            ]
          },
          "metadata": {
            "tags": [],
            "needs_background": "light"
          }
        },
        {
          "output_type": "display_data",
          "data": {
            "image/png": "[encoded data removed]",
            "text/plain": [
              "<Figure size 432x288 with 1 Axes>"
            ]
          },
          "metadata": {
            "tags": [],
            "needs_background": "light"
          }
        }
      ]
    },
    {
      "cell_type": "markdown",
      "metadata": {
        "colab_type": "text",
        "id": "TdfWDiFnylMT"
      },
      "source": [
        "## Exercise 2 : Phone separability without alignment (PER)\n",
        "\n",
        "Aligned data are very practical, but un real life they are rarely available. That's why in this excercise we will consider a fine-tuning with non-aligned phonemes.\n",
        "\n",
        "The model, the optimizer and the phone classifier will stay the same. However, we will replace our phone criterion with a [CTC loss](https://pytorch.org/docs/master/generated/torch.nn.CTCLoss.html). "
      ]
    },
    {
      "cell_type": "code",
      "metadata": {
        "colab_type": "code",
        "id": "_9BpM_Lpzgx8",
        "colab": {}
      },
      "source": [
        "loss_ctc = torch.nn.CTCLoss()"
      ],
      "execution_count": null,
      "outputs": []
    },
    {
      "cell_type": "markdown",
      "metadata": {
        "colab_type": "text",
        "id": "AQpYgTyfzsrq"
      },
      "source": [
        "Besides, we will use a siglthy different dataset class."
      ]
    },
    {
      "cell_type": "code",
      "metadata": {
        "colab_type": "code",
        "id": "9HRxoatlz3ZZ",
        "colab": {
          "base_uri": "https://localhost:8080/",
          "height": 290
        },
        "outputId": "36576546-0906-4ef7-eec1-bb3a96b19450"
      },
      "source": [
        "%cd /content/CPC_audio\n",
        "from cpc.eval.common_voices_eval import SingleSequenceDataset, parseSeqLabels, findAllSeqs\n",
        "path_train_data_per = '/content/drive/My Drive/DATA/train'\n",
        "path_val_data_per = '/content/drive/My Drive/DATA/validation'\n",
        "path_phone_data_per = '/content/drive/My Drive/DATA/all_sessions.txt'\n",
        "BATCH_SIZE=8\n",
        "\n",
        "phone_labels, N_PHONES = parseSeqLabels(path_phone_data_per)\n",
        "data_train_per, _ = findAllSeqs(path_train_data_per, extension='.wav')\n",
        "dataset_train_non_aligned = SingleSequenceDataset(path_train_data_per, data_train_per, phone_labels)\n",
        "data_loader_train = torch.utils.data.DataLoader(dataset_train_non_aligned, batch_size=BATCH_SIZE,\n",
        "                                                shuffle=True)\n",
        "\n",
        "data_val_per, _ = findAllSeqs(path_val_data_per, extension='.wav')\n",
        "dataset_val_non_aligned = SingleSequenceDataset(path_val_data_per, data_val_per, phone_labels)\n",
        "data_loader_val = torch.utils.data.DataLoader(dataset_val_non_aligned, batch_size=BATCH_SIZE,\n",
        "                                              shuffle=True)"
      ],
      "execution_count": null,
      "outputs": [
        {
          "output_type": "stream",
          "text": [
            "6it [00:00, 527.13it/s]"
          ],
          "name": "stderr"
        },
        {
          "output_type": "stream",
          "text": [
            "/content/CPC_audio\n",
            "Saved cache file at /content/drive/My Drive/DATA/train/_seqs_cache.txt\n"
          ],
          "name": "stdout"
        },
        {
          "output_type": "stream",
          "text": [
            "\n",
            "3it [00:00, 334.15it/s]"
          ],
          "name": "stderr"
        },
        {
          "output_type": "stream",
          "text": [
            "Loaded 225 sequences in 2.86 seconds\n",
            "maxSizeSeq : 432696\n",
            "maxSizePhone : 147\n",
            "minSizePhone : 17\n",
            "Total size dataset 0.636625 hours\n",
            "Saved cache file at /content/drive/My Drive/DATA/validation/_seqs_cache.txt\n"
          ],
          "name": "stdout"
        },
        {
          "output_type": "stream",
          "text": [
            "\n"
          ],
          "name": "stderr"
        },
        {
          "output_type": "stream",
          "text": [
            "Loaded 100 sequences in 2.38 seconds\n",
            "maxSizeSeq : 470085\n",
            "maxSizePhone : 174\n",
            "minSizePhone : 11\n",
            "Total size dataset 0.45619005208333335 hours\n"
          ],
          "name": "stdout"
        }
      ]
    },
    {
      "cell_type": "markdown",
      "metadata": {
        "colab_type": "text",
        "id": "GwAckY62z7s9"
      },
      "source": [
        "### a- Training\n",
        "\n",
        "Since the phonemes are not aligned, there is no simple direct way to get the classification acuracy of a model. Write and test the three functions ```train_one_epoch_ctc```, ```validation_step_ctc``` and ```run_ctc``` as before but without considering the average acuracy of the model. "
      ]
    },
    {
      "cell_type": "code",
      "metadata": {
        "colab_type": "code",
        "id": "oYg5YzW8EHl4",
        "colab": {
          "base_uri": "https://localhost:8080/",
          "height": 54
        },
        "outputId": "5f6ead35-d20d-4a4c-a540-325a741c2568"
      },
      "source": [
        "from cpc.feature_loader import loadModel\n",
        "\n",
        "checkpoint_path = 'checkpoint_data/checkpoint_30.pt'\n",
        "cpc_model, HIDDEN_CONTEXT_MODEL, HIDDEN_ENCODER_MODEL = loadModel([checkpoint_path])\n",
        "cpc_model = cpc_model.cuda()\n",
        "phone_classifier = PhoneClassifier(HIDDEN_CONTEXT_MODEL, N_PHONES).to(device)"
      ],
      "execution_count": null,
      "outputs": [
        {
          "output_type": "stream",
          "text": [
            "Loading checkpoint checkpoint_data/checkpoint_30.pt\n",
            "Loading the state dict at checkpoint_data/checkpoint_30.pt\n"
          ],
          "name": "stdout"
        }
      ]
    },
    {
      "cell_type": "code",
      "metadata": {
        "colab_type": "code",
        "id": "CFQ2g3PjErdZ",
        "colab": {}
      },
      "source": [
        "parameters = list(phone_classifier.parameters()) + list(cpc_model.parameters())\n",
        "LEARNING_RATE = 2e-4\n",
        "optimizer = torch.optim.Adam(parameters, lr=LEARNING_RATE)\n",
        "\n",
        "optimizer_frozen = torch.optim.Adam(list(phone_classifier.parameters()), lr=LEARNING_RATE)"
      ],
      "execution_count": null,
      "outputs": []
    },
    {
      "cell_type": "code",
      "metadata": {
        "colab_type": "code",
        "id": "Zsgjv3cD0oqD",
        "colab": {}
      },
      "source": [
        "import torch.nn.functional as F\n",
        "\n",
        "def train_one_epoch_ctc(cpc_model, \n",
        "                        phone_classifier, \n",
        "                        loss_criterion, \n",
        "                        data_loader, \n",
        "                        optimizer):\n",
        "  \n",
        "  cpc_model.train()\n",
        "  loss_criterion.train()\n",
        "\n",
        "  avg_loss = 0\n",
        "  avg_accuracy = 0\n",
        "  n_items = 0\n",
        "  for step, full_data in enumerate(data_loader):\n",
        "\n",
        "    x, x_len, y, y_len = full_data\n",
        "\n",
        "    x_batch_len = x.shape[-1]\n",
        "    x, y = x.to(device), y.to(device)\n",
        "\n",
        "    bs=x.size(0)\n",
        "    optimizer.zero_grad()\n",
        "    context_out, enc_out, _ = cpc_model(x.to(device),y.to(device))\n",
        "  \n",
        "    scores = phone_classifier(context_out)\n",
        "    scores = scores.permute(1,0,2)\n",
        "    scores = F.log_softmax(scores,2)\n",
        "    yhat_len = torch.tensor([int(scores.shape[0]*x_len[i]/x_batch_len) for i in range(scores.shape[1])]) # this is an approximation, should be good enough\n",
        "\n",
        "    loss = loss_criterion(scores,y.to(device),yhat_len,y_len)\n",
        "    loss.backward()\n",
        "    optimizer.step()\n",
        "    avg_loss+=loss.item()*bs\n",
        "    n_items+=bs\n",
        "  avg_loss/=n_items\n",
        "  return avg_loss\n",
        "\n",
        "def validation_step(cpc_model, \n",
        "                    phone_classifier, \n",
        "                    loss_criterion, \n",
        "                    data_loader):\n",
        "\n",
        "  cpc_model.eval()\n",
        "  phone_classifier.eval()\n",
        "  avg_loss = 0\n",
        "  avg_accuracy = 0\n",
        "  n_items = 0\n",
        "  with torch.no_grad():\n",
        "    for step, full_data in enumerate(data_loader):\n",
        "\n",
        "      x, x_len, y, y_len = full_data\n",
        "\n",
        "      x_batch_len = x.shape[-1]\n",
        "      x, y = x.to(device), y.to(device)\n",
        "\n",
        "      bs=x.size(0)\n",
        "      context_out, enc_out, _ = cpc_model(x.to(device),y.to(device))\n",
        "    \n",
        "      scores = phone_classifier(context_out)\n",
        "      scores = scores.permute(1,0,2)\n",
        "      scores = F.log_softmax(scores,2)\n",
        "      yhat_len = torch.tensor([int(scores.shape[0]*x_len[i]/x_batch_len) for i in range(scores.shape[1])]) # this is an approximation, should be good enough\n",
        "\n",
        "      loss = loss_criterion(scores,y.to(device),yhat_len,y_len)\n",
        "      avg_loss+=loss.item()*bs\n",
        "      n_items+=bs\n",
        "  avg_loss/=n_items\n",
        "\n",
        "  return avg_loss\n",
        "\n",
        "def run_ctc(cpc_model, \n",
        "            phone_classifier, \n",
        "            loss_criterion, \n",
        "            data_loader_train, \n",
        "            data_loader_val, \n",
        "            optimizer,\n",
        "            n_epoch):\n",
        "    train_losses = []\n",
        "    val_losses = []\n",
        "      \n",
        "    for epoch in range(n_epoch):\n",
        "\n",
        "        print(f\"Running epoch {epoch + 1} / {n_epoch}\")\n",
        "        loss_train = train_one_epoch_ctc(cpc_model, phone_classifier, loss_criterion, data_loader_train, optimizer)\n",
        "        #train_losses = np.append(loss_train, train_losses)\n",
        "        print(\"-------------------\")\n",
        "        print(f\"Training dataset :\")\n",
        "        print(f\"Average loss : {loss_train}.\")\n",
        "        train_losses.append(loss_train)\n",
        "\n",
        "        print(\"-------------------\")\n",
        "        print(\"Validation dataset\")\n",
        "        loss_val = validation_step(cpc_model, phone_classifier, loss_criterion, data_loader_val)\n",
        "        #val_losses = np.append(loss_val, val_losses)\n",
        "        print(f\"Average loss : {loss_val}\")\n",
        "        print(\"-------------------\")\n",
        "        print()\n",
        "        val_losses.append(loss_val)\n",
        "    plt.plot(train_losses)\n",
        "    plt.plot(val_losses)\n",
        "    plt.title('Model Loss')\n",
        "    plt.ylabel('loss')\n",
        "    plt.xlabel('epoch')\n",
        "    plt.legend(['train', 'Validation'], loc='upper left')\n",
        "    plt.show()\n",
        "    \n",
        "    return train_losses, val_losses"
      ],
      "execution_count": null,
      "outputs": []
    },
    {
      "cell_type": "code",
      "metadata": {
        "colab_type": "code",
        "id": "GSr7tcUdD72c",
        "colab": {
          "base_uri": "https://localhost:8080/",
          "height": 1000
        },
        "outputId": "5738a0b2-a893-4bfb-d0a0-18b9ff571894"
      },
      "source": [
        "#import numpy as np\n",
        "train_losses, val_losses=run_ctc(cpc_model,phone_classifier,loss_ctc,data_loader_train,data_loader_val,optimizer_frozen,n_epoch=70)"
      ],
      "execution_count": null,
      "outputs": [
        {
          "output_type": "stream",
          "text": [
            "Running epoch 1 / 70\n",
            "-------------------\n",
            "Training dataset :\n",
            "Average loss : 3.1844112617628917.\n",
            "-------------------\n",
            "Validation dataset\n",
            "Average loss : 2.84484615229597\n",
            "-------------------\n",
            "\n",
            "Running epoch 2 / 70\n",
            "-------------------\n",
            "Training dataset :\n",
            "Average loss : 3.1765869855880737.\n",
            "-------------------\n",
            "Validation dataset\n",
            "Average loss : 2.8411285178829924\n",
            "-------------------\n",
            "\n",
            "Running epoch 3 / 70\n",
            "-------------------\n",
            "Training dataset :\n",
            "Average loss : 3.168888568878174.\n",
            "-------------------\n",
            "Validation dataset\n",
            "Average loss : 2.837337262702711\n",
            "-------------------\n",
            "\n",
            "Running epoch 4 / 70\n",
            "-------------------\n",
            "Training dataset :\n",
            "Average loss : 3.161525624138968.\n",
            "-------------------\n",
            "Validation dataset\n",
            "Average loss : 2.8338223659630977\n",
            "-------------------\n",
            "\n",
            "Running epoch 5 / 70\n",
            "-------------------\n",
            "Training dataset :\n",
            "Average loss : 3.1543732285499573.\n",
            "-------------------\n",
            "Validation dataset\n",
            "Average loss : 2.8302666249901356\n",
            "-------------------\n",
            "\n",
            "Running epoch 6 / 70\n",
            "-------------------\n",
            "Training dataset :\n",
            "Average loss : 3.147428606237684.\n",
            "-------------------\n",
            "Validation dataset\n",
            "Average loss : 2.826805880575469\n",
            "-------------------\n",
            "\n",
            "Running epoch 7 / 70\n",
            "-------------------\n",
            "Training dataset :\n",
            "Average loss : 3.1407291974340166.\n",
            "-------------------\n",
            "Validation dataset\n",
            "Average loss : 2.8235765081463438\n",
            "-------------------\n",
            "\n",
            "Running epoch 8 / 70\n",
            "-------------------\n",
            "Training dataset :\n",
            "Average loss : 3.1342130643980846.\n",
            "-------------------\n",
            "Validation dataset\n",
            "Average loss : 2.8202684238703566\n",
            "-------------------\n",
            "\n",
            "Running epoch 9 / 70\n",
            "-------------------\n",
            "Training dataset :\n",
            "Average loss : 3.12785941362381.\n",
            "-------------------\n",
            "Validation dataset\n",
            "Average loss : 2.8171055341007736\n",
            "-------------------\n",
            "\n",
            "Running epoch 10 / 70\n",
            "-------------------\n",
            "Training dataset :\n",
            "Average loss : 3.1215624383517673.\n",
            "-------------------\n",
            "Validation dataset\n",
            "Average loss : 2.8138226499461165\n",
            "-------------------\n",
            "\n",
            "Running epoch 11 / 70\n",
            "-------------------\n",
            "Training dataset :\n",
            "Average loss : 3.115525245666504.\n",
            "-------------------\n",
            "Validation dataset\n",
            "Average loss : 2.810527310226903\n",
            "-------------------\n",
            "\n",
            "Running epoch 12 / 70\n",
            "-------------------\n",
            "Training dataset :\n",
            "Average loss : 3.109490845884596.\n",
            "-------------------\n",
            "Validation dataset\n",
            "Average loss : 2.807373538161769\n",
            "-------------------\n",
            "\n",
            "Running epoch 13 / 70\n",
            "-------------------\n",
            "Training dataset :\n",
            "Average loss : 3.103571653366089.\n",
            "-------------------\n",
            "Validation dataset\n",
            "Average loss : 2.804036017620202\n",
            "-------------------\n",
            "\n",
            "Running epoch 14 / 70\n",
            "-------------------\n",
            "Training dataset :\n",
            "Average loss : 3.097825297287532.\n",
            "-------------------\n",
            "Validation dataset\n",
            "Average loss : 2.800631359370068\n",
            "-------------------\n",
            "\n",
            "Running epoch 15 / 70\n",
            "-------------------\n",
            "Training dataset :\n",
            "Average loss : 3.0920166969299316.\n",
            "-------------------\n",
            "Validation dataset\n",
            "Average loss : 2.797516044944224\n",
            "-------------------\n",
            "\n",
            "Running epoch 16 / 70\n",
            "-------------------\n",
            "Training dataset :\n",
            "Average loss : 3.0863472308431352.\n",
            "-------------------\n",
            "Validation dataset\n",
            "Average loss : 2.7940750748220116\n",
            "-------------------\n",
            "\n",
            "Running epoch 17 / 70\n",
            "-------------------\n",
            "Training dataset :\n",
            "Average loss : 3.0806838188852583.\n",
            "-------------------\n",
            "Validation dataset\n",
            "Average loss : 2.7908172655587244\n",
            "-------------------\n",
            "\n",
            "Running epoch 18 / 70\n",
            "-------------------\n",
            "Training dataset :\n",
            "Average loss : 3.0751109634126936.\n",
            "-------------------\n",
            "Validation dataset\n",
            "Average loss : 2.7873625827558115\n",
            "-------------------\n",
            "\n",
            "Running epoch 19 / 70\n",
            "-------------------\n",
            "Training dataset :\n",
            "Average loss : 3.0694415824753896.\n",
            "-------------------\n",
            "Validation dataset\n",
            "Average loss : 2.7837684299006606\n",
            "-------------------\n",
            "\n",
            "Running epoch 20 / 70\n",
            "-------------------\n",
            "Training dataset :\n",
            "Average loss : 3.063894305910383.\n",
            "-------------------\n",
            "Validation dataset\n",
            "Average loss : 2.780329138341576\n",
            "-------------------\n",
            "\n",
            "Running epoch 21 / 70\n",
            "-------------------\n",
            "Training dataset :\n",
            "Average loss : 3.0582909754344394.\n",
            "-------------------\n",
            "Validation dataset\n",
            "Average loss : 2.776638890757705\n",
            "-------------------\n",
            "\n",
            "Running epoch 22 / 70\n",
            "-------------------\n",
            "Training dataset :\n",
            "Average loss : 3.05267139843532.\n",
            "-------------------\n",
            "Validation dataset\n",
            "Average loss : 2.772988726394345\n",
            "-------------------\n",
            "\n",
            "Running epoch 23 / 70\n",
            "-------------------\n",
            "Training dataset :\n",
            "Average loss : 3.0470174636159624.\n",
            "-------------------\n",
            "Validation dataset\n",
            "Average loss : 2.7691067806398024\n",
            "-------------------\n",
            "\n",
            "Running epoch 24 / 70\n",
            "-------------------\n",
            "Training dataset :\n",
            "Average loss : 3.041397980281285.\n",
            "-------------------\n",
            "Validation dataset\n",
            "Average loss : 2.765122252281266\n",
            "-------------------\n",
            "\n",
            "Running epoch 25 / 70\n",
            "-------------------\n",
            "Training dataset :\n",
            "Average loss : 3.0356538806642805.\n",
            "-------------------\n",
            "Validation dataset\n",
            "Average loss : 2.761233026331121\n",
            "-------------------\n",
            "\n",
            "Running epoch 26 / 70\n",
            "-------------------\n",
            "Training dataset :\n",
            "Average loss : 3.0298775008746555.\n",
            "-------------------\n",
            "Validation dataset\n",
            "Average loss : 2.7567158853164826\n",
            "-------------------\n",
            "\n",
            "Running epoch 27 / 70\n",
            "-------------------\n",
            "Training dataset :\n",
            "Average loss : 3.024035939148494.\n",
            "-------------------\n",
            "Validation dataset\n",
            "Average loss : 2.7525898543271152\n",
            "-------------------\n",
            "\n",
            "Running epoch 28 / 70\n",
            "-------------------\n",
            "Training dataset :\n",
            "Average loss : 3.0181326610701427.\n",
            "-------------------\n",
            "Validation dataset\n",
            "Average loss : 2.7482929422397806\n",
            "-------------------\n",
            "\n",
            "Running epoch 29 / 70\n",
            "-------------------\n",
            "Training dataset :\n",
            "Average loss : 3.012147384030478.\n",
            "-------------------\n",
            "Validation dataset\n",
            "Average loss : 2.7436339373540397\n",
            "-------------------\n",
            "\n",
            "Running epoch 30 / 70\n",
            "-------------------\n",
            "Training dataset :\n",
            "Average loss : 3.00601794889995.\n",
            "-------------------\n",
            "Validation dataset\n",
            "Average loss : 2.738824632432726\n",
            "-------------------\n",
            "\n",
            "Running epoch 31 / 70\n",
            "-------------------\n",
            "Training dataset :\n",
            "Average loss : 2.9998316849981035.\n",
            "-------------------\n",
            "Validation dataset\n",
            "Average loss : 2.7339250704254767\n",
            "-------------------\n",
            "\n",
            "Running epoch 32 / 70\n",
            "-------------------\n",
            "Training dataset :\n",
            "Average loss : 2.993467961038862.\n",
            "-------------------\n",
            "Validation dataset\n",
            "Average loss : 2.728889287120164\n",
            "-------------------\n",
            "\n",
            "Running epoch 33 / 70\n",
            "-------------------\n",
            "Training dataset :\n",
            "Average loss : 2.9870981914656505.\n",
            "-------------------\n",
            "Validation dataset\n",
            "Average loss : 2.723669485612349\n",
            "-------------------\n",
            "\n",
            "Running epoch 34 / 70\n",
            "-------------------\n",
            "Training dataset :\n",
            "Average loss : 2.980521704469408.\n",
            "-------------------\n",
            "Validation dataset\n",
            "Average loss : 2.7184568800107396\n",
            "-------------------\n",
            "\n",
            "Running epoch 35 / 70\n",
            "-------------------\n",
            "Training dataset :\n",
            "Average loss : 2.9737891384533475.\n",
            "-------------------\n",
            "Validation dataset\n",
            "Average loss : 2.7129019197791515\n",
            "-------------------\n",
            "\n",
            "Running epoch 36 / 70\n",
            "-------------------\n",
            "Training dataset :\n",
            "Average loss : 2.9669451798711504.\n",
            "-------------------\n",
            "Validation dataset\n",
            "Average loss : 2.707102717775287\n",
            "-------------------\n",
            "\n",
            "Running epoch 37 / 70\n",
            "-------------------\n",
            "Training dataset :\n",
            "Average loss : 2.9599306753703525.\n",
            "-------------------\n",
            "Validation dataset\n",
            "Average loss : 2.700994255566838\n",
            "-------------------\n",
            "\n",
            "Running epoch 38 / 70\n",
            "-------------------\n",
            "Training dataset :\n",
            "Average loss : 2.952786718096052.\n",
            "-------------------\n",
            "Validation dataset\n",
            "Average loss : 2.6948367995445173\n",
            "-------------------\n",
            "\n",
            "Running epoch 39 / 70\n",
            "-------------------\n",
            "Training dataset :\n",
            "Average loss : 2.9454190816198076.\n",
            "-------------------\n",
            "Validation dataset\n",
            "Average loss : 2.6888525702736596\n",
            "-------------------\n",
            "\n",
            "Running epoch 40 / 70\n",
            "-------------------\n",
            "Training dataset :\n",
            "Average loss : 2.938011850629534.\n",
            "-------------------\n",
            "Validation dataset\n",
            "Average loss : 2.6827163503627585\n",
            "-------------------\n",
            "\n",
            "Running epoch 41 / 70\n",
            "-------------------\n",
            "Training dataset :\n",
            "Average loss : 2.930205821990967.\n",
            "-------------------\n",
            "Validation dataset\n",
            "Average loss : 2.6758876111772327\n",
            "-------------------\n",
            "\n",
            "Running epoch 42 / 70\n",
            "-------------------\n",
            "Training dataset :\n",
            "Average loss : 2.9223317248480662.\n",
            "-------------------\n",
            "Validation dataset\n",
            "Average loss : 2.6692738918342975\n",
            "-------------------\n",
            "\n",
            "Running epoch 43 / 70\n",
            "-------------------\n",
            "Training dataset :\n",
            "Average loss : 2.914253924574171.\n",
            "-------------------\n",
            "Validation dataset\n",
            "Average loss : 2.6625439783539435\n",
            "-------------------\n",
            "\n",
            "Running epoch 44 / 70\n",
            "-------------------\n",
            "Training dataset :\n",
            "Average loss : 2.9059915798051015.\n",
            "-------------------\n",
            "Validation dataset\n",
            "Average loss : 2.655315945846866\n",
            "-------------------\n",
            "\n",
            "Running epoch 45 / 70\n",
            "-------------------\n",
            "Training dataset :\n",
            "Average loss : 2.8975613628114973.\n",
            "-------------------\n",
            "Validation dataset\n",
            "Average loss : 2.6481008770489933\n",
            "-------------------\n",
            "\n",
            "Running epoch 46 / 70\n",
            "-------------------\n",
            "Training dataset :\n",
            "Average loss : 2.8889561125210355.\n",
            "-------------------\n",
            "Validation dataset\n",
            "Average loss : 2.6406602931745127\n",
            "-------------------\n",
            "\n",
            "Running epoch 47 / 70\n",
            "-------------------\n",
            "Training dataset :\n",
            "Average loss : 2.8800567047936574.\n",
            "-------------------\n",
            "Validation dataset\n",
            "Average loss : 2.632992811877318\n",
            "-------------------\n",
            "\n",
            "Running epoch 48 / 70\n",
            "-------------------\n",
            "Training dataset :\n",
            "Average loss : 2.8711130959647044.\n",
            "-------------------\n",
            "Validation dataset\n",
            "Average loss : 2.625026972606929\n",
            "-------------------\n",
            "\n",
            "Running epoch 49 / 70\n",
            "-------------------\n",
            "Training dataset :\n",
            "Average loss : 2.8618739332471574.\n",
            "-------------------\n",
            "Validation dataset\n",
            "Average loss : 2.617150229637069\n",
            "-------------------\n",
            "\n",
            "Running epoch 50 / 70\n",
            "-------------------\n",
            "Training dataset :\n",
            "Average loss : 2.8524841155324663.\n",
            "-------------------\n",
            "Validation dataset\n",
            "Average loss : 2.609436348231152\n",
            "-------------------\n",
            "\n",
            "Running epoch 51 / 70\n",
            "-------------------\n",
            "Training dataset :\n",
            "Average loss : 2.8429379548345293.\n",
            "-------------------\n",
            "Validation dataset\n",
            "Average loss : 2.6010499939774023\n",
            "-------------------\n",
            "\n",
            "Running epoch 52 / 70\n",
            "-------------------\n",
            "Training dataset :\n",
            "Average loss : 2.8332511271749223.\n",
            "-------------------\n",
            "Validation dataset\n",
            "Average loss : 2.592615002333516\n",
            "-------------------\n",
            "\n",
            "Running epoch 53 / 70\n",
            "-------------------\n",
            "Training dataset :\n",
            "Average loss : 2.8232504384858266.\n",
            "-------------------\n",
            "Validation dataset\n",
            "Average loss : 2.5843189172070438\n",
            "-------------------\n",
            "\n",
            "Running epoch 54 / 70\n",
            "-------------------\n",
            "Training dataset :\n",
            "Average loss : 2.813299936907632.\n",
            "-------------------\n",
            "Validation dataset\n",
            "Average loss : 2.5760188897450766\n",
            "-------------------\n",
            "\n",
            "Running epoch 55 / 70\n",
            "-------------------\n",
            "Training dataset :\n",
            "Average loss : 2.803154672895159.\n",
            "-------------------\n",
            "Validation dataset\n",
            "Average loss : 2.567276145472671\n",
            "-------------------\n",
            "\n",
            "Running epoch 56 / 70\n",
            "-------------------\n",
            "Training dataset :\n",
            "Average loss : 2.792914492743356.\n",
            "-------------------\n",
            "Validation dataset\n",
            "Average loss : 2.5580990579393177\n",
            "-------------------\n",
            "\n",
            "Running epoch 57 / 70\n",
            "-------------------\n",
            "Training dataset :\n",
            "Average loss : 2.782377438885825.\n",
            "-------------------\n",
            "Validation dataset\n",
            "Average loss : 2.5498020263633343\n",
            "-------------------\n",
            "\n",
            "Running epoch 58 / 70\n",
            "-------------------\n",
            "Training dataset :\n",
            "Average loss : 2.7717944383621216.\n",
            "-------------------\n",
            "Validation dataset\n",
            "Average loss : 2.5405975447760687\n",
            "-------------------\n",
            "\n",
            "Running epoch 59 / 70\n",
            "-------------------\n",
            "Training dataset :\n",
            "Average loss : 2.761101790836879.\n",
            "-------------------\n",
            "Validation dataset\n",
            "Average loss : 2.5317864273533677\n",
            "-------------------\n",
            "\n",
            "Running epoch 60 / 70\n",
            "-------------------\n",
            "Training dataset :\n",
            "Average loss : 2.75035583121436.\n",
            "-------------------\n",
            "Validation dataset\n",
            "Average loss : 2.52243895964189\n",
            "-------------------\n",
            "\n",
            "Running epoch 61 / 70\n",
            "-------------------\n",
            "Training dataset :\n",
            "Average loss : 2.739438397543771.\n",
            "-------------------\n",
            "Validation dataset\n",
            "Average loss : 2.5131708612345687\n",
            "-------------------\n",
            "\n",
            "Running epoch 62 / 70\n",
            "-------------------\n",
            "Training dataset :\n",
            "Average loss : 2.7286002210208347.\n",
            "-------------------\n",
            "Validation dataset\n",
            "Average loss : 2.5040008082534326\n",
            "-------------------\n",
            "\n",
            "Running epoch 63 / 70\n",
            "-------------------\n",
            "Training dataset :\n",
            "Average loss : 2.7175327709742954.\n",
            "-------------------\n",
            "Validation dataset\n",
            "Average loss : 2.495122042569247\n",
            "-------------------\n",
            "\n",
            "Running epoch 64 / 70\n",
            "-------------------\n",
            "Training dataset :\n",
            "Average loss : 2.706523435456412.\n",
            "-------------------\n",
            "Validation dataset\n",
            "Average loss : 2.4856434181483107\n",
            "-------------------\n",
            "\n",
            "Running epoch 65 / 70\n",
            "-------------------\n",
            "Training dataset :\n",
            "Average loss : 2.6954845190048218.\n",
            "-------------------\n",
            "Validation dataset\n",
            "Average loss : 2.475602809828941\n",
            "-------------------\n",
            "\n",
            "Running epoch 66 / 70\n",
            "-------------------\n",
            "Training dataset :\n",
            "Average loss : 2.6843156133379256.\n",
            "-------------------\n",
            "Validation dataset\n",
            "Average loss : 2.466486820066818\n",
            "-------------------\n",
            "\n",
            "Running epoch 67 / 70\n",
            "-------------------\n",
            "Training dataset :\n",
            "Average loss : 2.6732792173113142.\n",
            "-------------------\n",
            "Validation dataset\n",
            "Average loss : 2.4581328931480946\n",
            "-------------------\n",
            "\n",
            "Running epoch 68 / 70\n",
            "-------------------\n",
            "Training dataset :\n",
            "Average loss : 2.662077392850603.\n",
            "-------------------\n",
            "Validation dataset\n",
            "Average loss : 2.4480547423314567\n",
            "-------------------\n",
            "\n",
            "Running epoch 69 / 70\n",
            "-------------------\n",
            "Training dataset :\n",
            "Average loss : 2.6508545534951344.\n",
            "-------------------\n",
            "Validation dataset\n",
            "Average loss : 2.438472969363434\n",
            "-------------------\n",
            "\n",
            "Running epoch 70 / 70\n",
            "-------------------\n",
            "Training dataset :\n",
            "Average loss : 2.639800259045192.\n",
            "-------------------\n",
            "Validation dataset\n",
            "Average loss : 2.429150436863755\n",
            "-------------------\n",
            "\n"
          ],
          "name": "stdout"
        },
        {
          "output_type": "display_data",
          "data": {
            "image/png": "[encoded data removed]",
            "text/plain": [
              "<Figure size 432x288 with 1 Axes>"
            ]
          },
          "metadata": {
            "tags": [],
            "needs_background": "light"
          }
        }
      ]
    },
    {
      "cell_type": "markdown",
      "metadata": {
        "colab_type": "text",
        "id": "TKrYW4gK1BBF"
      },
      "source": [
        "### b- Evaluation: the Phone Error Rate (PER)\n",
        "\n",
        "In order to compute the similarity between two sequences, we can use the [Levenshtein distance](https://en.wikipedia.org/wiki/Levenshtein_distance). This distance estimates the minimum number of insertion, deletion and addition to move from one sequence to another. If we normalize this distance by the number of characters in the reference sequence we get the Phone Error Rate (PER).\n",
        "\n",
        "This value can be interpreted as :\n",
        "\\\\[  PER = \\frac{S + D + I}{N} \\\\]\n",
        "\n",
        "Where:\n",
        "\n",
        "\n",
        "*   N is the number of characters in the reference\n",
        "*   S is the number of substitutiion\n",
        "*   I in the number of insertion\n",
        "*   D in the number of deletion\n",
        "\n",
        "For the best possible alignment of the two sequences.\n",
        "\n"
      ]
    },
    {
      "cell_type": "code",
      "metadata": {
        "colab_type": "code",
        "id": "RoBhsx7GNqI_",
        "colab": {}
      },
      "source": [
        "import numpy as np\n",
        "\n",
        "def get_PER_sequence(ref_seq, target_seq):\n",
        "\n",
        "  # re = g.split()\n",
        "  # h = h.split()\n",
        "  n = len(ref_seq)\n",
        "  m = len(target_seq)\n",
        "\n",
        "  D = np.zeros((n+1,m+1))\n",
        "  for i in range(1,n+1):\n",
        "    D[i,0] = D[i-1,0]+1\n",
        "  for j in range(1,m+1):\n",
        "    D[0,j] = D[0,j-1]+1\n",
        "  \n",
        "  ### TODO compute the alignment\n",
        "\n",
        "  for i in range(1,n+1):\n",
        "    for j in range(1,m+1):\n",
        "      D[i,j] = min(\n",
        "          D[i-1,j]+1,\n",
        "          D[i-1,j-1]+1,\n",
        "          D[i,j-1]+1,\n",
        "          D[i-1,j-1]+ 0 if ref_seq[i-1]==target_seq[j-1] else float(\"inf\")\n",
        "      )\n",
        "  return D[n,m]/len(ref_seq)\n",
        "  \n",
        "\n",
        "  #return PER"
      ],
      "execution_count": null,
      "outputs": []
    },
    {
      "cell_type": "markdown",
      "metadata": {
        "colab_type": "text",
        "id": "r-hr0KK0mgcR"
      },
      "source": [
        "You can test your function below:"
      ]
    },
    {
      "cell_type": "code",
      "metadata": {
        "colab_type": "code",
        "id": "AfTb3yOQmvey",
        "colab": {
          "base_uri": "https://localhost:8080/",
          "height": 35
        },
        "outputId": "dc9f2a3c-895c-4888-ba28-3f718a51d0c1"
      },
      "source": [
        "ref_seq = [0, 1, 1, 2, 0, 2, 2]\n",
        "pred_seq = [1, 1, 2, 2, 0, 0]\n",
        "\n",
        "expected_PER = 4. / 7.\n",
        "print(get_PER_sequence(ref_seq, pred_seq) == expected_PER)"
      ],
      "execution_count": null,
      "outputs": [
        {
          "output_type": "stream",
          "text": [
            "True\n"
          ],
          "name": "stdout"
        }
      ]
    },
    {
      "cell_type": "markdown",
      "metadata": {
        "colab_type": "text",
        "id": "nHiyChl-m_k7"
      },
      "source": [
        "## c- Evaluating the PER of your model on the test dataset\n",
        "\n",
        "Evaluate the PER on the validation dataset. Please notice that you should usually use a separate dataset, called the dev dataset, to perform this operation. However for the sake of simplicity we will work with validation data in this exercise."
      ]
    },
    {
      "cell_type": "code",
      "metadata": {
        "colab_type": "code",
        "id": "DMkX0PoFnclg",
        "colab": {}
      },
      "source": [
        "import progressbar\n",
        "from multiprocessing import Pool\n",
        "\n",
        "def cut_data(seq, sizeSeq):\n",
        "    maxSeq = sizeSeq.max()\n",
        "    return seq[:, :maxSeq]\n",
        "\n",
        "\n",
        "def prepare_data(data):\n",
        "    seq, sizeSeq, phone, sizePhone = data\n",
        "    seq = seq.cuda()\n",
        "    phone = phone.cuda()\n",
        "    sizeSeq = sizeSeq.cuda().view(-1)\n",
        "    sizePhone = sizePhone.cuda().view(-1)\n",
        "\n",
        "    seq = cut_data(seq.permute(0, 2, 1), sizeSeq).permute(0, 2, 1)\n",
        "    return seq, sizeSeq, phone, sizePhone\n",
        "\n",
        "\n",
        "def get_per(test_dataloader,\n",
        "            cpc_model,\n",
        "            phone_classifier):\n",
        "\n",
        "  downsampling_factor = 160\n",
        "  cpc_model.eval()\n",
        "  phone_classifier.eval()\n",
        "\n",
        "  avgPER = 0\n",
        "  nItems = 0 \n",
        "\n",
        "  print(\"Starting the PER computation through beam search\")\n",
        "  bar = progressbar.ProgressBar(maxval=len(test_dataloader))\n",
        "  bar.start()\n",
        "\n",
        "  for index, data in enumerate(test_dataloader):\n",
        "\n",
        "    bar.update(index)\n",
        "\n",
        "    with torch.no_grad():\n",
        "      \n",
        "        seq, sizeSeq, phone, sizePhone = prepare_data(data)\n",
        "        c_feature, _, _ = cpc_model(seq.to(device),phone.to(device))\n",
        "        sizeSeq = sizeSeq / downsampling_factor\n",
        "        predictions = torch.nn.functional.softmax(\n",
        "        phone_classifier(c_feature), dim=2).cpu()\n",
        "        phone = phone.cpu()\n",
        "        sizeSeq = sizeSeq.cpu()\n",
        "        sizePhone = sizePhone.cpu()\n",
        "\n",
        "        bs = c_feature.size(0)\n",
        "        data_per = [(predictions[b].argmax(1),  phone[b]) for b in range(bs)]\n",
        "        # data_per = [(predictions[b], sizeSeq[b], phone[b], sizePhone[b],\n",
        "        #               \"criterion.module.BLANK_LABEL\") for b in range(bs)]\n",
        "\n",
        "        with Pool(bs) as p:\n",
        "            poolData = p.starmap(get_PER_sequence, data_per)\n",
        "        avgPER += sum([x for x in poolData])\n",
        "        nItems += len(poolData)\n",
        "\n",
        "  bar.finish()\n",
        "\n",
        "  avgPER /= nItems\n",
        "\n",
        "  print(f\"Average PER {avgPER}\")\n",
        "  return avgPER\n"
      ],
      "execution_count": null,
      "outputs": []
    },
    {
      "cell_type": "code",
      "metadata": {
        "colab_type": "code",
        "id": "2hvnudh4Osb4",
        "colab": {
          "base_uri": "https://localhost:8080/",
          "height": 90
        },
        "outputId": "c4c592b4-c9b6-4a83-d88b-9687a369d0c8"
      },
      "source": [
        "PER_train_data =get_per(data_loader_val,cpc_model,phone_classifier)\n",
        "print('PER_train_data', PER_train_data)"
      ],
      "execution_count": null,
      "outputs": [
        {
          "output_type": "stream",
          "text": [
            "\r                                                                               \r\rN/A% (0 of 13) |                         | Elapsed Time: 0:00:00 ETA:  --:--:--"
          ],
          "name": "stderr"
        },
        {
          "output_type": "stream",
          "text": [
            "Starting the PER computation through beam search\n"
          ],
          "name": "stdout"
        },
        {
          "output_type": "stream",
          "text": [
            "100% (13 of 13) |########################| Elapsed Time: 0:07:26 Time:  0:07:26\n"
          ],
          "name": "stderr"
        },
        {
          "output_type": "stream",
          "text": [
            "Average PER 0.9766129414377772\n",
            "PER_train_data 0.9766129414377772\n"
          ],
          "name": "stdout"
        }
      ]
    },
    {
      "cell_type": "code",
      "metadata": {
        "id": "RBC7FZmTD53L",
        "colab_type": "code",
        "colab": {}
      },
      "source": [
        ""
      ],
      "execution_count": null,
      "outputs": []
    },
    {
      "cell_type": "code",
      "metadata": {
        "id": "d6beoBQ-D5XI",
        "colab_type": "code",
        "colab": {}
      },
      "source": [
        "!mkdir '/content/drive/My Drive/DATA/test_tmp'"
      ],
      "execution_count": null,
      "outputs": []
    },
    {
      "cell_type": "code",
      "metadata": {
        "id": "DwQv7Y0vCr8a",
        "colab_type": "code",
        "colab": {}
      },
      "source": [
        "!cp -r '/content/drive/My Drive/DATA/test/recording' '/content/drive/My Drive/DATA/test_tmp'"
      ],
      "execution_count": null,
      "outputs": []
    },
    {
      "cell_type": "markdown",
      "metadata": {
        "colab_type": "text",
        "id": "p8e9D7g8159k"
      },
      "source": [
        "## Exercice 3 : Character error rate (CER) \n",
        "\n",
        "The Character Error Rate (CER) is an evaluation metric similar to the PER but with characters insterad of phonemes. Using the following data, run the functions you defined previously to estimate the CER of your model after fine-tuning."
      ]
    },
    {
      "cell_type": "code",
      "metadata": {
        "colab_type": "code",
        "id": "cXONmKQOuFSn",
        "colab": {
          "base_uri": "https://localhost:8080/",
          "height": 290
        },
        "outputId": "2de4cde7-106b-4d04-99c1-350c246e11d4"
      },
      "source": [
        "# Load a dataset labelled with the letters of each sequence.\n",
        "%cd /content/CPC_audio\n",
        "from cpc.eval.common_voices_eval import SingleSequenceDataset, parseSeqLabels, findAllSeqs\n",
        "path_train_data_cer = '/content/drive/My Drive/DATA/train'\n",
        "path_val_data_cer = '/content/drive/My Drive/DATA/validation'\n",
        "path_letter_data_cer = '/content/drive/My Drive/DATA/all_sessions.txt'\n",
        "BATCH_SIZE=8\n",
        "\n",
        "letters_labels, N_LETTERS = parseSeqLabels(path_letter_data_cer)\n",
        "data_train_cer, _ = findAllSeqs(path_train_data_cer, extension='.wav')\n",
        "dataset_train_non_aligned = SingleSequenceDataset(path_train_data_cer, data_train_cer, letters_labels)\n",
        "\n",
        "\n",
        "data_val_cer, _ = findAllSeqs(path_val_data_cer, extension='.wav')\n",
        "dataset_val_non_aligned = SingleSequenceDataset(path_val_data_cer, data_val_cer, letters_labels)\n",
        "\n",
        "\n",
        "# The data loader will generate a tuple of tensors data, labels for each batch\n",
        "# data : size N x T1 x 1 : the audio sequence\n",
        "# label : size N x T2 the sequence of letters corresponding to the audio data\n",
        "# IMPORTANT NOTE: just like the PER the CER is computed with non-aligned phone data.\n",
        "data_loader_train_letters = torch.utils.data.DataLoader(dataset_train_non_aligned, batch_size=BATCH_SIZE,\n",
        "                                                shuffle=True)\n",
        "data_loader_val_letters = torch.utils.data.DataLoader(dataset_val_non_aligned, batch_size=BATCH_SIZE,\n",
        "                                              shuffle=True)"
      ],
      "execution_count": null,
      "outputs": [
        {
          "output_type": "stream",
          "text": [
            "6it [00:00, 471.10it/s]"
          ],
          "name": "stderr"
        },
        {
          "output_type": "stream",
          "text": [
            "/content/CPC_audio\n",
            "Saved cache file at /content/drive/My Drive/DATA/train/_seqs_cache.txt\n"
          ],
          "name": "stdout"
        },
        {
          "output_type": "stream",
          "text": [
            "\n",
            "3it [00:00, 446.57it/s]"
          ],
          "name": "stderr"
        },
        {
          "output_type": "stream",
          "text": [
            "Loaded 225 sequences in 2.96 seconds\n",
            "maxSizeSeq : 432696\n",
            "maxSizePhone : 147\n",
            "minSizePhone : 17\n",
            "Total size dataset 0.636625 hours\n",
            "Saved cache file at /content/drive/My Drive/DATA/validation/_seqs_cache.txt\n"
          ],
          "name": "stdout"
        },
        {
          "output_type": "stream",
          "text": [
            "\n"
          ],
          "name": "stderr"
        },
        {
          "output_type": "stream",
          "text": [
            "Loaded 100 sequences in 2.50 seconds\n",
            "maxSizeSeq : 470085\n",
            "maxSizePhone : 174\n",
            "minSizePhone : 11\n",
            "Total size dataset 0.45619005208333335 hours\n"
          ],
          "name": "stdout"
        }
      ]
    },
    {
      "cell_type": "code",
      "metadata": {
        "colab_type": "code",
        "id": "9h07zI2LjzAU",
        "colab": {
          "base_uri": "https://localhost:8080/",
          "height": 54
        },
        "outputId": "3f6b5cf5-1930-4089-c8e6-c2b1e0a5e33f"
      },
      "source": [
        "from cpc.feature_loader import loadModel\n",
        "\n",
        "checkpoint_path = 'checkpoint_data/checkpoint_30.pt'\n",
        "cpc_model, HIDDEN_CONTEXT_MODEL, HIDDEN_ENCODER_MODEL = loadModel([checkpoint_path])\n",
        "cpc_model = cpc_model.cuda()\n",
        "character_classifier = PhoneClassifier(HIDDEN_CONTEXT_MODEL, N_LETTERS).to(device)"
      ],
      "execution_count": null,
      "outputs": [
        {
          "output_type": "stream",
          "text": [
            "Loading checkpoint checkpoint_data/checkpoint_30.pt\n",
            "Loading the state dict at checkpoint_data/checkpoint_30.pt\n"
          ],
          "name": "stdout"
        }
      ]
    },
    {
      "cell_type": "code",
      "metadata": {
        "colab_type": "code",
        "id": "rHCNg1E7lW1L",
        "colab": {}
      },
      "source": [
        "parameters = list(character_classifier.parameters()) + list(cpc_model.parameters())\n",
        "LEARNING_RATE = 2e-4\n",
        "optimizer = torch.optim.Adam(parameters, lr=LEARNING_RATE)\n",
        "\n",
        "optimizer_frozen = torch.optim.Adam(list(character_classifier.parameters()), lr=LEARNING_RATE)"
      ],
      "execution_count": null,
      "outputs": []
    },
    {
      "cell_type": "code",
      "metadata": {
        "colab_type": "code",
        "id": "engpkljbk9hj",
        "colab": {}
      },
      "source": [
        "loss_ctc = torch.nn.CTCLoss()"
      ],
      "execution_count": null,
      "outputs": []
    },
    {
      "cell_type": "code",
      "metadata": {
        "id": "r0cTw86UR-nQ",
        "colab_type": "code",
        "colab": {}
      },
      "source": [
        "import matplotlib.pyplot as plt\n"
      ],
      "execution_count": null,
      "outputs": []
    },
    {
      "cell_type": "code",
      "metadata": {
        "id": "aS5acroeBwlP",
        "colab_type": "code",
        "colab": {
          "base_uri": "https://localhost:8080/",
          "height": 1000
        },
        "outputId": "3655d478-e163-46e9-cd65-8acfcbc7fba8"
      },
      "source": [
        "run_ctc(cpc_model,character_classifier,loss_ctc,data_loader_train_letters,data_loader_val_letters,optimizer_frozen,n_epoch=50)"
      ],
      "execution_count": null,
      "outputs": [
        {
          "output_type": "stream",
          "text": [
            "Running epoch 1 / 50\n",
            "-------------------\n",
            "Training dataset :\n",
            "Average loss : 6.614605324608939.\n",
            "-------------------\n",
            "Validation dataset\n",
            "Average loss : 5.320664184262054\n",
            "-------------------\n",
            "\n",
            "Running epoch 2 / 50\n",
            "-------------------\n",
            "Training dataset :\n",
            "Average loss : 6.562607118061611.\n",
            "-------------------\n",
            "Validation dataset\n",
            "Average loss : 5.287442688990121\n",
            "-------------------\n",
            "\n",
            "Running epoch 3 / 50\n",
            "-------------------\n",
            "Training dataset :\n",
            "Average loss : 6.509254131998334.\n",
            "-------------------\n",
            "Validation dataset\n",
            "Average loss : 5.254371199945007\n",
            "-------------------\n",
            "\n",
            "Running epoch 4 / 50\n",
            "-------------------\n",
            "Training dataset :\n",
            "Average loss : 6.454697438648769.\n",
            "-------------------\n",
            "Validation dataset\n",
            "Average loss : 5.222018680187187\n",
            "-------------------\n",
            "\n",
            "Running epoch 5 / 50\n",
            "-------------------\n",
            "Training dataset :\n",
            "Average loss : 6.400304521833148.\n",
            "-------------------\n",
            "Validation dataset\n",
            "Average loss : 5.187852267063025\n",
            "-------------------\n",
            "\n",
            "Running epoch 6 / 50\n",
            "-------------------\n",
            "Training dataset :\n",
            "Average loss : 6.342656970024109.\n",
            "-------------------\n",
            "Validation dataset\n",
            "Average loss : 5.15019917728925\n",
            "-------------------\n",
            "\n",
            "Running epoch 7 / 50\n",
            "-------------------\n",
            "Training dataset :\n",
            "Average loss : 6.2803002425602505.\n",
            "-------------------\n",
            "Validation dataset\n",
            "Average loss : 5.106790696731721\n",
            "-------------------\n",
            "\n",
            "Running epoch 8 / 50\n",
            "-------------------\n",
            "Training dataset :\n",
            "Average loss : 6.204905016081674.\n",
            "-------------------\n",
            "Validation dataset\n",
            "Average loss : 5.051546588088527\n",
            "-------------------\n",
            "\n",
            "Running epoch 9 / 50\n",
            "-------------------\n",
            "Training dataset :\n",
            "Average loss : 6.107517174312046.\n",
            "-------------------\n",
            "Validation dataset\n",
            "Average loss : 4.972222308919887\n",
            "-------------------\n",
            "\n",
            "Running epoch 10 / 50\n",
            "-------------------\n",
            "Training dataset :\n",
            "Average loss : 5.961682881627764.\n",
            "-------------------\n",
            "Validation dataset\n",
            "Average loss : 4.847353757029832\n",
            "-------------------\n",
            "\n",
            "Running epoch 11 / 50\n",
            "-------------------\n",
            "Training dataset :\n",
            "Average loss : 5.719254834311349.\n",
            "-------------------\n",
            "Validation dataset\n",
            "Average loss : 4.6154010994265775\n",
            "-------------------\n",
            "\n",
            "Running epoch 12 / 50\n",
            "-------------------\n",
            "Training dataset :\n",
            "Average loss : 5.2773803642817905.\n",
            "-------------------\n",
            "Validation dataset\n",
            "Average loss : 4.1827763499635635\n",
            "-------------------\n",
            "\n",
            "Running epoch 13 / 50\n",
            "-------------------\n",
            "Training dataset :\n",
            "Average loss : 4.679604360035488.\n",
            "-------------------\n",
            "Validation dataset\n",
            "Average loss : 3.7394759293758506\n",
            "-------------------\n",
            "\n",
            "Running epoch 14 / 50\n",
            "-------------------\n",
            "Training dataset :\n",
            "Average loss : 4.21589377948216.\n",
            "-------------------\n",
            "Validation dataset\n",
            "Average loss : 3.4643340183026865\n",
            "-------------------\n",
            "\n",
            "Running epoch 15 / 50\n",
            "-------------------\n",
            "Training dataset :\n",
            "Average loss : 3.9297295808792114.\n",
            "-------------------\n",
            "Validation dataset\n",
            "Average loss : 3.3015332896300036\n",
            "-------------------\n",
            "\n",
            "Running epoch 16 / 50\n",
            "-------------------\n",
            "Training dataset :\n",
            "Average loss : 3.753161438873836.\n",
            "-------------------\n",
            "Validation dataset\n",
            "Average loss : 3.192907721105248\n",
            "-------------------\n",
            "\n",
            "Running epoch 17 / 50\n",
            "-------------------\n",
            "Training dataset :\n",
            "Average loss : 3.6308577060699463.\n",
            "-------------------\n",
            "Validation dataset\n",
            "Average loss : 3.1192469211539837\n",
            "-------------------\n",
            "\n",
            "Running epoch 18 / 50\n",
            "-------------------\n",
            "Training dataset :\n",
            "Average loss : 3.542344663824354.\n",
            "-------------------\n",
            "Validation dataset\n",
            "Average loss : 3.067950031974099\n",
            "-------------------\n",
            "\n",
            "Running epoch 19 / 50\n",
            "-------------------\n",
            "Training dataset :\n",
            "Average loss : 3.4774012906210765.\n",
            "-------------------\n",
            "Validation dataset\n",
            "Average loss : 3.0289800456075957\n",
            "-------------------\n",
            "\n",
            "Running epoch 20 / 50\n",
            "-------------------\n",
            "Training dataset :\n",
            "Average loss : 3.426099572862898.\n",
            "-------------------\n",
            "Validation dataset\n",
            "Average loss : 2.999613263390281\n",
            "-------------------\n",
            "\n",
            "Running epoch 21 / 50\n",
            "-------------------\n",
            "Training dataset :\n",
            "Average loss : 3.3866377643176486.\n",
            "-------------------\n",
            "Validation dataset\n",
            "Average loss : 2.9750578764713174\n",
            "-------------------\n",
            "\n",
            "Running epoch 22 / 50\n",
            "-------------------\n",
            "Training dataset :\n",
            "Average loss : 3.352583570139749.\n",
            "-------------------\n",
            "Validation dataset\n",
            "Average loss : 2.9563529708168725\n",
            "-------------------\n",
            "\n",
            "Running epoch 23 / 50\n",
            "-------------------\n",
            "Training dataset :\n",
            "Average loss : 3.3252919912338257.\n",
            "-------------------\n",
            "Validation dataset\n",
            "Average loss : 2.9405734250039766\n",
            "-------------------\n",
            "\n",
            "Running epoch 24 / 50\n",
            "-------------------\n",
            "Training dataset :\n",
            "Average loss : 3.3016919749123708.\n",
            "-------------------\n",
            "Validation dataset\n",
            "Average loss : 2.9276616838243275\n",
            "-------------------\n",
            "\n",
            "Running epoch 25 / 50\n",
            "-------------------\n",
            "Training dataset :\n",
            "Average loss : 3.28204060452325.\n",
            "-------------------\n",
            "Validation dataset\n",
            "Average loss : 2.916150875765868\n",
            "-------------------\n",
            "\n",
            "Running epoch 26 / 50\n",
            "-------------------\n",
            "Training dataset :\n",
            "Average loss : 3.264178420816149.\n",
            "-------------------\n",
            "Validation dataset\n",
            "Average loss : 2.9068920660500575\n",
            "-------------------\n",
            "\n",
            "Running epoch 27 / 50\n",
            "-------------------\n",
            "Training dataset :\n",
            "Average loss : 3.248958170413971.\n",
            "-------------------\n",
            "Validation dataset\n",
            "Average loss : 2.8985664579603405\n",
            "-------------------\n",
            "\n",
            "Running epoch 28 / 50\n",
            "-------------------\n",
            "Training dataset :\n",
            "Average loss : 3.235272322382246.\n",
            "-------------------\n",
            "Validation dataset\n",
            "Average loss : 2.891360981295807\n",
            "-------------------\n",
            "\n",
            "Running epoch 29 / 50\n",
            "-------------------\n",
            "Training dataset :\n",
            "Average loss : 3.2230056268828258.\n",
            "-------------------\n",
            "Validation dataset\n",
            "Average loss : 2.884855597910255\n",
            "-------------------\n",
            "\n",
            "Running epoch 30 / 50\n",
            "-------------------\n",
            "Training dataset :\n",
            "Average loss : 3.2120603919029236.\n",
            "-------------------\n",
            "Validation dataset\n",
            "Average loss : 2.87922275427616\n",
            "-------------------\n",
            "\n",
            "Running epoch 31 / 50\n",
            "-------------------\n",
            "Training dataset :\n",
            "Average loss : 3.201864813055311.\n",
            "-------------------\n",
            "Validation dataset\n",
            "Average loss : 2.8740210894382363\n",
            "-------------------\n",
            "\n",
            "Running epoch 32 / 50\n",
            "-------------------\n",
            "Training dataset :\n",
            "Average loss : 3.1927701830863953.\n",
            "-------------------\n",
            "Validation dataset\n",
            "Average loss : 2.8691830442409323\n",
            "-------------------\n",
            "\n",
            "Running epoch 33 / 50\n",
            "-------------------\n",
            "Training dataset :\n",
            "Average loss : 3.1842941641807556.\n",
            "-------------------\n",
            "Validation dataset\n",
            "Average loss : 2.8649621467397672\n",
            "-------------------\n",
            "\n",
            "Running epoch 34 / 50\n",
            "-------------------\n",
            "Training dataset :\n",
            "Average loss : 3.176466933318547.\n",
            "-------------------\n",
            "Validation dataset\n",
            "Average loss : 2.861083437698056\n",
            "-------------------\n",
            "\n",
            "Running epoch 35 / 50\n",
            "-------------------\n",
            "Training dataset :\n",
            "Average loss : 3.1691238028662547.\n",
            "-------------------\n",
            "Validation dataset\n",
            "Average loss : 2.857296589649085\n",
            "-------------------\n",
            "\n",
            "Running epoch 36 / 50\n",
            "-------------------\n",
            "Training dataset :\n",
            "Average loss : 3.1623547843524387.\n",
            "-------------------\n",
            "Validation dataset\n",
            "Average loss : 2.8537915764432964\n",
            "-------------------\n",
            "\n",
            "Running epoch 37 / 50\n",
            "-------------------\n",
            "Training dataset :\n",
            "Average loss : 3.1559323923928395.\n",
            "-------------------\n",
            "Validation dataset\n",
            "Average loss : 2.850415759616428\n",
            "-------------------\n",
            "\n",
            "Running epoch 38 / 50\n",
            "-------------------\n",
            "Training dataset :\n",
            "Average loss : 3.149944152150835.\n",
            "-------------------\n",
            "Validation dataset\n",
            "Average loss : 2.8474447606789943\n",
            "-------------------\n",
            "\n",
            "Running epoch 39 / 50\n",
            "-------------------\n",
            "Training dataset :\n",
            "Average loss : 3.144285406385149.\n",
            "-------------------\n",
            "Validation dataset\n",
            "Average loss : 2.8446051376034514\n",
            "-------------------\n",
            "\n",
            "Running epoch 40 / 50\n",
            "-------------------\n",
            "Training dataset :\n",
            "Average loss : 3.138889125415257.\n",
            "-------------------\n",
            "Validation dataset\n",
            "Average loss : 2.841716438832909\n",
            "-------------------\n",
            "\n",
            "Running epoch 41 / 50\n",
            "-------------------\n",
            "Training dataset :\n",
            "Average loss : 3.133737470422472.\n",
            "-------------------\n",
            "Validation dataset\n",
            "Average loss : 2.839073732645825\n",
            "-------------------\n",
            "\n",
            "Running epoch 42 / 50\n",
            "-------------------\n",
            "Training dataset :\n",
            "Average loss : 3.1288800154413496.\n",
            "-------------------\n",
            "Validation dataset\n",
            "Average loss : 2.8366180044231992\n",
            "-------------------\n",
            "\n",
            "Running epoch 43 / 50\n",
            "-------------------\n",
            "Training dataset :\n",
            "Average loss : 3.12420015675681.\n",
            "-------------------\n",
            "Validation dataset\n",
            "Average loss : 2.83416787542478\n",
            "-------------------\n",
            "\n",
            "Running epoch 44 / 50\n",
            "-------------------\n",
            "Training dataset :\n",
            "Average loss : 3.119705217225211.\n",
            "-------------------\n",
            "Validation dataset\n",
            "Average loss : 2.831502225663927\n",
            "-------------------\n",
            "\n",
            "Running epoch 45 / 50\n",
            "-------------------\n",
            "Training dataset :\n",
            "Average loss : 3.115413188934326.\n",
            "-------------------\n",
            "Validation dataset\n",
            "Average loss : 2.8292608742762093\n",
            "-------------------\n",
            "\n",
            "Running epoch 46 / 50\n",
            "-------------------\n",
            "Training dataset :\n",
            "Average loss : 3.1113034231322154.\n",
            "-------------------\n",
            "Validation dataset\n",
            "Average loss : 2.8273560302426115\n",
            "-------------------\n",
            "\n",
            "Running epoch 47 / 50\n",
            "-------------------\n",
            "Training dataset :\n",
            "Average loss : 3.107231855392456.\n",
            "-------------------\n",
            "Validation dataset\n",
            "Average loss : 2.825042652361321\n",
            "-------------------\n",
            "\n",
            "Running epoch 48 / 50\n",
            "-------------------\n",
            "Training dataset :\n",
            "Average loss : 3.1033994129725864.\n",
            "-------------------\n",
            "Validation dataset\n",
            "Average loss : 2.8228538132677174\n",
            "-------------------\n",
            "\n",
            "Running epoch 49 / 50\n",
            "-------------------\n",
            "Training dataset :\n",
            "Average loss : 3.099629853452955.\n",
            "-------------------\n",
            "Validation dataset\n",
            "Average loss : 2.820811608825067\n",
            "-------------------\n",
            "\n",
            "Running epoch 50 / 50\n",
            "-------------------\n",
            "Training dataset :\n",
            "Average loss : 3.0959379417555675.\n",
            "-------------------\n",
            "Validation dataset\n",
            "Average loss : 2.818653217469803\n",
            "-------------------\n",
            "\n"
          ],
          "name": "stdout"
        },
        {
          "output_type": "display_data",
          "data": {
            "image/png": "[encoded data removed]",
            "text/plain": [
              "<Figure size 432x288 with 1 Axes>"
            ]
          },
          "metadata": {
            "tags": [],
            "needs_background": "light"
          }
        },
        {
          "output_type": "execute_result",
          "data": {
            "text/plain": [
              "([6.614605324608939,\n",
              "  6.562607118061611,\n",
              "  6.509254131998334,\n",
              "  6.454697438648769,\n",
              "  6.400304521833148,\n",
              "  6.342656970024109,\n",
              "  6.2803002425602505,\n",
              "  6.204905016081674,\n",
              "  6.107517174312046,\n",
              "  5.961682881627764,\n",
              "  5.719254834311349,\n",
              "  5.2773803642817905,\n",
              "  4.679604360035488,\n",
              "  4.21589377948216,\n",
              "  3.9297295808792114,\n",
              "  3.753161438873836,\n",
              "  3.6308577060699463,\n",
              "  3.542344663824354,\n",
              "  3.4774012906210765,\n",
              "  3.426099572862898,\n",
              "  3.3866377643176486,\n",
              "  3.352583570139749,\n",
              "  3.3252919912338257,\n",
              "  3.3016919749123708,\n",
              "  3.28204060452325,\n",
              "  3.264178420816149,\n",
              "  3.248958170413971,\n",
              "  3.235272322382246,\n",
              "  3.2230056268828258,\n",
              "  3.2120603919029236,\n",
              "  3.201864813055311,\n",
              "  3.1927701830863953,\n",
              "  3.1842941641807556,\n",
              "  3.176466933318547,\n",
              "  3.1691238028662547,\n",
              "  3.1623547843524387,\n",
              "  3.1559323923928395,\n",
              "  3.149944152150835,\n",
              "  3.144285406385149,\n",
              "  3.138889125415257,\n",
              "  3.133737470422472,\n",
              "  3.1288800154413496,\n",
              "  3.12420015675681,\n",
              "  3.119705217225211,\n",
              "  3.115413188934326,\n",
              "  3.1113034231322154,\n",
              "  3.107231855392456,\n",
              "  3.1033994129725864,\n",
              "  3.099629853452955,\n",
              "  3.0959379417555675],\n",
              " [5.320664184262054,\n",
              "  5.287442688990121,\n",
              "  5.254371199945007,\n",
              "  5.222018680187187,\n",
              "  5.187852267063025,\n",
              "  5.15019917728925,\n",
              "  5.106790696731721,\n",
              "  5.051546588088527,\n",
              "  4.972222308919887,\n",
              "  4.847353757029832,\n",
              "  4.6154010994265775,\n",
              "  4.1827763499635635,\n",
              "  3.7394759293758506,\n",
              "  3.4643340183026865,\n",
              "  3.3015332896300036,\n",
              "  3.192907721105248,\n",
              "  3.1192469211539837,\n",
              "  3.067950031974099,\n",
              "  3.0289800456075957,\n",
              "  2.999613263390281,\n",
              "  2.9750578764713174,\n",
              "  2.9563529708168725,\n",
              "  2.9405734250039766,\n",
              "  2.9276616838243275,\n",
              "  2.916150875765868,\n",
              "  2.9068920660500575,\n",
              "  2.8985664579603405,\n",
              "  2.891360981295807,\n",
              "  2.884855597910255,\n",
              "  2.87922275427616,\n",
              "  2.8740210894382363,\n",
              "  2.8691830442409323,\n",
              "  2.8649621467397672,\n",
              "  2.861083437698056,\n",
              "  2.857296589649085,\n",
              "  2.8537915764432964,\n",
              "  2.850415759616428,\n",
              "  2.8474447606789943,\n",
              "  2.8446051376034514,\n",
              "  2.841716438832909,\n",
              "  2.839073732645825,\n",
              "  2.8366180044231992,\n",
              "  2.83416787542478,\n",
              "  2.831502225663927,\n",
              "  2.8292608742762093,\n",
              "  2.8273560302426115,\n",
              "  2.825042652361321,\n",
              "  2.8228538132677174,\n",
              "  2.820811608825067,\n",
              "  2.818653217469803])"
            ]
          },
          "metadata": {
            "tags": []
          },
          "execution_count": 45
        }
      ]
    },
    {
      "cell_type": "code",
      "metadata": {
        "colab_type": "code",
        "id": "A8oxFr1jm17P",
        "colab": {
          "base_uri": "https://localhost:8080/",
          "height": 90
        },
        "outputId": "985142b1-448e-46fa-e1d4-a3d94803b0ed"
      },
      "source": [
        "CER_train_data= get_per(data_loader_val_letters,cpc_model,character_classifier)\n",
        "print('CER_train_data', CER_train_data)"
      ],
      "execution_count": null,
      "outputs": [
        {
          "output_type": "stream",
          "text": [
            "\r                                                                               \r\rN/A% (0 of 13) |                         | Elapsed Time: 0:00:00 ETA:  --:--:--"
          ],
          "name": "stderr"
        },
        {
          "output_type": "stream",
          "text": [
            "Starting the PER computation through beam search\n"
          ],
          "name": "stdout"
        },
        {
          "output_type": "stream",
          "text": [
            "100% (13 of 13) |########################| Elapsed Time: 0:07:25 Time:  0:07:25\n"
          ],
          "name": "stderr"
        },
        {
          "output_type": "stream",
          "text": [
            "Average PER 0.9647507064867658\n",
            "CER_train_data 0.9647507064867658\n"
          ],
          "name": "stdout"
        }
      ]
    },
    {
      "cell_type": "code",
      "metadata": {
        "id": "dj87qBbW9vEz",
        "colab_type": "code",
        "colab": {
          "base_uri": "https://localhost:8080/",
          "height": 55
        },
        "outputId": "f7f5ce89-b355-4394-85d9-646597eaf9db"
      },
      "source": [
        "letters_labels.keys()"
      ],
      "execution_count": null,
      "outputs": [
        {
          "output_type": "execute_result",
          "data": {
            "text/plain": [
              "dict_keys(['step', '200702-161703_yor_af2_elicit_0', '200702-161703_yor_af2_elicit_2', '200702-161703_yor_af2_elicit_3', '200702-161703_yor_af2_elicit_4', '200702-161703_yor_af2_elicit_5', '200702-161703_yor_af2_elicit_6', '200702-161703_yor_af2_elicit_7', '200702-161703_yor_af2_elicit_8', '200702-161703_yor_af2_elicit_9', '200702-161703_yor_af2_elicit_10', '200702-161703_yor_af2_elicit_11', '200702-161703_yor_af2_elicit_12', '200702-161703_yor_af2_elicit_13', '200702-161703_yor_af2_elicit_14', '200702-161703_yor_af2_elicit_15', '200702-161703_yor_af2_elicit_16', '200702-161703_yor_af2_elicit_17', '200702-161703_yor_af2_elicit_18', '200702-161703_yor_af2_elicit_19', '200702-161703_yor_af2_elicit_20', '200702-161703_yor_af2_elicit_21', '200702-161703_yor_af2_elicit_22', '200702-161703_yor_af2_elicit_24', '200702-161703_yor_af2_elicit_25', '200702-161703_yor_af2_elicit_26', '200702-161703_yor_af2_elicit_27', '200702-161703_yor_af2_elicit_28', '200702-161703_yor_af2_elicit_29', '200702-161703_yor_af2_elicit_30', '200702-161703_yor_af2_elicit_31', '200702-161703_yor_af2_elicit_32', '200702-161703_yor_af2_elicit_33', '200702-161703_yor_af2_elicit_34', '200702-161703_yor_af2_elicit_35', '200702-161703_yor_af2_elicit_36', '200702-161703_yor_af2_elicit_38', '200702-161703_yor_af2_elicit_39', '200702-161703_yor_af2_elicit_40', '200702-161703_yor_af2_elicit_41', '200702-161703_yor_af2_elicit_42', '200702-161703_yor_af2_elicit_43', '200702-161703_yor_af2_elicit_44', '200702-161703_yor_af2_elicit_45', '200702-161703_yor_af2_elicit_46', '200702-161703_yor_af2_elicit_47', '200702-161703_yor_af2_elicit_48', '200702-161703_yor_af2_elicit_49', '200702-163843_yor_af2_elicit_0', '200702-163843_yor_af2_elicit_1', '200702-163843_yor_af2_elicit_2', '200702-163843_yor_af2_elicit_3', '200702-163843_yor_af2_elicit_4', '200702-163843_yor_af2_elicit_5', '200702-163843_yor_af2_elicit_6', '200702-163843_yor_af2_elicit_8', '200702-163843_yor_af2_elicit_9', '200702-163843_yor_af2_elicit_10', '200702-163843_yor_af2_elicit_11', '200702-163843_yor_af2_elicit_12', '200702-163843_yor_af2_elicit_13', '200702-163843_yor_af2_elicit_14', '200702-163843_yor_af2_elicit_15', '200702-163843_yor_af2_elicit_16', '200702-163843_yor_af2_elicit_17', '200702-163843_yor_af2_elicit_18', '200702-163843_yor_af2_elicit_19', '200702-163843_yor_af2_elicit_20', '200702-163843_yor_af2_elicit_21', '200702-163843_yor_af2_elicit_22', '200702-163843_yor_af2_elicit_23', '200702-163843_yor_af2_elicit_24', '200702-163843_yor_af2_elicit_25', '200702-163843_yor_af2_elicit_26', '200702-163843_yor_af2_elicit_27', '200702-163843_yor_af2_elicit_28', '200702-163843_yor_af2_elicit_29', '200702-163843_yor_af2_elicit_30', '200702-163843_yor_af2_elicit_31', '200702-163843_yor_af2_elicit_32', '200702-163843_yor_af2_elicit_33', '200702-163843_yor_af2_elicit_34', '200702-163843_yor_af2_elicit_35', '200702-163843_yor_af2_elicit_36', '200702-163843_yor_af2_elicit_37', '200702-163843_yor_af2_elicit_38', '200702-163843_yor_af2_elicit_39', '200702-163843_yor_af2_elicit_40', '200702-163843_yor_af2_elicit_41', '200702-163843_yor_af2_elicit_42', '200702-163843_yor_af2_elicit_43', '200702-163843_yor_af2_elicit_44', '200702-163843_yor_af2_elicit_45', '200702-163843_yor_af2_elicit_46', '200702-163843_yor_af2_elicit_47', '200702-163843_yor_af2_elicit_48', '200702-163843_yor_af2_elicit_49', '200702-165613_yor_af2_elicit_0', '200702-165613_yor_af2_elicit_2', '200702-165613_yor_af2_elicit_3', '200702-165613_yor_af2_elicit_4', '200702-165613_yor_af2_elicit_5', '200702-165613_yor_af2_elicit_6', '200702-165613_yor_af2_elicit_7', '200702-165613_yor_af2_elicit_8', '200702-165613_yor_af2_elicit_9', '200702-165613_yor_af2_elicit_11', '200702-165613_yor_af2_elicit_12', '200702-165613_yor_af2_elicit_13', '200702-165613_yor_af2_elicit_14', '200702-165613_yor_af2_elicit_15', '200702-165613_yor_af2_elicit_16', '200702-165613_yor_af2_elicit_17', '200702-165613_yor_af2_elicit_18', '200702-165613_yor_af2_elicit_19', '200702-165613_yor_af2_elicit_20', '200702-165613_yor_af2_elicit_21', '200702-165613_yor_af2_elicit_22', '200702-165613_yor_af2_elicit_23', '200702-165613_yor_af2_elicit_24', '200702-165613_yor_af2_elicit_25', '200702-165613_yor_af2_elicit_26', '200702-165613_yor_af2_elicit_27', '200702-165613_yor_af2_elicit_28', '200702-165613_yor_af2_elicit_29', '200702-165613_yor_af2_elicit_30', '200702-165613_yor_af2_elicit_31', '200702-165613_yor_af2_elicit_32', '200702-165613_yor_af2_elicit_33', '200702-165613_yor_af2_elicit_34', '200702-165613_yor_af2_elicit_35', '200702-165613_yor_af2_elicit_36', '200702-165613_yor_af2_elicit_37', '200702-165613_yor_af2_elicit_38', '200702-165613_yor_af2_elicit_39', '200702-165613_yor_af2_elicit_40', '200702-165613_yor_af2_elicit_41', '200702-165613_yor_af2_elicit_42', '200702-165613_yor_af2_elicit_43', '200702-165613_yor_af2_elicit_44', '200702-165613_yor_af2_elicit_45', '200702-165613_yor_af2_elicit_46', '200702-165613_yor_af2_elicit_47', '200702-165613_yor_af2_elicit_49', '200702-170649_yor_af2_elicit_0', '200702-170649_yor_af2_elicit_1', '200702-170649_yor_af2_elicit_2', '200702-170649_yor_af2_elicit_3', '200702-170649_yor_af2_elicit_4', '200702-170649_yor_af2_elicit_5', '200702-170649_yor_af2_elicit_6', '200702-170649_yor_af2_elicit_7', '200702-170649_yor_af2_elicit_8', '200702-170649_yor_af2_elicit_9', '200702-170649_yor_af2_elicit_10', '200702-170649_yor_af2_elicit_12', '200702-170649_yor_af2_elicit_13', '200702-170649_yor_af2_elicit_14', '200702-170649_yor_af2_elicit_15', '200702-170649_yor_af2_elicit_16', '200702-170649_yor_af2_elicit_17', '200702-170649_yor_af2_elicit_18', '200702-170649_yor_af2_elicit_19', '200702-170649_yor_af2_elicit_20', '200702-170649_yor_af2_elicit_21', '200702-170649_yor_af2_elicit_22', '200702-170649_yor_af2_elicit_23', '200702-170649_yor_af2_elicit_24', '200702-170649_yor_af2_elicit_25', '200702-170649_yor_af2_elicit_26', '200702-170649_yor_af2_elicit_27', '200702-170649_yor_af2_elicit_28', '200702-170649_yor_af2_elicit_29', '200702-170649_yor_af2_elicit_30', '200702-170649_yor_af2_elicit_31', '200702-170649_yor_af2_elicit_32', '200702-170649_yor_af2_elicit_33', '200702-170649_yor_af2_elicit_34', '200702-170649_yor_af2_elicit_35', '200702-170649_yor_af2_elicit_36', '200702-170649_yor_af2_elicit_37', '200702-170649_yor_af2_elicit_38', '200702-170649_yor_af2_elicit_39', '200702-170649_yor_af2_elicit_40', '200702-170649_yor_af2_elicit_41', '200702-170649_yor_af2_elicit_42', '200702-170649_yor_af2_elicit_43', '200702-170649_yor_af2_elicit_44', '200702-170649_yor_af2_elicit_45', '200702-170649_yor_af2_elicit_46', '200702-170649_yor_af2_elicit_47', '200702-170649_yor_af2_elicit_48', '200702-170649_yor_af2_elicit_49', '200702-171756_yor_af2_elicit_0', '200702-171756_yor_af2_elicit_1', '200702-171756_yor_af2_elicit_2', '200702-171756_yor_af2_elicit_3', '200702-171756_yor_af2_elicit_4', '200702-171756_yor_af2_elicit_6', '200702-171756_yor_af2_elicit_7', '200702-171756_yor_af2_elicit_8', '200702-171756_yor_af2_elicit_9', '200702-171756_yor_af2_elicit_10', '200702-171756_yor_af2_elicit_11', '200702-171756_yor_af2_elicit_12', '200702-171756_yor_af2_elicit_13', '200702-171756_yor_af2_elicit_14', '200702-171756_yor_af2_elicit_15', '200702-171756_yor_af2_elicit_16', '200702-171756_yor_af2_elicit_17', '200702-171756_yor_af2_elicit_18', '200702-171756_yor_af2_elicit_19', '200702-171756_yor_af2_elicit_20', '200702-171756_yor_af2_elicit_21', '200702-171756_yor_af2_elicit_22', '200702-171756_yor_af2_elicit_23', '200702-171756_yor_af2_elicit_24', '200702-171756_yor_af2_elicit_25', '200702-171756_yor_af2_elicit_26', '200702-171756_yor_af2_elicit_27', '200702-171756_yor_af2_elicit_28', '200702-171756_yor_af2_elicit_30', '200702-171756_yor_af2_elicit_31', '200702-171756_yor_af2_elicit_32', '200702-171756_yor_af2_elicit_33', '200702-171756_yor_af2_elicit_34', '200702-171756_yor_af2_elicit_35', '200702-171756_yor_af2_elicit_36', '200702-171756_yor_af2_elicit_37', '200702-171756_yor_af2_elicit_38', '200702-171756_yor_af2_elicit_39', '200702-171756_yor_af2_elicit_40', '200702-171756_yor_af2_elicit_41', '200702-171756_yor_af2_elicit_42', '200702-171756_yor_af2_elicit_43', '200702-171756_yor_af2_elicit_44', '200702-171756_yor_af2_elicit_45', '200702-171756_yor_af2_elicit_46', '200702-171756_yor_af2_elicit_47', '200702-171756_yor_af2_elicit_48', '200702-171756_yor_af2_elicit_49', '200702-171756_yor_af2_elicit_50', '200702-171756_yor_af2_elicit_51', '200702-171756_yor_af2_elicit_52', '200702-171756_yor_af2_elicit_53', '200630-105601_yor_af2_elicit_0', '200630-105601_yor_af2_elicit_2', '200630-105601_yor_af2_elicit_3', '200630-105601_yor_af2_elicit_4', '200630-105601_yor_af2_elicit_5', '200630-105601_yor_af2_elicit_6', '200630-105601_yor_af2_elicit_7', '200630-105601_yor_af2_elicit_8', '200630-105601_yor_af2_elicit_9', '200630-105601_yor_af2_elicit_10', '200630-105601_yor_af2_elicit_11', '200630-105601_yor_af2_elicit_12', '200630-105601_yor_af2_elicit_13', '200630-105601_yor_af2_elicit_14', '200630-105601_yor_af2_elicit_15', '200630-105601_yor_af2_elicit_16', '200630-105601_yor_af2_elicit_17', '200630-105601_yor_af2_elicit_18', '200630-105601_yor_af2_elicit_19', '200630-105601_yor_af2_elicit_20', '200630-105601_yor_af2_elicit_21', '200630-105601_yor_af2_elicit_22', '200630-105601_yor_af2_elicit_23', '200630-105601_yor_af2_elicit_24', '200630-105601_yor_af2_elicit_25', '200630-105601_yor_af2_elicit_26', '200630-105601_yor_af2_elicit_27', '200630-105601_yor_af2_elicit_28', '200630-105601_yor_af2_elicit_29', '200630-105601_yor_af2_elicit_30', '200630-105601_yor_af2_elicit_31', '200630-105601_yor_af2_elicit_32', '200630-105601_yor_af2_elicit_33', '200630-105601_yor_af2_elicit_34', '200630-105601_yor_af2_elicit_35', '200630-105601_yor_af2_elicit_36', '200630-105601_yor_af2_elicit_37', '200630-105601_yor_af2_elicit_38', '200702-162627_yor_af2_elicit_0', '200702-162627_yor_af2_elicit_1', '200702-162627_yor_af2_elicit_2', '200702-162627_yor_af2_elicit_3', '200702-162627_yor_af2_elicit_4', '200702-162627_yor_af2_elicit_5', '200702-162627_yor_af2_elicit_6', '200702-162627_yor_af2_elicit_7', '200702-162627_yor_af2_elicit_8', '200702-162627_yor_af2_elicit_9', '200702-162627_yor_af2_elicit_10', '200702-162627_yor_af2_elicit_11', '200702-162627_yor_af2_elicit_12', '200702-162627_yor_af2_elicit_14', '200702-162627_yor_af2_elicit_15', '200702-162627_yor_af2_elicit_16', '200702-162627_yor_af2_elicit_17', '200702-162627_yor_af2_elicit_18', '200702-162627_yor_af2_elicit_20', '200702-162627_yor_af2_elicit_21', '200702-162627_yor_af2_elicit_22', '200702-162627_yor_af2_elicit_23', '200702-162627_yor_af2_elicit_25', '200702-162627_yor_af2_elicit_26', '200702-162627_yor_af2_elicit_27', '200702-162627_yor_af2_elicit_28', '200702-162627_yor_af2_elicit_29', '200702-162627_yor_af2_elicit_30', '200702-162627_yor_af2_elicit_31', '200702-162627_yor_af2_elicit_32', '200702-162627_yor_af2_elicit_33', '200702-162627_yor_af2_elicit_34', '200702-162627_yor_af2_elicit_35', '200702-162627_yor_af2_elicit_36', '200702-162627_yor_af2_elicit_37', '200702-162627_yor_af2_elicit_38', '200702-162627_yor_af2_elicit_39', '200702-162627_yor_af2_elicit_40', '200702-162627_yor_af2_elicit_41', '200702-162627_yor_af2_elicit_42', '200702-162627_yor_af2_elicit_43', '200702-162627_yor_af2_elicit_44', '200702-162627_yor_af2_elicit_45', '200702-162627_yor_af2_elicit_46', '200702-162627_yor_af2_elicit_47', '200702-162627_yor_af2_elicit_48', '200702-162627_yor_af2_elicit_49', '200702-162627_yor_af2_elicit_50', '200702-162627_yor_af2_elicit_51', '200630-112622_yor_af2_elicit_0', '200630-112622_yor_af2_elicit_1', '200630-112622_yor_af2_elicit_3', '200630-112622_yor_af2_elicit_4', '200630-112622_yor_af2_elicit_5', '200630-112622_yor_af2_elicit_8', '200630-112622_yor_af2_elicit_9', '200630-112622_yor_af2_elicit_11', '200630-112622_yor_af2_elicit_12', '200630-112622_yor_af2_elicit_13', '200630-112622_yor_af2_elicit_14', '200630-112622_yor_af2_elicit_15', '200630-112622_yor_af2_elicit_16', '200630-112622_yor_af2_elicit_17', '200630-112622_yor_af2_elicit_18', '200630-112622_yor_af2_elicit_19', '200630-112622_yor_af2_elicit_20', '200630-112622_yor_af2_elicit_21', '200630-112622_yor_af2_elicit_22', '200630-112622_yor_af2_elicit_23', '200630-112622_yor_af2_elicit_24', '200630-112622_yor_af2_elicit_25', '200630-112622_yor_af2_elicit_26', '200630-112622_yor_af2_elicit_27', '200630-112622_yor_af2_elicit_28', '200630-112622_yor_af2_elicit_29', '200630-112622_yor_af2_elicit_30', '200630-112622_yor_af2_elicit_31', '200630-112622_yor_af2_elicit_32', '200630-112622_yor_af2_elicit_33', '200630-112622_yor_af2_elicit_34', '200630-112622_yor_af2_elicit_35', '200630-112622_yor_af2_elicit_36', '200630-112622_yor_af2_elicit_37', '200630-112622_yor_af2_elicit_38', '200630-112622_yor_af2_elicit_39', '200630-112622_yor_af2_elicit_40', '200630-112622_yor_af2_elicit_41', '200630-112622_yor_af2_elicit_42', '200630-112622_yor_af2_elicit_43', '200630-112622_yor_af2_elicit_45', '200630-112622_yor_af2_elicit_46', '200630-112622_yor_af2_elicit_47', '200630-112622_yor_af2_elicit_48', '200630-112622_yor_af2_elicit_49', '200702-164829_yor_af2_elicit_0', '200702-164829_yor_af2_elicit_1', '200702-164829_yor_af2_elicit_2', '200702-164829_yor_af2_elicit_3', '200702-164829_yor_af2_elicit_4', '200702-164829_yor_af2_elicit_5', '200702-164829_yor_af2_elicit_6', '200702-164829_yor_af2_elicit_7', '200702-164829_yor_af2_elicit_8', '200702-164829_yor_af2_elicit_9', '200702-164829_yor_af2_elicit_10', '200702-164829_yor_af2_elicit_11', '200702-164829_yor_af2_elicit_12', '200702-164829_yor_af2_elicit_13', '200702-164829_yor_af2_elicit_14', '200702-164829_yor_af2_elicit_15', '200702-164829_yor_af2_elicit_16', '200702-164829_yor_af2_elicit_17', '200702-164829_yor_af2_elicit_18', '200702-164829_yor_af2_elicit_19', '200702-164829_yor_af2_elicit_20', '200702-164829_yor_af2_elicit_21', '200702-164829_yor_af2_elicit_22', '200702-164829_yor_af2_elicit_23', '200702-164829_yor_af2_elicit_24', '200702-164829_yor_af2_elicit_25', '200702-164829_yor_af2_elicit_26', '200702-164829_yor_af2_elicit_27', '200702-164829_yor_af2_elicit_28', '200702-164829_yor_af2_elicit_29', '200702-164829_yor_af2_elicit_30', '200702-164829_yor_af2_elicit_31', '200702-164829_yor_af2_elicit_32', '200702-164829_yor_af2_elicit_33', '200702-164829_yor_af2_elicit_34', '200702-164829_yor_af2_elicit_35', '200702-164829_yor_af2_elicit_36', '200702-164829_yor_af2_elicit_37', '200702-164829_yor_af2_elicit_38', '200702-164829_yor_af2_elicit_39', '200702-164829_yor_af2_elicit_40', '200702-164829_yor_af2_elicit_41', '200702-164829_yor_af2_elicit_43', '200702-164829_yor_af2_elicit_44', '200702-164829_yor_af2_elicit_45', '200702-164829_yor_af2_elicit_46', '200702-164829_yor_af2_elicit_47', '200702-164829_yor_af2_elicit_48', '200702-164829_yor_af2_elicit_49', '200702-215647_yor_af2_elicit_0', '200702-215647_yor_af2_elicit_1', '200702-215647_yor_af2_elicit_2', '200702-215647_yor_af2_elicit_3', '200702-215647_yor_af2_elicit_4', '200702-215647_yor_af2_elicit_5', '200702-215647_yor_af2_elicit_6', '200702-215647_yor_af2_elicit_7', '200702-215647_yor_af2_elicit_8', '200702-215647_yor_af2_elicit_9', '200702-215647_yor_af2_elicit_10', '200702-215647_yor_af2_elicit_11', '200702-215647_yor_af2_elicit_12', '200702-215647_yor_af2_elicit_13', '200702-215647_yor_af2_elicit_14', '200702-215647_yor_af2_elicit_15', '200702-215647_yor_af2_elicit_16', '200702-215647_yor_af2_elicit_17', '200702-215647_yor_af2_elicit_18', '200702-215647_yor_af2_elicit_19', '200702-215647_yor_af2_elicit_20', '200702-215647_yor_af2_elicit_21', '200702-215647_yor_af2_elicit_22', '200702-215647_yor_af2_elicit_23', '200702-215647_yor_af2_elicit_24', '200702-215647_yor_af2_elicit_25', '200702-215647_yor_af2_elicit_26', '200702-215647_yor_af2_elicit_27', '200702-215647_yor_af2_elicit_28', '200702-215647_yor_af2_elicit_29', '200702-215647_yor_af2_elicit_30', '200702-215647_yor_af2_elicit_31', '200702-215647_yor_af2_elicit_32', '200702-215647_yor_af2_elicit_33', '200702-215647_yor_af2_elicit_34', '200702-215647_yor_af2_elicit_35', '200702-215647_yor_af2_elicit_36', '200702-215647_yor_af2_elicit_37', '200702-215647_yor_af2_elicit_38', '200702-215647_yor_af2_elicit_39', '200702-215647_yor_af2_elicit_40', '200702-215647_yor_af2_elicit_41', '200702-215647_yor_af2_elicit_42', '200702-215647_yor_af2_elicit_43', '200702-215647_yor_af2_elicit_44', '200702-215647_yor_af2_elicit_45', '200702-215647_yor_af2_elicit_46', '200702-215647_yor_af2_elicit_47', '200702-215647_yor_af2_elicit_48', '200702-215647_yor_af2_elicit_49', '200630-102033_yor_af2_elicit_0', '200630-102033_yor_af2_elicit_1', '200630-102033_yor_af2_elicit_2', '200630-102033_yor_af2_elicit_3', '200630-102033_yor_af2_elicit_4', '200630-102033_yor_af2_elicit_5', '200630-102033_yor_af2_elicit_6', '200630-102033_yor_af2_elicit_7', '200630-102033_yor_af2_elicit_8', '200630-102033_yor_af2_elicit_9', '200630-102033_yor_af2_elicit_10', '200630-102033_yor_af2_elicit_11', '200630-102033_yor_af2_elicit_12', '200630-102033_yor_af2_elicit_13', '200630-102033_yor_af2_elicit_14', '200630-102033_yor_af2_elicit_15', '200630-102033_yor_af2_elicit_16', '200630-102033_yor_af2_elicit_17', '200630-102033_yor_af2_elicit_18', '200630-102033_yor_af2_elicit_19', '200630-102033_yor_af2_elicit_20', '200630-102033_yor_af2_elicit_21', '200630-102033_yor_af2_elicit_22', '200630-102033_yor_af2_elicit_23', '200630-102033_yor_af2_elicit_24', '200630-102033_yor_af2_elicit_25', '200630-102033_yor_af2_elicit_26', '200630-102033_yor_af2_elicit_27', '200630-102033_yor_af2_elicit_28', '200630-102033_yor_af2_elicit_29', '200630-102033_yor_af2_elicit_30', '200630-102033_yor_af2_elicit_31', '200630-102033_yor_af2_elicit_32', '200630-102033_yor_af2_elicit_33', '200630-102033_yor_af2_elicit_34', '200630-102033_yor_af2_elicit_35', '200630-102033_yor_af2_elicit_36', '200630-102033_yor_af2_elicit_37', '200630-102033_yor_af2_elicit_38', '200630-102033_yor_af2_elicit_39', '200630-102033_yor_af2_elicit_40', '200630-102033_yor_af2_elicit_41', '200630-102033_yor_af2_elicit_42', '200630-102033_yor_af2_elicit_43', '200630-102033_yor_af2_elicit_44', '200630-102033_yor_af2_elicit_45', '200630-102033_yor_af2_elicit_46', '200630-102033_yor_af2_elicit_47', '200630-102033_yor_af2_elicit_48', '200630-102033_yor_af2_elicit_49', '200630-103818_yor_af2_elicit_0', '200630-103818_yor_af2_elicit_1', '200630-103818_yor_af2_elicit_2', '200630-103818_yor_af2_elicit_3', '200630-103818_yor_af2_elicit_4', '200630-103818_yor_af2_elicit_5', '200630-103818_yor_af2_elicit_6', '200630-103818_yor_af2_elicit_7', '200630-103818_yor_af2_elicit_8', '200630-103818_yor_af2_elicit_9', '200630-103818_yor_af2_elicit_10', '200630-103818_yor_af2_elicit_11', '200630-103818_yor_af2_elicit_12', '200630-103818_yor_af2_elicit_13', '200630-103818_yor_af2_elicit_14', '200630-103818_yor_af2_elicit_15', '200630-103818_yor_af2_elicit_16', '200630-103818_yor_af2_elicit_17', '200630-103818_yor_af2_elicit_18', '200630-103818_yor_af2_elicit_19', '200630-103818_yor_af2_elicit_20', '200630-103818_yor_af2_elicit_21', '200630-103818_yor_af2_elicit_22', '200630-103818_yor_af2_elicit_23', '200630-103818_yor_af2_elicit_24', '200630-103818_yor_af2_elicit_25', '200630-103818_yor_af2_elicit_26', '200630-103818_yor_af2_elicit_27', '200630-103818_yor_af2_elicit_28', '200630-103818_yor_af2_elicit_30', '200630-103818_yor_af2_elicit_31', '200630-103818_yor_af2_elicit_32', '200630-103818_yor_af2_elicit_33', '200630-103818_yor_af2_elicit_34', '200630-103818_yor_af2_elicit_35', '200630-103818_yor_af2_elicit_36', '200630-103818_yor_af2_elicit_37', '200630-103818_yor_af2_elicit_38', '200630-103818_yor_af2_elicit_39', '200630-103818_yor_af2_elicit_40', '200630-103818_yor_af2_elicit_41', '200630-103818_yor_af2_elicit_42', '200630-103818_yor_af2_elicit_43', '200630-103818_yor_af2_elicit_44', '200630-103818_yor_af2_elicit_45', '200630-103818_yor_af2_elicit_46', '200630-103818_yor_af2_elicit_47', '200630-103818_yor_af2_elicit_48', '200630-103818_yor_af2_elicit_49', '200625-160706_yor_af2_elicit_0', '200625-160706_yor_af2_elicit_1', '200625-160706_yor_af2_elicit_2', '200625-160706_yor_af2_elicit_4', '200625-160706_yor_af2_elicit_5', '200625-160706_yor_af2_elicit_6', '200625-160706_yor_af2_elicit_7', '200625-160706_yor_af2_elicit_8', '200625-160706_yor_af2_elicit_9', '200625-160706_yor_af2_elicit_11', '200625-160706_yor_af2_elicit_12', '200625-160706_yor_af2_elicit_13', '200625-160706_yor_af2_elicit_14', '200625-160706_yor_af2_elicit_15', '200625-160706_yor_af2_elicit_16', '200625-160706_yor_af2_elicit_17', '200625-160706_yor_af2_elicit_19', '200625-160706_yor_af2_elicit_21', '200625-160706_yor_af2_elicit_22', '200625-160706_yor_af2_elicit_24', '200625-160706_yor_af2_elicit_25', '200625-160706_yor_af2_elicit_26', '200625-160706_yor_af2_elicit_27', '200625-160706_yor_af2_elicit_28', '200625-160706_yor_af2_elicit_29', '200625-160706_yor_af2_elicit_30', '200625-160706_yor_af2_elicit_31', '200625-160706_yor_af2_elicit_32', '200625-160706_yor_af2_elicit_33', '200625-160706_yor_af2_elicit_34', '200625-160706_yor_af2_elicit_35', '200625-160706_yor_af2_elicit_36', '200625-160706_yor_af2_elicit_38', '200625-160706_yor_af2_elicit_40', '200625-160706_yor_af2_elicit_43', '200625-160706_yor_af2_elicit_44', '200625-160706_yor_af2_elicit_46', '200625-160706_yor_af2_elicit_47', '200625-160706_yor_af2_elicit_48', '200625-160706_yor_af2_elicit_49', '200630-100548_yor_af2_elicit_0', '200630-100548_yor_af2_elicit_1', '200630-100548_yor_af2_elicit_2', '200630-100548_yor_af2_elicit_3', '200630-100548_yor_af2_elicit_5', '200630-100548_yor_af2_elicit_7', '200630-100548_yor_af2_elicit_8', '200630-100548_yor_af2_elicit_9', '200630-100548_yor_af2_elicit_10', '200630-100548_yor_af2_elicit_11', '200630-100548_yor_af2_elicit_12', '200630-100548_yor_af2_elicit_13', '200630-100548_yor_af2_elicit_14', '200630-100548_yor_af2_elicit_15', '200630-100548_yor_af2_elicit_16', '200630-100548_yor_af2_elicit_17', '200630-100548_yor_af2_elicit_18', '200630-100548_yor_af2_elicit_19', '200630-100548_yor_af2_elicit_20', '200630-100548_yor_af2_elicit_21', '200630-100548_yor_af2_elicit_22', '200630-100548_yor_af2_elicit_23', '200630-100548_yor_af2_elicit_24', '200630-100548_yor_af2_elicit_25', '200630-100548_yor_af2_elicit_26', '200630-100548_yor_af2_elicit_27', '200630-100548_yor_af2_elicit_28', '200630-100548_yor_af2_elicit_29', '200630-100548_yor_af2_elicit_30', '200630-100548_yor_af2_elicit_31', '200630-100548_yor_af2_elicit_32', '200630-100548_yor_af2_elicit_33', '200630-100548_yor_af2_elicit_34', '200630-100548_yor_af2_elicit_35', '200630-100548_yor_af2_elicit_36', '200630-100548_yor_af2_elicit_37', '200630-100548_yor_af2_elicit_38', '200630-100548_yor_af2_elicit_39', '200630-100548_yor_af2_elicit_40', '200630-100548_yor_af2_elicit_41', '200630-100548_yor_af2_elicit_42', '200630-100548_yor_af2_elicit_43', '200630-100548_yor_af2_elicit_44', '200630-100548_yor_af2_elicit_45', '200630-100548_yor_af2_elicit_46', '200630-100548_yor_af2_elicit_47', '200630-100548_yor_af2_elicit_48', '200630-100548_yor_af2_elicit_49', '200625-162002_yor_af2_elicit_2', '200625-162002_yor_af2_elicit_3', '200625-162002_yor_af2_elicit_5', '200625-162002_yor_af2_elicit_6', '200625-162002_yor_af2_elicit_7', '200625-162002_yor_af2_elicit_8', '200625-162002_yor_af2_elicit_9', '200625-162002_yor_af2_elicit_15', '200625-162002_yor_af2_elicit_16', '200625-162002_yor_af2_elicit_17', '200625-162002_yor_af2_elicit_18', '200625-162002_yor_af2_elicit_19', '200625-162002_yor_af2_elicit_20', '200625-162002_yor_af2_elicit_21', '200625-162002_yor_af2_elicit_22', '200625-162002_yor_af2_elicit_23', '200625-162002_yor_af2_elicit_24', '200625-162002_yor_af2_elicit_25', '200625-162002_yor_af2_elicit_26', '200625-162002_yor_af2_elicit_27', '200625-162002_yor_af2_elicit_28', '200625-162002_yor_af2_elicit_29', '200625-162002_yor_af2_elicit_30', '200625-162002_yor_af2_elicit_32', '200625-162002_yor_af2_elicit_34', '200625-162002_yor_af2_elicit_35', '200625-162002_yor_af2_elicit_36', '200625-162002_yor_af2_elicit_37', '200625-162002_yor_af2_elicit_38', '200625-162002_yor_af2_elicit_39', '200625-162002_yor_af2_elicit_40', '200625-162002_yor_af2_elicit_41', '200625-162002_yor_af2_elicit_42', '200625-162002_yor_af2_elicit_43', '200625-162002_yor_af2_elicit_44', '200625-162002_yor_af2_elicit_46', '200625-162002_yor_af2_elicit_47', '200625-162002_yor_af2_elicit_48', '200625-162002_yor_af2_elicit_49', '200625-162002_yor_af2_elicit_50', '200630-095604_yor_af2_elicit_0', '200630-095604_yor_af2_elicit_1', '200630-095604_yor_af2_elicit_2', '200630-095604_yor_af2_elicit_3', '200630-095604_yor_af2_elicit_4', '200630-095604_yor_af2_elicit_5', '200630-095604_yor_af2_elicit_6', '200630-095604_yor_af2_elicit_7', '200630-095604_yor_af2_elicit_8', '200630-095604_yor_af2_elicit_9', '200630-095604_yor_af2_elicit_10', '200630-095604_yor_af2_elicit_11', '200630-095604_yor_af2_elicit_12', '200630-095604_yor_af2_elicit_13', '200630-095604_yor_af2_elicit_14', '200630-095604_yor_af2_elicit_15', '200630-095604_yor_af2_elicit_16', '200630-095604_yor_af2_elicit_17', '200630-095604_yor_af2_elicit_18', '200630-095604_yor_af2_elicit_19', '200630-095604_yor_af2_elicit_21', '200630-095604_yor_af2_elicit_22', '200630-095604_yor_af2_elicit_23', '200630-095604_yor_af2_elicit_24', '200630-095604_yor_af2_elicit_25', '200630-095604_yor_af2_elicit_26', '200630-095604_yor_af2_elicit_27', '200630-095604_yor_af2_elicit_28', '200630-095604_yor_af2_elicit_29', '200630-095604_yor_af2_elicit_30', '200630-095604_yor_af2_elicit_31', '200630-095604_yor_af2_elicit_32', '200630-095604_yor_af2_elicit_33', '200630-095604_yor_af2_elicit_34', '200630-095604_yor_af2_elicit_35', '200630-095604_yor_af2_elicit_36', '200630-095604_yor_af2_elicit_38', '200630-095604_yor_af2_elicit_39', '200630-095604_yor_af2_elicit_40', '200630-095604_yor_af2_elicit_41', '200630-095604_yor_af2_elicit_42', '200630-095604_yor_af2_elicit_43', '200630-095604_yor_af2_elicit_44', '200630-095604_yor_af2_elicit_45', '200630-095604_yor_af2_elicit_46', '200630-095604_yor_af2_elicit_47', '200630-095604_yor_af2_elicit_48', '200630-095604_yor_af2_elicit_49', '200625-153409_yor_af2_elicit_0', '200625-153409_yor_af2_elicit_1', '200625-153409_yor_af2_elicit_2', '200625-153409_yor_af2_elicit_3', '200625-153409_yor_af2_elicit_4', '200625-153409_yor_af2_elicit_5', '200625-153409_yor_af2_elicit_6', '200625-153409_yor_af2_elicit_7', '200625-153409_yor_af2_elicit_8', '200625-153409_yor_af2_elicit_9', '200625-153409_yor_af2_elicit_10', '200625-153409_yor_af2_elicit_11', '200625-153409_yor_af2_elicit_13', '200625-153409_yor_af2_elicit_14', '200625-153409_yor_af2_elicit_15', '200625-153409_yor_af2_elicit_16', '200625-153409_yor_af2_elicit_17', '200625-153409_yor_af2_elicit_18', '200625-153409_yor_af2_elicit_19', '200625-153409_yor_af2_elicit_20', '200625-153409_yor_af2_elicit_21', '200625-153409_yor_af2_elicit_22', '200625-153409_yor_af2_elicit_23', '200625-153409_yor_af2_elicit_24', '200625-153409_yor_af2_elicit_25', '200625-153409_yor_af2_elicit_26', '200625-153409_yor_af2_elicit_27', '200625-153409_yor_af2_elicit_28', '200625-153409_yor_af2_elicit_29', '200625-153409_yor_af2_elicit_30', '200625-153409_yor_af2_elicit_31', '200625-153409_yor_af2_elicit_32', '200625-153409_yor_af2_elicit_33', '200625-153409_yor_af2_elicit_34', '200625-153409_yor_af2_elicit_35', '200625-153409_yor_af2_elicit_36', '200625-153409_yor_af2_elicit_37', '200625-153409_yor_af2_elicit_38', '200625-153409_yor_af2_elicit_39', '200625-153409_yor_af2_elicit_40', '200625-153409_yor_af2_elicit_41', '200625-153409_yor_af2_elicit_43', '200625-153409_yor_af2_elicit_44', '200625-153409_yor_af2_elicit_45', '200625-153409_yor_af2_elicit_46', '200625-153409_yor_af2_elicit_47', '200625-153409_yor_af2_elicit_48', '200625-153409_yor_af2_elicit_49'])"
            ]
          },
          "metadata": {
            "tags": []
          },
          "execution_count": 88
        }
      ]
    },
    {
      "cell_type": "code",
      "metadata": {
        "id": "cNSHI_nf-8Fx",
        "colab_type": "code",
        "colab": {
          "base_uri": "https://localhost:8080/",
          "height": 145
        },
        "outputId": "fdcb654f-afe4-4d6e-e872-d5e5127c041f"
      },
      "source": [
        "path_test_data_cer = '/content/drive/My Drive/DATA/test_tmp'\n",
        "data_test_cer, _ = findAllSeqs(path_test_data_cer, extension='.wav')\n",
        "dataset_test_non_aligned = SingleSequenceDataset(path_test_data_cer, data_test_cer, letters_labels)\n",
        "data_loader_test_letters = torch.utils.data.DataLoader(dataset_test_non_aligned, batch_size=BATCH_SIZE, shuffle=True)"
      ],
      "execution_count": null,
      "outputs": [
        {
          "output_type": "stream",
          "text": [
            "20it [00:00, 648.66it/s]"
          ],
          "name": "stderr"
        },
        {
          "output_type": "stream",
          "text": [
            "Saved cache file at /content/drive/My Drive/DATA/test_tmp/_seqs_cache.txt\n"
          ],
          "name": "stdout"
        },
        {
          "output_type": "stream",
          "text": [
            "\n"
          ],
          "name": "stderr"
        },
        {
          "output_type": "stream",
          "text": [
            "Loaded 427 sequences in 3.84 seconds\n",
            "maxSizeSeq : 341946\n",
            "maxSizePhone : 98\n",
            "minSizePhone : 11\n",
            "Total size dataset 0.8195444965277778 hours\n"
          ],
          "name": "stdout"
        }
      ]
    },
    {
      "cell_type": "code",
      "metadata": {
        "id": "TyeN3uRs8v2B",
        "colab_type": "code",
        "colab": {
          "base_uri": "https://localhost:8080/",
          "height": 163
        },
        "outputId": "1089d92f-345f-489f-9a1f-58cfc738f570"
      },
      "source": [
        "from cpc.eval.common_voices_eval import SingleSequenceDataset, parseSeqLabels, findAllSeqs\n",
        "path_test_data_cer = '/content/drive/My Drive/DATA/test_tmp'\n",
        "path_letter_data_cer = '/content/drive/My Drive/DATA/all_sessions.txt'\n",
        "BATCH_SIZE=8\n",
        "letters_labels, N_LETTERS = parseSeqLabels(path_letter_data_cer)\n",
        "data_test_cer, _ = findAllSeqs(path_test_data_cer, extension='.wav')\n",
        "dataset_test_non_aligned = SingleSequenceDataset(path_test_data_cer, data_test_cer, letters_labels)\n",
        "# The data loader will generate a tuple of tensors data, labels for each batch\n",
        "# data : size N x T1 x 1 : the audio sequence\n",
        "# label : size N x T2 the sequence of letters corresponding to the audio data\n",
        "# IMPORTANT NOTE: just like the PER the CER is computed with non-aligned phone data.\n",
        "data_loader_test_letters = torch.utils.data.DataLoader(dataset_test_non_aligned, batch_size=BATCH_SIZE,\n",
        "                                                shuffle=True)\n",
        "\n",
        "\n",
        "loss = validation_step(cpc_model,  character_classifier, loss_ctc, data_loader_test_letters)\n",
        "print(f\"Average loss for test data : {loss}\")"
      ],
      "execution_count": null,
      "outputs": [
        {
          "output_type": "stream",
          "text": [
            "20it [00:00, 736.27it/s]"
          ],
          "name": "stderr"
        },
        {
          "output_type": "stream",
          "text": [
            "Saved cache file at /content/drive/My Drive/DATA/test_tmp/_seqs_cache.txt\n"
          ],
          "name": "stdout"
        },
        {
          "output_type": "stream",
          "text": [
            "\n"
          ],
          "name": "stderr"
        },
        {
          "output_type": "stream",
          "text": [
            "Loaded 427 sequences in 4.21 seconds\n",
            "maxSizeSeq : 341946\n",
            "maxSizePhone : 98\n",
            "minSizePhone : 11\n",
            "Total size dataset 0.8195444965277778 hours\n",
            "Average loss for test data : 57.92342491328996\n"
          ],
          "name": "stdout"
        }
      ]
    },
    {
      "cell_type": "code",
      "metadata": {
        "id": "2PGOstQmHBUH",
        "colab_type": "code",
        "colab": {
          "base_uri": "https://localhost:8080/",
          "height": 108
        },
        "outputId": "d6295557-3f09-482e-f945-13e7a71b972e"
      },
      "source": [
        "CER_test_data =get_per(data_loader_val_letters,cpc_model,character_classifier)\n",
        "print('CER_test_data', CER_test_data)"
      ],
      "execution_count": null,
      "outputs": [
        {
          "output_type": "stream",
          "text": [
            "\r                                                                               \r\rN/A% (0 of 13) |                         | Elapsed Time: 0:00:00 ETA:  --:--:--"
          ],
          "name": "stderr"
        },
        {
          "output_type": "stream",
          "text": [
            "Starting the PER computation through beam search\n"
          ],
          "name": "stdout"
        },
        {
          "output_type": "stream",
          "text": [
            "100% (13 of 13) |########################| Elapsed Time: 0:08:52 Time:  0:08:52\n"
          ],
          "name": "stderr"
        },
        {
          "output_type": "stream",
          "text": [
            "Average PER 0.9844334771946059\n",
            "CER_test_data 0.9844334771946059\n"
          ],
          "name": "stdout"
        }
      ]
    }
  ]
}